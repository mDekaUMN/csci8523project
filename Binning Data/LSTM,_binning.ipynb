{
  "nbformat": 4,
  "nbformat_minor": 0,
  "metadata": {
    "colab": {
      "provenance": []
    },
    "kernelspec": {
      "name": "python3",
      "display_name": "Python 3"
    },
    "language_info": {
      "name": "python"
    }
  },
  "cells": [
    {
      "cell_type": "markdown",
      "source": [
        "# CSCI 8523 Fall 2022 - predicting global crop yields from MODIS\n",
        "Tim Bodin, Maitrayee Deka, Varun Sethi, Josh Spitzer-Resnick"
      ],
      "metadata": {
        "id": "1DwNW6SlfKXm"
      }
    },
    {
      "cell_type": "markdown",
      "source": [
        "## resources"
      ],
      "metadata": {
        "id": "085o6lXQhZNQ"
      }
    },
    {
      "cell_type": "markdown",
      "source": [
        "Implementing LSTM\n",
        "- https://pytorch.org/docs/stable/generated/torch.nn.LSTM.html\n",
        "- https://cnvrg.io/pytorch-lstm/\n",
        "- https://pytorch.org/tutorials/beginner/nlp/sequence_models_tutorial.html\n",
        "- https://wandb.ai/sauravmaheshkar/LSTM-PyTorch/reports/Using-LSTM-in-PyTorch-A-Tutorial-With-Examples--VmlldzoxMDA2NTA5\n",
        "- https://blog.floydhub.com/long-short-term-memory-from-zero-to-hero-with-pytorch/\n",
        "- https://github.com/AnnaXWang/deep-transfer-learning-crop-prediction\n",
        "  - from Deep Transfer Learning for Crop Yield Prediction with Remote Sensing Data ([2018](https://dl.acm.org/doi/10.1145/3209811.3212707))\n",
        "- https://www.crosstab.io/articles/time-series-pytorch-lstm/\n",
        "- https://towardsdatascience.com/pytorch-lstms-for-time-series-data-cd16190929d7\n",
        "- https://towardsdatascience.com/building-rnn-lstm-and-gru-for-time-series-using-pytorch-a46e5b094e7b\n",
        "- https://www.crosstab.io/articles/time-series-pytorch-lstm/\n",
        "- https://towardsdatascience.com/lstm-and-bidirectional-lstm-for-regression-4fddf910c655\n",
        "\n",
        "Binnning strategies\n",
        "- 1: observations/year x bins (0 to 1 at 0.05 step) x metric/index/band (NDVI)\n",
        "  - (365/16 ~= 23) x 20 (x 1) (matrix)\n",
        "- 2: observations/year x bins (0 to 1 at 0.05 step) x metric/index/band (NDVI) x 50 states\n",
        "  - (365/16 ~= 23) x 20 (x 1) x 50 (tensor)\n",
        "- 3: observations/year x bins (0 to 1 at 0.05 step) x metric/index/band (NDVI, EWI, 1/red, 2/NIR, 3/blue, 7/MIR)\n",
        "  - (365/16 ~= 23) x 20 x 6 (tensor)\n",
        "\n",
        "Data\n",
        "- 20 + 21*23 + 17 = 520 observations\n",
        "  - 2000: day 49-353 (20 observations)\n",
        "  - 2001-2021 (21 years): day 1-353 (23 observations)\n",
        "  - 2022: day 1-257 (17 observations)\n",
        "- binning options\n",
        "  - full year for 2001-2021 (21 years)\n",
        "    - day 1-353 (23 observations) Jan 1 - Dec 19 (non leap year)\n",
        "  - max length for 2000-2022 (23 years) which removes winter\n",
        "    - day 49-257 (14 observations) Feb 18 - Sept 14 (non leap year)\n",
        "    - might get day 273 to make 15 observations until Sept 30 (non leap year)\n",
        "  - Tim: It looks like the correlation becomes \"relevant\" starting end May or early June (ie, starting period 145). 273 would be a good cutoff, but I can't seem to get it (working on it). Suggest you use 145-247 for high sensitivity for CORN and SB. Wheat might be sensitive earlier.\n",
        "    - day 145-247 (8 observations) May 25 - Sept 14 (non leap year)\n",
        "  - or just try day 209 histogram\n",
        "\n",
        "Cross validation\n",
        "- leave out 2012 (drought)\n",
        "- leave out 2022 (just October estimate of final)\n",
        "- leave out last 20%, first 20%, alternate throughout years\n",
        "\n",
        "Evalutation\n",
        "- RMSE is unit sensitive - use R^2 (percent variation in model - r is coef of determination)\n",
        "- perfect model has r^2 of 1, useless has r^2 of 0\n",
        "- normalized statistics can be used to\n",
        "- ( pred - actual(test) ) ^2 / (deviation of y from mean = actual - mean)\n",
        "- similar but normalizing it\n",
        "- RMSE / mean of y or 1 minus that might be equal\n",
        "- R^2 is accuracy measure, RMSE is error measure"
      ],
      "metadata": {
        "id": "3f925_6IfXOz"
      }
    },
    {
      "cell_type": "markdown",
      "source": [
        "## 1 imports"
      ],
      "metadata": {
        "id": "bz6pnISzqCoj"
      }
    },
    {
      "cell_type": "code",
      "execution_count": null,
      "metadata": {
        "id": "LsBjQvPbfDXT"
      },
      "outputs": [],
      "source": [
        "# imports\n",
        "from google.colab import drive # drive.mount\n",
        "# import os # os.scandir\n",
        "import pandas as pd\n",
        "# from pyhdf.SD import SD, SDC # scientific dataset # documentation https://github.com/fhs/pyhdf/blob/master/pyhdf/SD.py\n",
        "from matplotlib import pyplot as plt\n",
        "import numpy as np # np.load # NOPE np.linalg.norm\n",
        "from tqdm import tqdm"
      ]
    },
    {
      "cell_type": "code",
      "source": [
        "drive.mount('/content/drive')"
      ],
      "metadata": {
        "colab": {
          "base_uri": "https://localhost:8080/"
        },
        "id": "uXZYldM_qi5Q",
        "outputId": "ecf2526a-6808-4ee4-d966-689103c624c0"
      },
      "execution_count": null,
      "outputs": [
        {
          "output_type": "stream",
          "name": "stdout",
          "text": [
            "Mounted at /content/drive\n"
          ]
        }
      ]
    },
    {
      "cell_type": "markdown",
      "source": [
        "## 2 break modisUSA.npy into years"
      ],
      "metadata": {
        "id": "5NzZIDkXq64X"
      }
    },
    {
      "cell_type": "markdown",
      "source": [
        "### 2.1 slicing"
      ],
      "metadata": {
        "id": "3KANXuSmheRX"
      }
    },
    {
      "cell_type": "code",
      "source": [
        "modis_file = '/content/drive/Shareddrives/CSCI 8523 F22/Data/PhaseI/modisUSA.npy'"
      ],
      "metadata": {
        "id": "zKD4gv0zqje6"
      },
      "execution_count": null,
      "outputs": []
    },
    {
      "cell_type": "code",
      "source": [
        "modis_array = np.load(modis_file)"
      ],
      "metadata": {
        "id": "GCLAiwT7qyV-"
      },
      "execution_count": null,
      "outputs": []
    },
    {
      "cell_type": "code",
      "source": [
        "modis_array.shape"
      ],
      "metadata": {
        "colab": {
          "base_uri": "https://localhost:8080/"
        },
        "id": "0VFhGpGCqzrI",
        "outputId": "8267029e-6fa3-4dd6-a80b-4fe5c3c743e3"
      },
      "execution_count": null,
      "outputs": [
        {
          "output_type": "execute_result",
          "data": {
            "text/plain": [
              "(460, 1115, 520)"
            ]
          },
          "metadata": {},
          "execution_count": 5
        }
      ]
    },
    {
      "cell_type": "code",
      "source": [
        "# 2000\n",
        "modis_array[:, :, :20].shape"
      ],
      "metadata": {
        "colab": {
          "base_uri": "https://localhost:8080/"
        },
        "id": "O9MxTjNRsGgA",
        "outputId": "78d9eb9d-7455-4eda-9389-570c97b021fe"
      },
      "execution_count": null,
      "outputs": [
        {
          "output_type": "execute_result",
          "data": {
            "text/plain": [
              "(460, 1115, 20)"
            ]
          },
          "metadata": {},
          "execution_count": 6
        }
      ]
    },
    {
      "cell_type": "code",
      "source": [
        "# 2022\n",
        "modis_array[:, :, -17:].shape # 17 from end\n",
        "modis_array[:, :, 503:].shape # equivalent"
      ],
      "metadata": {
        "colab": {
          "base_uri": "https://localhost:8080/"
        },
        "id": "lg-BH7prsiDE",
        "outputId": "afd0376d-4a75-4c5f-c4c9-52fee3db9784"
      },
      "execution_count": null,
      "outputs": [
        {
          "output_type": "execute_result",
          "data": {
            "text/plain": [
              "(460, 1115, 17)"
            ]
          },
          "metadata": {},
          "execution_count": 7
        }
      ]
    },
    {
      "cell_type": "code",
      "source": [
        "# 2001-2021\n",
        "modis_array[:, :, 20:503].shape # includes start, exlcudes end"
      ],
      "metadata": {
        "colab": {
          "base_uri": "https://localhost:8080/"
        },
        "id": "-MyZKGFHsWVT",
        "outputId": "83b72877-1c4a-4a1a-cdb9-88df2ac93844"
      },
      "execution_count": null,
      "outputs": [
        {
          "output_type": "execute_result",
          "data": {
            "text/plain": [
              "(460, 1115, 483)"
            ]
          },
          "metadata": {},
          "execution_count": 8
        }
      ]
    },
    {
      "cell_type": "code",
      "source": [
        "modis_array[:, :, 20:(20+23)].shape"
      ],
      "metadata": {
        "colab": {
          "base_uri": "https://localhost:8080/"
        },
        "id": "rcRX9GncndAQ",
        "outputId": "15ac7520-de9a-4f77-d1af-4aca8f23503c"
      },
      "execution_count": null,
      "outputs": [
        {
          "output_type": "execute_result",
          "data": {
            "text/plain": [
              "(460, 1115, 23)"
            ]
          },
          "metadata": {},
          "execution_count": 9
        }
      ]
    },
    {
      "cell_type": "code",
      "source": [
        "modis_array.max()"
      ],
      "metadata": {
        "colab": {
          "base_uri": "https://localhost:8080/"
        },
        "id": "bbWBMvDOjvBg",
        "outputId": "bc984b82-cc7d-46de-aa9b-aa684a0a9d6f"
      },
      "execution_count": null,
      "outputs": [
        {
          "output_type": "execute_result",
          "data": {
            "text/plain": [
              "0.9913"
            ]
          },
          "metadata": {},
          "execution_count": 44
        }
      ]
    },
    {
      "cell_type": "markdown",
      "source": [
        "### 2.2 data structure for years"
      ],
      "metadata": {
        "id": "7V85DsZkhgBG"
      }
    },
    {
      "cell_type": "code",
      "source": [
        "# modis_per_year = { {}... }\n",
        "# year (int)\n",
        "# ... observations - all, inconsistent number for first and last\n",
        "# ... observations_49_257 - 14 observations, consistent for each year\n",
        "# ... bins(_10) - list of all observations in years as bins\n",
        "# ... bins(_20)\n",
        "# ... label - yield as float\n",
        "\n",
        "years = list(range(2000, 2023)) # 2000-2022"
      ],
      "metadata": {
        "id": "HhUsMngXhhRC"
      },
      "execution_count": null,
      "outputs": []
    },
    {
      "cell_type": "code",
      "source": [
        "modis_per_year = { year:{} for year in years } # year as key (int)"
      ],
      "metadata": {
        "id": "euAS7TJpkeOh"
      },
      "execution_count": null,
      "outputs": []
    },
    {
      "cell_type": "code",
      "source": [
        "# irregular\n",
        "modis_per_year[2000]['observations'] = modis_array[:, :, :20] # indices 0-19 (20)\n",
        "modis_per_year[2022]['observations'] = modis_array[:, :, 503:] # indices 503-519 (17)"
      ],
      "metadata": {
        "id": "X01Vj7TSlEsK"
      },
      "execution_count": null,
      "outputs": []
    },
    {
      "cell_type": "code",
      "source": [
        "observation_index = 20 # start at 21st observation\n",
        "for year in range(2001, 2022): # until 2021\n",
        "  print('year, observation indices', year, observation_index, observation_index+23)\n",
        "  modis_per_year[year]['observations'] = modis_array[:, :, observation_index:(observation_index+23)]\n",
        "  observation_index += 23"
      ],
      "metadata": {
        "colab": {
          "base_uri": "https://localhost:8080/"
        },
        "id": "AedTT-dymEAk",
        "outputId": "58a21b51-4648-41cd-a96f-7e857cda899c"
      },
      "execution_count": null,
      "outputs": [
        {
          "output_type": "stream",
          "name": "stdout",
          "text": [
            "year, observation indices 2001 20 43\n",
            "year, observation indices 2002 43 66\n",
            "year, observation indices 2003 66 89\n",
            "year, observation indices 2004 89 112\n",
            "year, observation indices 2005 112 135\n",
            "year, observation indices 2006 135 158\n",
            "year, observation indices 2007 158 181\n",
            "year, observation indices 2008 181 204\n",
            "year, observation indices 2009 204 227\n",
            "year, observation indices 2010 227 250\n",
            "year, observation indices 2011 250 273\n",
            "year, observation indices 2012 273 296\n",
            "year, observation indices 2013 296 319\n",
            "year, observation indices 2014 319 342\n",
            "year, observation indices 2015 342 365\n",
            "year, observation indices 2016 365 388\n",
            "year, observation indices 2017 388 411\n",
            "year, observation indices 2018 411 434\n",
            "year, observation indices 2019 434 457\n",
            "year, observation indices 2020 457 480\n",
            "year, observation indices 2021 480 503\n"
          ]
        }
      ]
    },
    {
      "cell_type": "code",
      "source": [
        "modis_per_year.keys() # modis_per_year[2000].keys()"
      ],
      "metadata": {
        "colab": {
          "base_uri": "https://localhost:8080/"
        },
        "id": "sWRZKZhXknPK",
        "outputId": "56b85d51-a001-4f76-f25c-e3a43405f08f"
      },
      "execution_count": null,
      "outputs": [
        {
          "output_type": "execute_result",
          "data": {
            "text/plain": [
              "dict_keys([2000, 2001, 2002, 2003, 2004, 2005, 2006, 2007, 2008, 2009, 2010, 2011, 2012, 2013, 2014, 2015, 2016, 2017, 2018, 2019, 2020, 2021, 2022])"
            ]
          },
          "metadata": {},
          "execution_count": 36
        }
      ]
    },
    {
      "cell_type": "markdown",
      "source": [
        "### binning - OLD, one set of bins each time"
      ],
      "metadata": {
        "id": "pufKc5b5pQvS"
      }
    },
    {
      "cell_type": "code",
      "source": [
        "# parameters\n",
        "BINS = 5 # 10 # 20\n",
        "MAX_VAL = 1 # modisUSA.npy already normalized\n",
        "MIN_VAL = 0"
      ],
      "metadata": {
        "id": "MWF13YBOpPoM"
      },
      "execution_count": null,
      "outputs": []
    },
    {
      "cell_type": "code",
      "source": [
        "# bins then image - O(bins*height*weight unless mark which pixels already sorted)\n",
        "# image then bins - stop iterating through bins when found appropriate - faster\n",
        "\n",
        "def get_bins_from_observation(modis_observation, bins, max_val, min_val):\n",
        "  # expect a matrix of height x width\n",
        "  binned_observation = np.zeros(bins)\n",
        "  increment = (max_val - min_val) / bins\n",
        "\n",
        "  height, width = modis_observation.shape\n",
        "  # print('height, width, pixels', height, width, height*width)\n",
        "\n",
        "  # \"\"\"\n",
        "  # bins then image - search all pixels for each bin (slower)\n",
        "  # size of image >> bins - iterate through image once for each bin\n",
        "  for bin_i in range(bins): # tqdm(range(bins)):\n",
        "    # print(bin_i, bin_i*increment, (bin_i+1)*increment) # floating point error, maybe should just hard code it?\n",
        "\n",
        "    # iterate through image, place pixels in given bin\n",
        "    for row in range(height):\n",
        "      for col in range(width):\n",
        "        # iterate through image once for each bin\n",
        "        if modis_observation[row, col] != 0: # don't want fill values\n",
        "          if (modis_observation[row, col] >= bin_i*increment) and (modis_observation[row, col] < (bin_i+1)*increment):\n",
        "            binned_observation[bin_i] += 1\n",
        "  # \"\"\"\n",
        "\n",
        "  \"\"\"\n",
        "  # image then bins - stop when find correct bin (faster unless all values in last bin)\n",
        "  # iterate through image, place pixels in given bin\n",
        "  for row in range(height):\n",
        "    for col in range(width):\n",
        "\n",
        "      # iterate through bins until once until find correct for each pixel\n",
        "      for bin_i in range(bins): # tqdm(range(bins)):\n",
        "        # print(bin_i, bin_i*increment, (bin_i+1)*increment) # floating point error, maybe should just hard code it?\n",
        "\n",
        "        if modis_observation[row, col] != 0: # don't want fill values\n",
        "          if (modis_observation[row, col] >= bin_i*increment) and (modis_observation[row, col] < (bin_i+1)*increment):\n",
        "            binned_observation[bin_i] += 1\n",
        "            break\n",
        "  \"\"\"\n",
        "\n",
        "  return binned_observation # array of size bins"
      ],
      "metadata": {
        "id": "VKJ0_p8ypPXy"
      },
      "execution_count": null,
      "outputs": []
    },
    {
      "cell_type": "code",
      "source": [
        "# 7sec 20 bins then image\n",
        "# 4sec image then 20 bins\n",
        "binned_modis = get_bins_from_observation(modis_per_year[2000]['observations'][:, :, 0], bins=BINS, max_val=MAX_VAL, min_val=MIN_VAL)\n",
        "binned_modis"
      ],
      "metadata": {
        "colab": {
          "base_uri": "https://localhost:8080/"
        },
        "id": "b2Y6SG-XqJa2",
        "outputId": "148833b1-4020-4639-ecae-9eb869d2691c"
      },
      "execution_count": null,
      "outputs": [
        {
          "output_type": "execute_result",
          "data": {
            "text/plain": [
              "array([3.7210e+03, 5.0755e+04, 8.9870e+03, 6.4900e+02, 1.0000e+00])"
            ]
          },
          "metadata": {},
          "execution_count": 122
        }
      ]
    },
    {
      "cell_type": "code",
      "source": [
        "binned_modis.sum() # worked ok with floating point error (reduced when remove 0s)"
      ],
      "metadata": {
        "colab": {
          "base_uri": "https://localhost:8080/"
        },
        "id": "UMC1RCUVw9Q3",
        "outputId": "8d0c7794-6d79-45d7-bc27-15fa5f4b909e"
      },
      "execution_count": null,
      "outputs": [
        {
          "output_type": "execute_result",
          "data": {
            "text/plain": [
              "64113.0"
            ]
          },
          "metadata": {},
          "execution_count": 123
        }
      ]
    },
    {
      "cell_type": "code",
      "source": [
        "modis_per_year[2000]['observations'][:, :, 0]"
      ],
      "metadata": {
        "colab": {
          "base_uri": "https://localhost:8080/"
        },
        "id": "khz3zuBrvDvg",
        "outputId": "ee7ed0a9-0786-48e8-8d70-daf0f30cc763"
      },
      "execution_count": null,
      "outputs": [
        {
          "output_type": "execute_result",
          "data": {
            "text/plain": [
              "array([[0., 0., 0., ..., 0., 0., 0.],\n",
              "       [0., 0., 0., ..., 0., 0., 0.],\n",
              "       [0., 0., 0., ..., 0., 0., 0.],\n",
              "       ...,\n",
              "       [0., 0., 0., ..., 0., 0., 0.],\n",
              "       [0., 0., 0., ..., 0., 0., 0.],\n",
              "       [0., 0., 0., ..., 0., 0., 0.]])"
            ]
          },
          "metadata": {},
          "execution_count": 18
        }
      ]
    },
    {
      "cell_type": "code",
      "source": [
        "3*0.05"
      ],
      "metadata": {
        "colab": {
          "base_uri": "https://localhost:8080/"
        },
        "id": "pLwgaWzQt0jg",
        "outputId": "2f844e2c-b7ab-4c06-9556-322e623206df"
      },
      "execution_count": null,
      "outputs": [
        {
          "output_type": "execute_result",
          "data": {
            "text/plain": [
              "0.15000000000000002"
            ]
          },
          "metadata": {},
          "execution_count": 19
        }
      ]
    },
    {
      "cell_type": "code",
      "source": [
        "# make bins for a year of observations\n",
        "def process_bins_batch(modis_observations_batch, bins, max_val, min_val):\n",
        "  _, _, num_observations = modis_observations_batch.shape\n",
        "  # print(num_observations)\n",
        "  binned_observations_list = []\n",
        "\n",
        "  for obs_i in tqdm(range(num_observations)):\n",
        "    binned_observation = get_bins_from_observation(modis_observations_batch[:, :, obs_i], bins=bins, max_val=max_val, min_val=min_val)\n",
        "    binned_observations_list.append(binned_observation)\n",
        "\n",
        "  return binned_observations_list # list of arrays of bins"
      ],
      "metadata": {
        "id": "hWaB3GLrx3qx"
      },
      "execution_count": null,
      "outputs": []
    },
    {
      "cell_type": "code",
      "source": [
        "# 20 observations - year 2000\n",
        "# bins then image\n",
        "#   20 bins - 2min\n",
        "#   10 bins - 55sec-1min\n",
        "#   5 bins - 29-30sec\n",
        "# image then bins\n",
        "#   20 bins - 1min 51sec\n",
        "#   10 bins - 56sec\n",
        "batch_binned_modis = process_bins_batch(modis_per_year[2000]['observations'], bins=BINS, max_val=MAX_VAL, min_val=MIN_VAL)\n",
        "batch_binned_modis"
      ],
      "metadata": {
        "colab": {
          "base_uri": "https://localhost:8080/"
        },
        "id": "TAOGUqJAyqkk",
        "outputId": "ce34e413-89d4-417e-89f5-03969dcda56e"
      },
      "execution_count": null,
      "outputs": [
        {
          "output_type": "stream",
          "name": "stdout",
          "text": [
            "20\n"
          ]
        },
        {
          "output_type": "stream",
          "name": "stderr",
          "text": [
            "100%|██████████| 20/20 [00:29<00:00,  1.47s/it]\n"
          ]
        },
        {
          "output_type": "execute_result",
          "data": {
            "text/plain": [
              "[array([3.7210e+03, 5.0755e+04, 8.9870e+03, 6.4900e+02, 1.0000e+00]),\n",
              " array([2.9360e+03, 4.9920e+04, 1.0363e+04, 1.1210e+03, 1.0000e+00]),\n",
              " array([2.0890e+03, 4.5075e+04, 1.4940e+04, 2.3040e+03, 4.0000e+00]),\n",
              " array([1.5280e+03, 4.1223e+04, 1.8499e+04, 3.2380e+03, 6.0000e+00]),\n",
              " array([  485., 33565., 25101.,  5302.,    42.]),\n",
              " array([   94., 20688., 29745., 13825.,   143.]),\n",
              " array([  121., 15093., 33378., 15788.,   115.]),\n",
              " array([1.5000e+01, 6.6820e+03, 3.2406e+04, 2.5079e+04, 3.1300e+02]),\n",
              " array([4.0000e+01, 3.6080e+03, 1.1501e+04, 4.4582e+04, 4.7640e+03]),\n",
              " array([   82.,  3362.,  8758., 29860., 22433.]),\n",
              " array([  189.,  3589.,  8947., 23499., 28271.]),\n",
              " array([  403.,  6034., 12406., 26810., 18842.]),\n",
              " array([  380.,  8343., 14887., 36215.,  4670.]),\n",
              " array([  638., 13993., 30788., 18661.,   415.]),\n",
              " array([5.7700e+02, 3.0233e+04, 2.4308e+04, 9.3720e+03, 5.0000e+00]),\n",
              " array([  455., 42861., 20030.,  1149.,     0.]),\n",
              " array([ 3908., 35816., 21675.,  1188.,     0.]),\n",
              " array([12818., 25472., 13055.,   299.,     0.]),\n",
              " array([16524., 23038.,  9589.,   179.,     0.]),\n",
              " array([2.1608e+04, 9.8120e+03, 2.5250e+03, 1.7600e+02, 1.0000e+00])]"
            ]
          },
          "metadata": {},
          "execution_count": 124
        }
      ]
    },
    {
      "cell_type": "code",
      "source": [
        "np.arange(0,1,step=1/BINS)"
      ],
      "metadata": {
        "colab": {
          "base_uri": "https://localhost:8080/"
        },
        "id": "Zf3LFZj2im6H",
        "outputId": "68c63bb2-cd3d-414d-8b48-12921898b003"
      },
      "execution_count": null,
      "outputs": [
        {
          "output_type": "execute_result",
          "data": {
            "text/plain": [
              "array([0. , 0.2, 0.4, 0.6, 0.8])"
            ]
          },
          "metadata": {},
          "execution_count": 126
        }
      ]
    },
    {
      "cell_type": "code",
      "source": [
        "for obs_i in range(len(batch_binned_modis)):\n",
        "  plt.bar(np.arange(0,1,step=1/BINS), batch_binned_modis[obs_i], align='edge', width=1/BINS)\n",
        "  plt.title('observation ' + str(obs_i))\n",
        "  plt.show()\n",
        "# plt.hist(np.arange(0,1,step=1/10), batch_binned_modis[0])"
      ],
      "metadata": {
        "colab": {
          "base_uri": "https://localhost:8080/",
          "height": 1000
        },
        "id": "sToOQnJAjJBe",
        "outputId": "c6e97d4c-62cb-441d-950b-0c5cd5df51f9"
      },
      "execution_count": null,
      "outputs": [
        {
          "output_type": "display_data",
          "data": {
            "text/plain": [
              "<Figure size 432x288 with 1 Axes>"
            ],
            "image/png": "[encoded data removed]"
          },
          "metadata": {
            "needs_background": "light"
          }
        },
        {
          "output_type": "display_data",
          "data": {
            "text/plain": [
              "<Figure size 432x288 with 1 Axes>"
            ],
            "image/png": "[encoded data removed]"
          },
          "metadata": {
            "needs_background": "light"
          }
        },
        {
          "output_type": "display_data",
          "data": {
            "text/plain": [
              "<Figure size 432x288 with 1 Axes>"
            ],
            "image/png": "[encoded data removed]"
          },
          "metadata": {
            "needs_background": "light"
          }
        },
        {
          "output_type": "display_data",
          "data": {
            "text/plain": [
              "<Figure size 432x288 with 1 Axes>"
            ],
            "image/png": "[encoded data removed]"
          },
          "metadata": {
            "needs_background": "light"
          }
        },
        {
          "output_type": "display_data",
          "data": {
            "text/plain": [
              "<Figure size 432x288 with 1 Axes>"
            ],
            "image/png": "[encoded data removed]"
          },
          "metadata": {
            "needs_background": "light"
          }
        },
        {
          "output_type": "display_data",
          "data": {
            "text/plain": [
              "<Figure size 432x288 with 1 Axes>"
            ],
            "image/png": "[encoded data removed]"
          },
          "metadata": {
            "needs_background": "light"
          }
        },
        {
          "output_type": "display_data",
          "data": {
            "text/plain": [
              "<Figure size 432x288 with 1 Axes>"
            ],
            "image/png": "[encoded data removed]"
          },
          "metadata": {
            "needs_background": "light"
          }
        },
        {
          "output_type": "display_data",
          "data": {
            "text/plain": [
              "<Figure size 432x288 with 1 Axes>"
            ],
            "image/png": "[encoded data removed]"
          },
          "metadata": {
            "needs_background": "light"
          }
        },
        {
          "output_type": "display_data",
          "data": {
            "text/plain": [
              "<Figure size 432x288 with 1 Axes>"
            ],
            "image/png": "[encoded data removed]"
          },
          "metadata": {
            "needs_background": "light"
          }
        },
        {
          "output_type": "display_data",
          "data": {
            "text/plain": [
              "<Figure size 432x288 with 1 Axes>"
            ],
            "image/png": "[encoded data removed]"
          },
          "metadata": {
            "needs_background": "light"
          }
        },
        {
          "output_type": "display_data",
          "data": {
            "text/plain": [
              "<Figure size 432x288 with 1 Axes>"
            ],
            "image/png": "[encoded data removed]"
          },
          "metadata": {
            "needs_background": "light"
          }
        },
        {
          "output_type": "display_data",
          "data": {
            "text/plain": [
              "<Figure size 432x288 with 1 Axes>"
            ],
            "image/png": "[encoded data removed]"
          },
          "metadata": {
            "needs_background": "light"
          }
        },
        {
          "output_type": "display_data",
          "data": {
            "text/plain": [
              "<Figure size 432x288 with 1 Axes>"
            ],
            "image/png": "[encoded data removed]"
          },
          "metadata": {
            "needs_background": "light"
          }
        },
        {
          "output_type": "display_data",
          "data": {
            "text/plain": [
              "<Figure size 432x288 with 1 Axes>"
            ],
            "image/png": "[encoded data removed]"
          },
          "metadata": {
            "needs_background": "light"
          }
        },
        {
          "output_type": "display_data",
          "data": {
            "text/plain": [
              "<Figure size 432x288 with 1 Axes>"
            ],
            "image/png": "[encoded data removed]"
          },
          "metadata": {
            "needs_background": "light"
          }
        },
        {
          "output_type": "display_data",
          "data": {
            "text/plain": [
              "<Figure size 432x288 with 1 Axes>"
            ],
            "image/png": "[encoded data removed]"
          },
          "metadata": {
            "needs_background": "light"
          }
        },
        {
          "output_type": "display_data",
          "data": {
            "text/plain": [
              "<Figure size 432x288 with 1 Axes>"
            ],
            "image/png": "[encoded data removed]"
          },
          "metadata": {
            "needs_background": "light"
          }
        },
        {
          "output_type": "display_data",
          "data": {
            "text/plain": [
              "<Figure size 432x288 with 1 Axes>"
            ],
            "image/png": "[encoded data removed]"
          },
          "metadata": {
            "needs_background": "light"
          }
        },
        {
          "output_type": "display_data",
          "data": {
            "text/plain": [
              "<Figure size 432x288 with 1 Axes>"
            ],
            "image/png": "[encoded data removed]"
          },
          "metadata": {
            "needs_background": "light"
          }
        },
        {
          "output_type": "display_data",
          "data": {
            "text/plain": [
              "<Figure size 432x288 with 1 Axes>"
            ],
            "image/png": "[encoded data removed]"
          },
          "metadata": {
            "needs_background": "light"
          }
        }
      ]
    },
    {
      "cell_type": "code",
      "source": [
        "# place all bins in data structure - should take ~23min for 10 bins\n",
        "\n",
        "# bins then image\n",
        "#   20 bins -\n",
        "#   10 bins -\n",
        "#   5 bins - 13min 34sec\n",
        "# image then bins\n",
        "#   20 bins -\n",
        "#   10 bins -\n",
        "for year in tqdm(range(2000, 2023)): # until 2022\n",
        "  binned_observations = process_bins_batch(modis_per_year[year]['observations'], bins=BINS, max_val=MAX_VAL, min_val=MIN_VAL)\n",
        "  key = 'bins_' + str(BINS)\n",
        "  modis_per_year[year][key] = binned_observations"
      ],
      "metadata": {
        "colab": {
          "base_uri": "https://localhost:8080/"
        },
        "id": "4_c2RSy-1skX",
        "outputId": "51a7d085-1b55-4b4d-b8b3-ef14c70304c9"
      },
      "execution_count": null,
      "outputs": [
        {
          "output_type": "stream",
          "name": "stderr",
          "text": [
            "\r  0%|          | 0/23 [00:00<?, ?it/s]"
          ]
        },
        {
          "output_type": "stream",
          "name": "stdout",
          "text": [
            "20\n"
          ]
        },
        {
          "output_type": "stream",
          "name": "stderr",
          "text": [
            "\n",
            "  0%|          | 0/20 [00:00<?, ?it/s]\u001b[A\n",
            "  5%|▌         | 1/20 [00:01<00:34,  1.82s/it]\u001b[A\n",
            " 10%|█         | 2/20 [00:04<00:43,  2.43s/it]\u001b[A\n",
            " 15%|█▌        | 3/20 [00:06<00:37,  2.18s/it]\u001b[A\n",
            " 20%|██        | 4/20 [00:07<00:29,  1.86s/it]\u001b[A\n",
            " 25%|██▌       | 5/20 [00:09<00:25,  1.68s/it]\u001b[A\n",
            " 30%|███       | 6/20 [00:10<00:22,  1.58s/it]\u001b[A\n",
            " 35%|███▌      | 7/20 [00:12<00:19,  1.52s/it]\u001b[A\n",
            " 40%|████      | 8/20 [00:14<00:20,  1.72s/it]\u001b[A\n",
            " 45%|████▌     | 9/20 [00:15<00:17,  1.63s/it]\u001b[A\n",
            " 50%|█████     | 10/20 [00:17<00:15,  1.56s/it]\u001b[A\n",
            " 55%|█████▌    | 11/20 [00:18<00:13,  1.54s/it]\u001b[A\n",
            " 60%|██████    | 12/20 [00:19<00:11,  1.49s/it]\u001b[A\n",
            " 65%|██████▌   | 13/20 [00:21<00:10,  1.47s/it]\u001b[A\n",
            " 70%|███████   | 14/20 [00:22<00:08,  1.45s/it]\u001b[A\n",
            " 75%|███████▌  | 15/20 [00:24<00:07,  1.44s/it]\u001b[A\n",
            " 80%|████████  | 16/20 [00:25<00:05,  1.41s/it]\u001b[A\n",
            " 85%|████████▌ | 17/20 [00:26<00:04,  1.39s/it]\u001b[A\n",
            " 90%|█████████ | 18/20 [00:28<00:02,  1.38s/it]\u001b[A\n",
            " 95%|█████████▌| 19/20 [00:29<00:01,  1.36s/it]\u001b[A\n",
            "100%|██████████| 20/20 [00:30<00:00,  1.54s/it]\n",
            "  4%|▍         | 1/23 [00:30<11:17, 30.82s/it]"
          ]
        },
        {
          "output_type": "stream",
          "name": "stdout",
          "text": [
            "23\n"
          ]
        },
        {
          "output_type": "stream",
          "name": "stderr",
          "text": [
            "\n",
            "  0%|          | 0/23 [00:00<?, ?it/s]\u001b[A\n",
            "  4%|▍         | 1/23 [00:01<00:28,  1.29s/it]\u001b[A\n",
            "  9%|▊         | 2/23 [00:02<00:26,  1.28s/it]\u001b[A\n",
            " 13%|█▎        | 3/23 [00:03<00:25,  1.29s/it]\u001b[A\n",
            " 17%|█▋        | 4/23 [00:05<00:24,  1.29s/it]\u001b[A\n",
            " 22%|██▏       | 5/23 [00:06<00:23,  1.30s/it]\u001b[A\n",
            " 26%|██▌       | 6/23 [00:07<00:22,  1.32s/it]\u001b[A\n",
            " 30%|███       | 7/23 [00:09<00:21,  1.33s/it]\u001b[A\n",
            " 35%|███▍      | 8/23 [00:10<00:20,  1.34s/it]\u001b[A\n",
            " 39%|███▉      | 9/23 [00:12<00:21,  1.56s/it]\u001b[A\n",
            " 43%|████▎     | 10/23 [00:15<00:25,  1.93s/it]\u001b[A\n",
            " 48%|████▊     | 11/23 [00:16<00:21,  1.81s/it]\u001b[A\n",
            " 52%|█████▏    | 12/23 [00:18<00:18,  1.69s/it]\u001b[A\n",
            " 57%|█████▋    | 13/23 [00:19<00:16,  1.62s/it]\u001b[A\n",
            " 61%|██████    | 14/23 [00:21<00:14,  1.56s/it]\u001b[A\n",
            " 65%|██████▌   | 15/23 [00:23<00:13,  1.66s/it]\u001b[A\n",
            " 70%|██████▉   | 16/23 [00:24<00:11,  1.58s/it]\u001b[A\n",
            " 74%|███████▍  | 17/23 [00:25<00:09,  1.53s/it]\u001b[A\n",
            " 78%|███████▊  | 18/23 [00:27<00:07,  1.50s/it]\u001b[A\n",
            " 83%|████████▎ | 19/23 [00:28<00:05,  1.46s/it]\u001b[A\n",
            " 87%|████████▋ | 20/23 [00:30<00:04,  1.44s/it]\u001b[A\n",
            " 91%|█████████▏| 21/23 [00:31<00:02,  1.42s/it]\u001b[A\n",
            " 96%|█████████▌| 22/23 [00:32<00:01,  1.41s/it]\u001b[A\n",
            "100%|██████████| 23/23 [00:34<00:00,  1.49s/it]\n",
            "  9%|▊         | 2/23 [01:05<11:29, 32.81s/it]"
          ]
        },
        {
          "output_type": "stream",
          "name": "stdout",
          "text": [
            "23\n"
          ]
        },
        {
          "output_type": "stream",
          "name": "stderr",
          "text": [
            "\n",
            "  0%|          | 0/23 [00:00<?, ?it/s]\u001b[A\n",
            "  4%|▍         | 1/23 [00:01<00:29,  1.35s/it]\u001b[A\n",
            "  9%|▊         | 2/23 [00:02<00:28,  1.36s/it]\u001b[A\n",
            " 13%|█▎        | 3/23 [00:04<00:27,  1.37s/it]\u001b[A\n",
            " 17%|█▋        | 4/23 [00:05<00:25,  1.36s/it]\u001b[A\n",
            " 22%|██▏       | 5/23 [00:06<00:24,  1.34s/it]\u001b[A\n",
            " 26%|██▌       | 6/23 [00:08<00:22,  1.34s/it]\u001b[A\n",
            " 30%|███       | 7/23 [00:09<00:21,  1.35s/it]\u001b[A\n",
            " 35%|███▍      | 8/23 [00:10<00:20,  1.36s/it]\u001b[A\n",
            " 39%|███▉      | 9/23 [00:12<00:19,  1.36s/it]\u001b[A\n",
            " 43%|████▎     | 10/23 [00:13<00:17,  1.36s/it]\u001b[A\n",
            " 48%|████▊     | 11/23 [00:16<00:21,  1.82s/it]\u001b[A\n",
            " 52%|█████▏    | 12/23 [00:18<00:20,  1.85s/it]\u001b[A\n",
            " 57%|█████▋    | 13/23 [00:21<00:21,  2.14s/it]\u001b[A\n",
            " 61%|██████    | 14/23 [00:22<00:18,  2.01s/it]\u001b[A\n",
            " 65%|██████▌   | 15/23 [00:24<00:14,  1.83s/it]\u001b[A\n",
            " 70%|██████▉   | 16/23 [00:25<00:11,  1.70s/it]\u001b[A\n",
            " 74%|███████▍  | 17/23 [00:27<00:09,  1.60s/it]\u001b[A\n",
            " 78%|███████▊  | 18/23 [00:28<00:07,  1.54s/it]\u001b[A\n",
            " 83%|████████▎ | 19/23 [00:29<00:05,  1.48s/it]\u001b[A\n",
            " 87%|████████▋ | 20/23 [00:31<00:04,  1.45s/it]\u001b[A\n",
            " 91%|█████████▏| 21/23 [00:32<00:02,  1.42s/it]\u001b[A\n",
            " 96%|█████████▌| 22/23 [00:33<00:01,  1.40s/it]\u001b[A\n",
            "100%|██████████| 23/23 [00:35<00:00,  1.53s/it]\n",
            " 13%|█▎        | 3/23 [01:40<11:18, 33.92s/it]"
          ]
        },
        {
          "output_type": "stream",
          "name": "stdout",
          "text": [
            "23\n"
          ]
        },
        {
          "output_type": "stream",
          "name": "stderr",
          "text": [
            "\n",
            "  0%|          | 0/23 [00:00<?, ?it/s]\u001b[A\n",
            "  4%|▍         | 1/23 [00:01<00:29,  1.36s/it]\u001b[A\n",
            "  9%|▊         | 2/23 [00:02<00:28,  1.36s/it]\u001b[A\n",
            " 13%|█▎        | 3/23 [00:04<00:26,  1.35s/it]\u001b[A\n",
            " 17%|█▋        | 4/23 [00:05<00:25,  1.34s/it]\u001b[A\n",
            " 22%|██▏       | 5/23 [00:06<00:24,  1.35s/it]\u001b[A\n",
            " 26%|██▌       | 6/23 [00:08<00:23,  1.36s/it]\u001b[A\n",
            " 30%|███       | 7/23 [00:09<00:21,  1.36s/it]\u001b[A\n",
            " 35%|███▍      | 8/23 [00:10<00:20,  1.37s/it]\u001b[A\n",
            " 39%|███▉      | 9/23 [00:12<00:19,  1.38s/it]\u001b[A\n",
            " 43%|████▎     | 10/23 [00:13<00:17,  1.38s/it]\u001b[A\n",
            " 48%|████▊     | 11/23 [00:15<00:16,  1.38s/it]\u001b[A\n",
            " 52%|█████▏    | 12/23 [00:16<00:15,  1.38s/it]\u001b[A\n",
            " 57%|█████▋    | 13/23 [00:17<00:13,  1.39s/it]\u001b[A\n",
            " 61%|██████    | 14/23 [00:19<00:12,  1.38s/it]\u001b[A\n",
            " 65%|██████▌   | 15/23 [00:20<00:11,  1.38s/it]\u001b[A\n",
            " 70%|██████▉   | 16/23 [00:22<00:09,  1.40s/it]\u001b[A\n",
            " 74%|███████▍  | 17/23 [00:24<00:10,  1.67s/it]\u001b[A\n",
            " 78%|███████▊  | 18/23 [00:27<00:09,  2.00s/it]\u001b[A\n",
            " 83%|████████▎ | 19/23 [00:28<00:07,  1.82s/it]\u001b[A\n",
            " 87%|████████▋ | 20/23 [00:29<00:05,  1.67s/it]\u001b[A\n",
            " 91%|█████████▏| 21/23 [00:31<00:03,  1.58s/it]\u001b[A\n",
            " 96%|█████████▌| 22/23 [00:32<00:01,  1.51s/it]\u001b[A\n",
            "100%|██████████| 23/23 [00:33<00:00,  1.47s/it]\n",
            " 17%|█▋        | 4/23 [02:14<10:44, 33.90s/it]"
          ]
        },
        {
          "output_type": "stream",
          "name": "stdout",
          "text": [
            "23\n"
          ]
        },
        {
          "output_type": "stream",
          "name": "stderr",
          "text": [
            "\n",
            "  0%|          | 0/23 [00:00<?, ?it/s]\u001b[A\n",
            "  4%|▍         | 1/23 [00:01<00:29,  1.33s/it]\u001b[A\n",
            "  9%|▊         | 2/23 [00:02<00:28,  1.33s/it]\u001b[A\n",
            " 13%|█▎        | 3/23 [00:03<00:25,  1.30s/it]\u001b[A\n",
            " 17%|█▋        | 4/23 [00:05<00:24,  1.30s/it]\u001b[A\n",
            " 22%|██▏       | 5/23 [00:06<00:23,  1.32s/it]\u001b[A\n",
            " 26%|██▌       | 6/23 [00:07<00:22,  1.34s/it]\u001b[A\n",
            " 30%|███       | 7/23 [00:09<00:21,  1.36s/it]\u001b[A\n",
            " 35%|███▍      | 8/23 [00:12<00:26,  1.78s/it]\u001b[A\n",
            " 39%|███▉      | 9/23 [00:14<00:26,  1.93s/it]\u001b[A\n",
            " 43%|████▎     | 10/23 [00:15<00:22,  1.76s/it]\u001b[A\n",
            " 48%|████▊     | 11/23 [00:17<00:19,  1.64s/it]\u001b[A\n",
            " 52%|█████▏    | 12/23 [00:18<00:17,  1.57s/it]\u001b[A\n",
            " 57%|█████▋    | 13/23 [00:19<00:15,  1.53s/it]\u001b[A\n",
            " 61%|██████    | 14/23 [00:21<00:13,  1.49s/it]\u001b[A\n",
            " 65%|██████▌   | 15/23 [00:22<00:11,  1.46s/it]\u001b[A\n",
            " 70%|██████▉   | 16/23 [00:24<00:10,  1.44s/it]\u001b[A\n",
            " 74%|███████▍  | 17/23 [00:25<00:08,  1.42s/it]\u001b[A\n",
            " 78%|███████▊  | 18/23 [00:26<00:06,  1.40s/it]\u001b[A\n",
            " 83%|████████▎ | 19/23 [00:28<00:05,  1.39s/it]\u001b[A\n",
            " 87%|████████▋ | 20/23 [00:30<00:04,  1.58s/it]\u001b[A\n",
            " 91%|█████████▏| 21/23 [00:32<00:03,  1.94s/it]\u001b[A\n",
            " 96%|█████████▌| 22/23 [00:34<00:01,  1.80s/it]\u001b[A\n",
            "100%|██████████| 23/23 [00:35<00:00,  1.56s/it]\n",
            " 22%|██▏       | 5/23 [02:49<10:22, 34.60s/it]"
          ]
        },
        {
          "output_type": "stream",
          "name": "stdout",
          "text": [
            "23\n"
          ]
        },
        {
          "output_type": "stream",
          "name": "stderr",
          "text": [
            "\n",
            "  0%|          | 0/23 [00:00<?, ?it/s]\u001b[A\n",
            "  4%|▍         | 1/23 [00:01<00:28,  1.32s/it]\u001b[A\n",
            "  9%|▊         | 2/23 [00:02<00:27,  1.32s/it]\u001b[A\n",
            " 13%|█▎        | 3/23 [00:03<00:26,  1.33s/it]\u001b[A\n",
            " 17%|█▋        | 4/23 [00:05<00:25,  1.33s/it]\u001b[A\n",
            " 22%|██▏       | 5/23 [00:06<00:24,  1.34s/it]\u001b[A\n",
            " 26%|██▌       | 6/23 [00:08<00:22,  1.35s/it]\u001b[A\n",
            " 30%|███       | 7/23 [00:09<00:21,  1.36s/it]\u001b[A\n",
            " 35%|███▍      | 8/23 [00:10<00:20,  1.36s/it]\u001b[A\n",
            " 39%|███▉      | 9/23 [00:12<00:19,  1.38s/it]\u001b[A\n",
            " 43%|████▎     | 10/23 [00:13<00:17,  1.38s/it]\u001b[A\n",
            " 48%|████▊     | 11/23 [00:14<00:16,  1.39s/it]\u001b[A\n",
            " 52%|█████▏    | 12/23 [00:16<00:15,  1.41s/it]\u001b[A\n",
            " 57%|█████▋    | 13/23 [00:17<00:14,  1.42s/it]\u001b[A\n",
            " 61%|██████    | 14/23 [00:19<00:12,  1.42s/it]\u001b[A\n",
            " 65%|██████▌   | 15/23 [00:20<00:11,  1.42s/it]\u001b[A\n",
            " 70%|██████▉   | 16/23 [00:22<00:09,  1.42s/it]\u001b[A\n",
            " 74%|███████▍  | 17/23 [00:23<00:08,  1.43s/it]\u001b[A\n",
            " 78%|███████▊  | 18/23 [00:24<00:07,  1.41s/it]\u001b[A\n",
            " 83%|████████▎ | 19/23 [00:26<00:05,  1.45s/it]\u001b[A\n",
            " 87%|████████▋ | 20/23 [00:28<00:04,  1.56s/it]\u001b[A\n",
            " 91%|█████████▏| 21/23 [00:30<00:03,  1.78s/it]\u001b[A\n",
            " 96%|█████████▌| 22/23 [00:32<00:01,  1.74s/it]\u001b[A\n",
            "100%|██████████| 23/23 [00:36<00:00,  1.58s/it]\n",
            " 26%|██▌       | 6/23 [03:26<09:58, 35.22s/it]"
          ]
        },
        {
          "output_type": "stream",
          "name": "stdout",
          "text": [
            "23\n"
          ]
        },
        {
          "output_type": "stream",
          "name": "stderr",
          "text": [
            "\n",
            "  0%|          | 0/23 [00:00<?, ?it/s]\u001b[A\n",
            "  4%|▍         | 1/23 [00:04<01:36,  4.38s/it]\u001b[A\n",
            "  9%|▊         | 2/23 [00:05<00:57,  2.72s/it]\u001b[A\n",
            " 13%|█▎        | 3/23 [00:07<00:41,  2.09s/it]\u001b[A\n",
            " 17%|█▋        | 4/23 [00:09<00:39,  2.06s/it]\u001b[A\n",
            " 22%|██▏       | 5/23 [00:11<00:38,  2.15s/it]\u001b[A\n",
            " 26%|██▌       | 6/23 [00:13<00:37,  2.19s/it]\u001b[A\n",
            " 30%|███       | 7/23 [00:15<00:34,  2.14s/it]\u001b[A\n",
            " 35%|███▍      | 8/23 [00:17<00:29,  1.94s/it]\u001b[A\n",
            " 39%|███▉      | 9/23 [00:18<00:24,  1.77s/it]\u001b[A\n",
            " 43%|████▎     | 10/23 [00:22<00:28,  2.20s/it]\u001b[A\n",
            " 48%|████▊     | 11/23 [00:24<00:26,  2.19s/it]\u001b[A\n",
            " 52%|█████▏    | 12/23 [00:26<00:23,  2.17s/it]\u001b[A\n",
            " 57%|█████▋    | 13/23 [00:28<00:21,  2.10s/it]\u001b[A\n",
            " 61%|██████    | 14/23 [00:30<00:19,  2.12s/it]\u001b[A\n",
            " 65%|██████▌   | 15/23 [00:31<00:15,  1.92s/it]\u001b[A\n",
            " 70%|██████▉   | 16/23 [00:34<00:14,  2.01s/it]\u001b[A\n",
            " 74%|███████▍  | 17/23 [00:35<00:10,  1.83s/it]\u001b[A\n",
            " 78%|███████▊  | 18/23 [00:36<00:08,  1.72s/it]\u001b[A\n",
            " 83%|████████▎ | 19/23 [00:39<00:07,  1.89s/it]\u001b[A\n",
            " 87%|████████▋ | 20/23 [00:42<00:06,  2.16s/it]\u001b[A\n",
            " 91%|█████████▏| 21/23 [00:43<00:03,  1.92s/it]\u001b[A\n",
            " 96%|█████████▌| 22/23 [00:44<00:01,  1.76s/it]\u001b[A\n",
            "100%|██████████| 23/23 [00:46<00:00,  2.00s/it]\n",
            " 30%|███       | 7/23 [04:12<10:20, 38.79s/it]"
          ]
        },
        {
          "output_type": "stream",
          "name": "stdout",
          "text": [
            "23\n"
          ]
        },
        {
          "output_type": "stream",
          "name": "stderr",
          "text": [
            "\n",
            "  0%|          | 0/23 [00:00<?, ?it/s]\u001b[A\n",
            "  4%|▍         | 1/23 [00:01<00:29,  1.34s/it]\u001b[A\n",
            "  9%|▊         | 2/23 [00:02<00:27,  1.32s/it]\u001b[A\n",
            " 13%|█▎        | 3/23 [00:03<00:26,  1.31s/it]\u001b[A\n",
            " 17%|█▋        | 4/23 [00:05<00:25,  1.33s/it]\u001b[A\n",
            " 22%|██▏       | 5/23 [00:06<00:23,  1.32s/it]\u001b[A\n",
            " 26%|██▌       | 6/23 [00:07<00:22,  1.34s/it]\u001b[A\n",
            " 30%|███       | 7/23 [00:09<00:21,  1.36s/it]\u001b[A\n",
            " 35%|███▍      | 8/23 [00:10<00:20,  1.36s/it]\u001b[A\n",
            " 39%|███▉      | 9/23 [00:12<00:19,  1.36s/it]\u001b[A\n",
            " 43%|████▎     | 10/23 [00:13<00:17,  1.37s/it]\u001b[A\n",
            " 48%|████▊     | 11/23 [00:14<00:16,  1.38s/it]\u001b[A\n",
            " 52%|█████▏    | 12/23 [00:16<00:15,  1.39s/it]\u001b[A\n",
            " 57%|█████▋    | 13/23 [00:17<00:14,  1.40s/it]\u001b[A\n",
            " 61%|██████    | 14/23 [00:19<00:12,  1.41s/it]\u001b[A\n",
            " 65%|██████▌   | 15/23 [00:20<00:11,  1.42s/it]\u001b[A\n",
            " 70%|██████▉   | 16/23 [00:22<00:10,  1.43s/it]\u001b[A\n",
            " 74%|███████▍  | 17/23 [00:23<00:08,  1.42s/it]\u001b[A\n",
            " 78%|███████▊  | 18/23 [00:24<00:07,  1.42s/it]\u001b[A\n",
            " 83%|████████▎ | 19/23 [00:26<00:05,  1.41s/it]\u001b[A\n",
            " 87%|████████▋ | 20/23 [00:27<00:04,  1.40s/it]\u001b[A\n",
            " 91%|█████████▏| 21/23 [00:29<00:02,  1.38s/it]\u001b[A\n",
            " 96%|█████████▌| 22/23 [00:30<00:01,  1.36s/it]\u001b[A\n",
            "100%|██████████| 23/23 [00:31<00:00,  1.38s/it]\n",
            " 35%|███▍      | 8/23 [04:44<09:07, 36.52s/it]"
          ]
        },
        {
          "output_type": "stream",
          "name": "stdout",
          "text": [
            "23\n"
          ]
        },
        {
          "output_type": "stream",
          "name": "stderr",
          "text": [
            "\n",
            "  0%|          | 0/23 [00:00<?, ?it/s]\u001b[A\n",
            "  4%|▍         | 1/23 [00:02<00:53,  2.45s/it]\u001b[A\n",
            "  9%|▊         | 2/23 [00:04<00:51,  2.43s/it]\u001b[A\n",
            " 13%|█▎        | 3/23 [00:06<00:38,  1.92s/it]\u001b[A\n",
            " 17%|█▋        | 4/23 [00:07<00:32,  1.69s/it]\u001b[A\n",
            " 22%|██▏       | 5/23 [00:08<00:28,  1.57s/it]\u001b[A\n",
            " 26%|██▌       | 6/23 [00:10<00:25,  1.51s/it]\u001b[A\n",
            " 30%|███       | 7/23 [00:11<00:23,  1.46s/it]\u001b[A\n",
            " 35%|███▍      | 8/23 [00:12<00:21,  1.43s/it]\u001b[A\n",
            " 39%|███▉      | 9/23 [00:14<00:19,  1.42s/it]\u001b[A\n",
            " 43%|████▎     | 10/23 [00:15<00:18,  1.41s/it]\u001b[A\n",
            " 48%|████▊     | 11/23 [00:17<00:16,  1.41s/it]\u001b[A\n",
            " 52%|█████▏    | 12/23 [00:18<00:15,  1.41s/it]\u001b[A\n",
            " 57%|█████▋    | 13/23 [00:20<00:14,  1.42s/it]\u001b[A\n",
            " 61%|██████    | 14/23 [00:21<00:12,  1.41s/it]\u001b[A\n",
            " 65%|██████▌   | 15/23 [00:22<00:11,  1.41s/it]\u001b[A\n",
            " 70%|██████▉   | 16/23 [00:24<00:11,  1.62s/it]\u001b[A\n",
            " 74%|███████▍  | 17/23 [00:27<00:11,  1.96s/it]\u001b[A\n",
            " 78%|███████▊  | 18/23 [00:29<00:09,  1.84s/it]\u001b[A\n",
            " 83%|████████▎ | 19/23 [00:30<00:06,  1.69s/it]\u001b[A\n",
            " 87%|████████▋ | 20/23 [00:31<00:04,  1.60s/it]\u001b[A\n",
            " 91%|█████████▏| 21/23 [00:33<00:03,  1.53s/it]\u001b[A\n",
            " 96%|█████████▌| 22/23 [00:34<00:01,  1.47s/it]\u001b[A\n",
            "100%|██████████| 23/23 [00:36<00:00,  1.57s/it]\n",
            " 39%|███▉      | 9/23 [05:20<08:29, 36.37s/it]"
          ]
        },
        {
          "output_type": "stream",
          "name": "stdout",
          "text": [
            "23\n"
          ]
        },
        {
          "output_type": "stream",
          "name": "stderr",
          "text": [
            "\n",
            "  0%|          | 0/23 [00:00<?, ?it/s]\u001b[A\n",
            "  4%|▍         | 1/23 [00:01<00:28,  1.31s/it]\u001b[A\n",
            "  9%|▊         | 2/23 [00:02<00:26,  1.28s/it]\u001b[A\n",
            " 13%|█▎        | 3/23 [00:03<00:25,  1.29s/it]\u001b[A\n",
            " 17%|█▋        | 4/23 [00:05<00:24,  1.31s/it]\u001b[A\n",
            " 22%|██▏       | 5/23 [00:07<00:30,  1.69s/it]\u001b[A\n",
            " 26%|██▌       | 6/23 [00:10<00:33,  1.98s/it]\u001b[A\n",
            " 30%|███       | 7/23 [00:11<00:28,  1.78s/it]\u001b[A\n",
            " 35%|███▍      | 8/23 [00:12<00:24,  1.66s/it]\u001b[A\n",
            " 39%|███▉      | 9/23 [00:14<00:22,  1.57s/it]\u001b[A\n",
            " 43%|████▎     | 10/23 [00:15<00:19,  1.52s/it]\u001b[A\n",
            " 48%|████▊     | 11/23 [00:17<00:17,  1.47s/it]\u001b[A\n",
            " 52%|█████▏    | 12/23 [00:18<00:15,  1.45s/it]\u001b[A\n",
            " 57%|█████▋    | 13/23 [00:19<00:14,  1.45s/it]\u001b[A\n",
            " 61%|██████    | 14/23 [00:21<00:12,  1.42s/it]\u001b[A\n",
            " 65%|██████▌   | 15/23 [00:22<00:11,  1.41s/it]\u001b[A\n",
            " 70%|██████▉   | 16/23 [00:24<00:09,  1.40s/it]\u001b[A\n",
            " 74%|███████▍  | 17/23 [00:25<00:08,  1.39s/it]\u001b[A\n",
            " 78%|███████▊  | 18/23 [00:26<00:06,  1.38s/it]\u001b[A\n",
            " 83%|████████▎ | 19/23 [00:28<00:05,  1.37s/it]\u001b[A\n",
            " 87%|████████▋ | 20/23 [00:29<00:04,  1.36s/it]\u001b[A\n",
            " 91%|█████████▏| 21/23 [00:30<00:02,  1.35s/it]\u001b[A\n",
            " 96%|█████████▌| 22/23 [00:32<00:01,  1.35s/it]\u001b[A\n",
            "100%|██████████| 23/23 [00:33<00:00,  1.45s/it]\n",
            " 43%|████▎     | 10/23 [05:53<07:40, 35.46s/it]"
          ]
        },
        {
          "output_type": "stream",
          "name": "stdout",
          "text": [
            "23\n"
          ]
        },
        {
          "output_type": "stream",
          "name": "stderr",
          "text": [
            "\n",
            "  0%|          | 0/23 [00:00<?, ?it/s]\u001b[A\n",
            "  4%|▍         | 1/23 [00:01<00:27,  1.27s/it]\u001b[A\n",
            "  9%|▊         | 2/23 [00:02<00:26,  1.28s/it]\u001b[A\n",
            " 13%|█▎        | 3/23 [00:03<00:25,  1.29s/it]\u001b[A\n",
            " 17%|█▋        | 4/23 [00:05<00:24,  1.30s/it]\u001b[A\n",
            " 22%|██▏       | 5/23 [00:06<00:23,  1.32s/it]\u001b[A\n",
            " 26%|██▌       | 6/23 [00:07<00:23,  1.36s/it]\u001b[A\n",
            " 30%|███       | 7/23 [00:09<00:22,  1.39s/it]\u001b[A\n",
            " 35%|███▍      | 8/23 [00:12<00:30,  2.05s/it]\u001b[A\n",
            " 39%|███▉      | 9/23 [00:15<00:32,  2.35s/it]\u001b[A\n",
            " 43%|████▎     | 10/23 [00:18<00:32,  2.48s/it]\u001b[A\n",
            " 48%|████▊     | 11/23 [00:20<00:27,  2.33s/it]\u001b[A\n",
            " 52%|█████▏    | 12/23 [00:22<00:24,  2.23s/it]\u001b[A\n",
            " 57%|█████▋    | 13/23 [00:24<00:21,  2.11s/it]\u001b[A\n",
            " 61%|██████    | 14/23 [00:27<00:20,  2.28s/it]\u001b[A\n",
            " 65%|██████▌   | 15/23 [00:29<00:19,  2.43s/it]\u001b[A\n",
            " 70%|██████▉   | 16/23 [00:31<00:15,  2.25s/it]\u001b[A\n",
            " 74%|███████▍  | 17/23 [00:33<00:12,  2.10s/it]\u001b[A\n",
            " 78%|███████▊  | 18/23 [00:35<00:10,  2.01s/it]\u001b[A\n",
            " 83%|████████▎ | 19/23 [00:37<00:07,  1.98s/it]\u001b[A\n",
            " 87%|████████▋ | 20/23 [00:38<00:05,  1.80s/it]\u001b[A\n",
            " 91%|█████████▏| 21/23 [00:40<00:03,  1.68s/it]\u001b[A\n",
            " 96%|█████████▌| 22/23 [00:41<00:01,  1.59s/it]\u001b[A\n",
            "100%|██████████| 23/23 [00:42<00:00,  1.86s/it]\n",
            " 48%|████▊     | 11/23 [06:36<07:32, 37.67s/it]"
          ]
        },
        {
          "output_type": "stream",
          "name": "stdout",
          "text": [
            "23\n"
          ]
        },
        {
          "output_type": "stream",
          "name": "stderr",
          "text": [
            "\n",
            "  0%|          | 0/23 [00:00<?, ?it/s]\u001b[A\n",
            "  4%|▍         | 1/23 [00:01<00:29,  1.33s/it]\u001b[A\n",
            "  9%|▊         | 2/23 [00:02<00:27,  1.33s/it]\u001b[A\n",
            " 13%|█▎        | 3/23 [00:04<00:29,  1.48s/it]\u001b[A\n",
            " 17%|█▋        | 4/23 [00:05<00:27,  1.44s/it]\u001b[A\n",
            " 22%|██▏       | 5/23 [00:07<00:25,  1.40s/it]\u001b[A\n",
            " 26%|██▌       | 6/23 [00:08<00:23,  1.38s/it]\u001b[A\n",
            " 30%|███       | 7/23 [00:09<00:22,  1.38s/it]\u001b[A\n",
            " 35%|███▍      | 8/23 [00:11<00:20,  1.36s/it]\u001b[A\n",
            " 39%|███▉      | 9/23 [00:12<00:19,  1.36s/it]\u001b[A\n",
            " 43%|████▎     | 10/23 [00:16<00:27,  2.09s/it]\u001b[A\n",
            " 48%|████▊     | 11/23 [00:18<00:25,  2.10s/it]\u001b[A\n",
            " 52%|█████▏    | 12/23 [00:19<00:20,  1.89s/it]\u001b[A\n",
            " 57%|█████▋    | 13/23 [00:21<00:17,  1.74s/it]\u001b[A\n",
            " 61%|██████    | 14/23 [00:22<00:14,  1.64s/it]\u001b[A\n",
            " 65%|██████▌   | 15/23 [00:23<00:12,  1.57s/it]\u001b[A\n",
            " 70%|██████▉   | 16/23 [00:25<00:10,  1.52s/it]\u001b[A\n",
            " 74%|███████▍  | 17/23 [00:26<00:08,  1.50s/it]\u001b[A\n",
            " 78%|███████▊  | 18/23 [00:28<00:07,  1.47s/it]\u001b[A\n",
            " 83%|████████▎ | 19/23 [00:29<00:05,  1.44s/it]\u001b[A\n",
            " 87%|████████▋ | 20/23 [00:30<00:04,  1.41s/it]\u001b[A\n",
            " 91%|█████████▏| 21/23 [00:32<00:02,  1.40s/it]\u001b[A\n",
            " 96%|█████████▌| 22/23 [00:33<00:01,  1.38s/it]\u001b[A\n",
            "100%|██████████| 23/23 [00:34<00:00,  1.52s/it]\n",
            " 52%|█████▏    | 12/23 [07:11<06:45, 36.85s/it]"
          ]
        },
        {
          "output_type": "stream",
          "name": "stdout",
          "text": [
            "23\n"
          ]
        },
        {
          "output_type": "stream",
          "name": "stderr",
          "text": [
            "\n",
            "  0%|          | 0/23 [00:00<?, ?it/s]\u001b[A\n",
            "  4%|▍         | 1/23 [00:01<00:30,  1.37s/it]\u001b[A\n",
            "  9%|▊         | 2/23 [00:02<00:28,  1.34s/it]\u001b[A\n",
            " 13%|█▎        | 3/23 [00:04<00:26,  1.34s/it]\u001b[A\n",
            " 17%|█▋        | 4/23 [00:05<00:25,  1.34s/it]\u001b[A\n",
            " 22%|██▏       | 5/23 [00:06<00:24,  1.35s/it]\u001b[A\n",
            " 26%|██▌       | 6/23 [00:08<00:22,  1.35s/it]\u001b[A\n",
            " 30%|███       | 7/23 [00:09<00:21,  1.36s/it]\u001b[A\n",
            " 35%|███▍      | 8/23 [00:10<00:20,  1.37s/it]\u001b[A\n",
            " 39%|███▉      | 9/23 [00:12<00:19,  1.37s/it]\u001b[A\n",
            " 43%|████▎     | 10/23 [00:13<00:17,  1.37s/it]\u001b[A\n",
            " 48%|████▊     | 11/23 [00:15<00:16,  1.39s/it]\u001b[A\n",
            " 52%|█████▏    | 12/23 [00:16<00:15,  1.39s/it]\u001b[A\n",
            " 57%|█████▋    | 13/23 [00:17<00:13,  1.38s/it]\u001b[A\n",
            " 61%|██████    | 14/23 [00:19<00:12,  1.40s/it]\u001b[A\n",
            " 65%|██████▌   | 15/23 [00:21<00:13,  1.66s/it]\u001b[A\n",
            " 70%|██████▉   | 16/23 [00:24<00:13,  1.99s/it]\u001b[A\n",
            " 74%|███████▍  | 17/23 [00:25<00:11,  1.83s/it]\u001b[A\n",
            " 78%|███████▊  | 18/23 [00:27<00:08,  1.70s/it]\u001b[A\n",
            " 83%|████████▎ | 19/23 [00:28<00:06,  1.61s/it]\u001b[A\n",
            " 87%|████████▋ | 20/23 [00:29<00:04,  1.53s/it]\u001b[A\n",
            " 91%|█████████▏| 21/23 [00:31<00:02,  1.49s/it]\u001b[A\n",
            " 96%|█████████▌| 22/23 [00:32<00:01,  1.44s/it]\u001b[A\n",
            "100%|██████████| 23/23 [00:33<00:00,  1.47s/it]\n",
            " 57%|█████▋    | 13/23 [07:45<05:59, 35.96s/it]"
          ]
        },
        {
          "output_type": "stream",
          "name": "stdout",
          "text": [
            "23\n"
          ]
        },
        {
          "output_type": "stream",
          "name": "stderr",
          "text": [
            "\n",
            "  0%|          | 0/23 [00:00<?, ?it/s]\u001b[A\n",
            "  4%|▍         | 1/23 [00:01<00:28,  1.31s/it]\u001b[A\n",
            "  9%|▊         | 2/23 [00:02<00:27,  1.33s/it]\u001b[A\n",
            " 13%|█▎        | 3/23 [00:03<00:26,  1.33s/it]\u001b[A\n",
            " 17%|█▋        | 4/23 [00:05<00:25,  1.36s/it]\u001b[A\n",
            " 22%|██▏       | 5/23 [00:07<00:32,  1.80s/it]\u001b[A\n",
            " 26%|██▌       | 6/23 [00:10<00:32,  1.91s/it]\u001b[A\n",
            " 30%|███       | 7/23 [00:11<00:27,  1.72s/it]\u001b[A\n",
            " 35%|███▍      | 8/23 [00:12<00:23,  1.60s/it]\u001b[A\n",
            " 39%|███▉      | 9/23 [00:14<00:21,  1.53s/it]\u001b[A\n",
            " 43%|████▎     | 10/23 [00:15<00:19,  1.49s/it]\u001b[A\n",
            " 48%|████▊     | 11/23 [00:16<00:17,  1.46s/it]\u001b[A\n",
            " 52%|█████▏    | 12/23 [00:18<00:16,  1.46s/it]\u001b[A\n",
            " 57%|█████▋    | 13/23 [00:19<00:14,  1.45s/it]\u001b[A\n",
            " 61%|██████    | 14/23 [00:21<00:13,  1.45s/it]\u001b[A\n",
            " 65%|██████▌   | 15/23 [00:22<00:11,  1.43s/it]\u001b[A\n",
            " 70%|██████▉   | 16/23 [00:24<00:09,  1.43s/it]\u001b[A\n",
            " 74%|███████▍  | 17/23 [00:25<00:08,  1.41s/it]\u001b[A\n",
            " 78%|███████▊  | 18/23 [00:26<00:07,  1.41s/it]\u001b[A\n",
            " 83%|████████▎ | 19/23 [00:28<00:06,  1.54s/it]\u001b[A\n",
            " 87%|████████▋ | 20/23 [00:31<00:05,  1.90s/it]\u001b[A\n",
            " 91%|█████████▏| 21/23 [00:33<00:03,  1.84s/it]\u001b[A\n",
            " 96%|█████████▌| 22/23 [00:34<00:01,  1.68s/it]\u001b[A\n",
            "100%|██████████| 23/23 [00:35<00:00,  1.56s/it]\n",
            " 61%|██████    | 14/23 [08:21<05:23, 35.91s/it]"
          ]
        },
        {
          "output_type": "stream",
          "name": "stdout",
          "text": [
            "23\n"
          ]
        },
        {
          "output_type": "stream",
          "name": "stderr",
          "text": [
            "\n",
            "  0%|          | 0/23 [00:00<?, ?it/s]\u001b[A\n",
            "  4%|▍         | 1/23 [00:01<00:29,  1.33s/it]\u001b[A\n",
            "  9%|▊         | 2/23 [00:02<00:27,  1.31s/it]\u001b[A\n",
            " 13%|█▎        | 3/23 [00:03<00:26,  1.31s/it]\u001b[A\n",
            " 17%|█▋        | 4/23 [00:05<00:25,  1.32s/it]\u001b[A\n",
            " 22%|██▏       | 5/23 [00:06<00:23,  1.33s/it]\u001b[A\n",
            " 26%|██▌       | 6/23 [00:07<00:22,  1.35s/it]\u001b[A\n",
            " 30%|███       | 7/23 [00:09<00:21,  1.35s/it]\u001b[A\n",
            " 35%|███▍      | 8/23 [00:10<00:20,  1.35s/it]\u001b[A\n",
            " 39%|███▉      | 9/23 [00:12<00:19,  1.36s/it]\u001b[A\n",
            " 43%|████▎     | 10/23 [00:13<00:17,  1.38s/it]\u001b[A\n",
            " 48%|████▊     | 11/23 [00:14<00:16,  1.38s/it]\u001b[A\n",
            " 52%|█████▏    | 12/23 [00:16<00:15,  1.39s/it]\u001b[A\n",
            " 57%|█████▋    | 13/23 [00:17<00:13,  1.39s/it]\u001b[A\n",
            " 61%|██████    | 14/23 [00:19<00:12,  1.38s/it]\u001b[A\n",
            " 65%|██████▌   | 15/23 [00:20<00:11,  1.40s/it]\u001b[A\n",
            " 70%|██████▉   | 16/23 [00:21<00:09,  1.40s/it]\u001b[A\n",
            " 74%|███████▍  | 17/23 [00:23<00:08,  1.40s/it]\u001b[A\n",
            " 78%|███████▊  | 18/23 [00:24<00:07,  1.41s/it]\u001b[A\n",
            " 83%|████████▎ | 19/23 [00:26<00:05,  1.39s/it]\u001b[A\n",
            " 87%|████████▋ | 20/23 [00:27<00:04,  1.39s/it]\u001b[A\n",
            " 91%|█████████▏| 21/23 [00:28<00:02,  1.37s/it]\u001b[A\n",
            " 96%|█████████▌| 22/23 [00:30<00:01,  1.60s/it]\u001b[A\n",
            "100%|██████████| 23/23 [00:32<00:00,  1.40s/it]\n",
            " 65%|██████▌   | 15/23 [08:53<04:38, 34.82s/it]"
          ]
        },
        {
          "output_type": "stream",
          "name": "stdout",
          "text": [
            "23\n"
          ]
        },
        {
          "output_type": "stream",
          "name": "stderr",
          "text": [
            "\n",
            "  0%|          | 0/23 [00:00<?, ?it/s]\u001b[A\n",
            "  4%|▍         | 1/23 [00:01<00:42,  1.95s/it]\u001b[A\n",
            "  9%|▊         | 2/23 [00:05<01:01,  2.92s/it]\u001b[A\n",
            " 13%|█▎        | 3/23 [00:08<00:55,  2.80s/it]\u001b[A\n",
            " 17%|█▋        | 4/23 [00:09<00:42,  2.23s/it]\u001b[A\n",
            " 22%|██▏       | 5/23 [00:11<00:35,  1.99s/it]\u001b[A\n",
            " 26%|██▌       | 6/23 [00:12<00:32,  1.90s/it]\u001b[A\n",
            " 30%|███       | 7/23 [00:14<00:29,  1.85s/it]\u001b[A\n",
            " 35%|███▍      | 8/23 [00:16<00:27,  1.85s/it]\u001b[A\n",
            " 39%|███▉      | 9/23 [00:17<00:24,  1.74s/it]\u001b[A\n",
            " 43%|████▎     | 10/23 [00:19<00:21,  1.64s/it]\u001b[A\n",
            " 48%|████▊     | 11/23 [00:20<00:18,  1.57s/it]\u001b[A\n",
            " 52%|█████▏    | 12/23 [00:22<00:16,  1.53s/it]\u001b[A\n",
            " 57%|█████▋    | 13/23 [00:24<00:16,  1.64s/it]\u001b[A\n",
            " 61%|██████    | 14/23 [00:26<00:15,  1.73s/it]\u001b[A\n",
            " 65%|██████▌   | 15/23 [00:27<00:14,  1.79s/it]\u001b[A\n",
            " 70%|██████▉   | 16/23 [00:29<00:11,  1.69s/it]\u001b[A\n",
            " 74%|███████▍  | 17/23 [00:30<00:09,  1.61s/it]\u001b[A\n",
            " 78%|███████▊  | 18/23 [00:32<00:07,  1.56s/it]\u001b[A\n",
            " 83%|████████▎ | 19/23 [00:33<00:06,  1.51s/it]\u001b[A\n",
            " 87%|████████▋ | 20/23 [00:35<00:04,  1.47s/it]\u001b[A\n",
            " 91%|█████████▏| 21/23 [00:36<00:02,  1.46s/it]\u001b[A\n",
            " 96%|█████████▌| 22/23 [00:38<00:01,  1.58s/it]\u001b[A\n",
            "100%|██████████| 23/23 [00:41<00:00,  1.78s/it]\n",
            " 70%|██████▉   | 16/23 [09:34<04:16, 36.70s/it]"
          ]
        },
        {
          "output_type": "stream",
          "name": "stdout",
          "text": [
            "23\n"
          ]
        },
        {
          "output_type": "stream",
          "name": "stderr",
          "text": [
            "\n",
            "  0%|          | 0/23 [00:00<?, ?it/s]\u001b[A\n",
            "  4%|▍         | 1/23 [00:03<01:14,  3.37s/it]\u001b[A\n",
            "  9%|▊         | 2/23 [00:05<00:55,  2.64s/it]\u001b[A\n",
            " 13%|█▎        | 3/23 [00:06<00:41,  2.07s/it]\u001b[A\n",
            " 17%|█▋        | 4/23 [00:09<00:41,  2.18s/it]\u001b[A\n",
            " 22%|██▏       | 5/23 [00:10<00:34,  1.89s/it]\u001b[A\n",
            " 26%|██▌       | 6/23 [00:12<00:29,  1.72s/it]\u001b[A\n",
            " 30%|███       | 7/23 [00:13<00:25,  1.62s/it]\u001b[A\n",
            " 35%|███▍      | 8/23 [00:15<00:26,  1.77s/it]\u001b[A\n",
            " 39%|███▉      | 9/23 [00:16<00:23,  1.65s/it]\u001b[A\n",
            " 43%|████▎     | 10/23 [00:18<00:20,  1.60s/it]\u001b[A\n",
            " 48%|████▊     | 11/23 [00:20<00:20,  1.70s/it]\u001b[A\n",
            " 52%|█████▏    | 12/23 [00:21<00:17,  1.62s/it]\u001b[A\n",
            " 57%|█████▋    | 13/23 [00:23<00:15,  1.58s/it]\u001b[A\n",
            " 61%|██████    | 14/23 [00:24<00:13,  1.53s/it]\u001b[A\n",
            " 65%|██████▌   | 15/23 [00:26<00:11,  1.50s/it]\u001b[A\n",
            " 70%|██████▉   | 16/23 [00:27<00:10,  1.48s/it]\u001b[A\n",
            " 74%|███████▍  | 17/23 [00:28<00:08,  1.46s/it]\u001b[A\n",
            " 78%|███████▊  | 18/23 [00:30<00:07,  1.44s/it]\u001b[A\n",
            " 83%|████████▎ | 19/23 [00:31<00:05,  1.43s/it]\u001b[A\n",
            " 87%|████████▋ | 20/23 [00:33<00:04,  1.42s/it]\u001b[A\n",
            " 91%|█████████▏| 21/23 [00:34<00:02,  1.40s/it]\u001b[A\n",
            " 96%|█████████▌| 22/23 [00:36<00:01,  1.53s/it]\u001b[A\n",
            "100%|██████████| 23/23 [00:37<00:00,  1.64s/it]\n",
            " 74%|███████▍  | 17/23 [10:12<03:42, 37.03s/it]"
          ]
        },
        {
          "output_type": "stream",
          "name": "stdout",
          "text": [
            "23\n"
          ]
        },
        {
          "output_type": "stream",
          "name": "stderr",
          "text": [
            "\n",
            "  0%|          | 0/23 [00:00<?, ?it/s]\u001b[A\n",
            "  4%|▍         | 1/23 [00:01<00:29,  1.33s/it]\u001b[A\n",
            "  9%|▊         | 2/23 [00:02<00:27,  1.32s/it]\u001b[A\n",
            " 13%|█▎        | 3/23 [00:04<00:26,  1.34s/it]\u001b[A\n",
            " 17%|█▋        | 4/23 [00:06<00:34,  1.84s/it]\u001b[A\n",
            " 22%|██▏       | 5/23 [00:08<00:35,  1.98s/it]\u001b[A\n",
            " 26%|██▌       | 6/23 [00:10<00:30,  1.79s/it]\u001b[A\n",
            " 30%|███       | 7/23 [00:11<00:26,  1.65s/it]\u001b[A\n",
            " 35%|███▍      | 8/23 [00:13<00:23,  1.57s/it]\u001b[A\n",
            " 39%|███▉      | 9/23 [00:14<00:21,  1.52s/it]\u001b[A\n",
            " 43%|████▎     | 10/23 [00:15<00:19,  1.49s/it]\u001b[A\n",
            " 48%|████▊     | 11/23 [00:17<00:17,  1.47s/it]\u001b[A\n",
            " 52%|█████▏    | 12/23 [00:18<00:15,  1.45s/it]\u001b[A\n",
            " 57%|█████▋    | 13/23 [00:20<00:14,  1.45s/it]\u001b[A\n",
            " 61%|██████    | 14/23 [00:24<00:19,  2.21s/it]\u001b[A\n",
            " 65%|██████▌   | 15/23 [00:25<00:16,  2.10s/it]\u001b[A\n",
            " 70%|██████▉   | 16/23 [00:27<00:13,  1.89s/it]\u001b[A\n",
            " 74%|███████▍  | 17/23 [00:28<00:10,  1.74s/it]\u001b[A\n",
            " 78%|███████▊  | 18/23 [00:30<00:08,  1.63s/it]\u001b[A\n",
            " 83%|████████▎ | 19/23 [00:32<00:06,  1.71s/it]\u001b[A\n",
            " 87%|████████▋ | 20/23 [00:33<00:04,  1.62s/it]\u001b[A\n",
            " 91%|█████████▏| 21/23 [00:35<00:03,  1.68s/it]\u001b[A\n",
            " 96%|█████████▌| 22/23 [00:36<00:01,  1.62s/it]\u001b[A\n",
            "100%|██████████| 23/23 [00:38<00:00,  1.67s/it]\n",
            " 78%|███████▊  | 18/23 [10:50<03:07, 37.47s/it]"
          ]
        },
        {
          "output_type": "stream",
          "name": "stdout",
          "text": [
            "23\n"
          ]
        },
        {
          "output_type": "stream",
          "name": "stderr",
          "text": [
            "\n",
            "  0%|          | 0/23 [00:00<?, ?it/s]\u001b[A\n",
            "  4%|▍         | 1/23 [00:01<00:38,  1.74s/it]\u001b[A\n",
            "  9%|▊         | 2/23 [00:03<00:36,  1.73s/it]\u001b[A\n",
            " 13%|█▎        | 3/23 [00:07<00:51,  2.58s/it]\u001b[A\n",
            " 17%|█▋        | 4/23 [00:09<00:49,  2.58s/it]\u001b[A\n",
            " 22%|██▏       | 5/23 [00:11<00:43,  2.41s/it]\u001b[A\n",
            " 26%|██▌       | 6/23 [00:13<00:34,  2.06s/it]\u001b[A\n",
            " 30%|███       | 7/23 [00:14<00:29,  1.83s/it]\u001b[A\n",
            " 35%|███▍      | 8/23 [00:15<00:25,  1.68s/it]\u001b[A\n",
            " 39%|███▉      | 9/23 [00:17<00:22,  1.59s/it]\u001b[A\n",
            " 43%|████▎     | 10/23 [00:18<00:19,  1.53s/it]\u001b[A\n",
            " 48%|████▊     | 11/23 [00:20<00:17,  1.49s/it]\u001b[A\n",
            " 52%|█████▏    | 12/23 [00:21<00:16,  1.47s/it]\u001b[A\n",
            " 57%|█████▋    | 13/23 [00:22<00:14,  1.45s/it]\u001b[A\n",
            " 61%|██████    | 14/23 [00:24<00:13,  1.44s/it]\u001b[A\n",
            " 65%|██████▌   | 15/23 [00:25<00:11,  1.44s/it]\u001b[A\n",
            " 70%|██████▉   | 16/23 [00:27<00:10,  1.43s/it]\u001b[A\n",
            " 74%|███████▍  | 17/23 [00:28<00:08,  1.42s/it]\u001b[A\n",
            " 78%|███████▊  | 18/23 [00:29<00:07,  1.40s/it]\u001b[A\n",
            " 83%|████████▎ | 19/23 [00:31<00:05,  1.39s/it]\u001b[A\n",
            " 87%|████████▋ | 20/23 [00:32<00:04,  1.39s/it]\u001b[A\n",
            " 91%|█████████▏| 21/23 [00:33<00:02,  1.37s/it]\u001b[A\n",
            " 96%|█████████▌| 22/23 [00:35<00:01,  1.36s/it]\u001b[A\n",
            "100%|██████████| 23/23 [00:36<00:00,  1.59s/it]\n",
            " 83%|████████▎ | 19/23 [11:27<02:28, 37.23s/it]"
          ]
        },
        {
          "output_type": "stream",
          "name": "stdout",
          "text": [
            "23\n"
          ]
        },
        {
          "output_type": "stream",
          "name": "stderr",
          "text": [
            "\n",
            "  0%|          | 0/23 [00:00<?, ?it/s]\u001b[A\n",
            "  4%|▍         | 1/23 [00:01<00:29,  1.35s/it]\u001b[A\n",
            "  9%|▊         | 2/23 [00:02<00:27,  1.33s/it]\u001b[A\n",
            " 13%|█▎        | 3/23 [00:04<00:26,  1.33s/it]\u001b[A\n",
            " 17%|█▋        | 4/23 [00:05<00:25,  1.33s/it]\u001b[A\n",
            " 22%|██▏       | 5/23 [00:06<00:24,  1.34s/it]\u001b[A\n",
            " 26%|██▌       | 6/23 [00:08<00:23,  1.35s/it]\u001b[A\n",
            " 30%|███       | 7/23 [00:09<00:21,  1.37s/it]\u001b[A\n",
            " 35%|███▍      | 8/23 [00:10<00:20,  1.38s/it]\u001b[A\n",
            " 39%|███▉      | 9/23 [00:12<00:22,  1.58s/it]\u001b[A\n",
            " 43%|████▎     | 10/23 [00:15<00:24,  1.92s/it]\u001b[A\n",
            " 48%|████▊     | 11/23 [00:17<00:22,  1.83s/it]\u001b[A\n",
            " 52%|█████▏    | 12/23 [00:18<00:18,  1.69s/it]\u001b[A\n",
            " 57%|█████▋    | 13/23 [00:19<00:15,  1.60s/it]\u001b[A\n",
            " 61%|██████    | 14/23 [00:21<00:13,  1.53s/it]\u001b[A\n",
            " 65%|██████▌   | 15/23 [00:22<00:11,  1.49s/it]\u001b[A\n",
            " 70%|██████▉   | 16/23 [00:24<00:10,  1.47s/it]\u001b[A\n",
            " 74%|███████▍  | 17/23 [00:25<00:08,  1.45s/it]\u001b[A\n",
            " 78%|███████▊  | 18/23 [00:26<00:07,  1.44s/it]\u001b[A\n",
            " 83%|████████▎ | 19/23 [00:28<00:05,  1.42s/it]\u001b[A\n",
            " 87%|████████▋ | 20/23 [00:29<00:04,  1.40s/it]\u001b[A\n",
            " 91%|█████████▏| 21/23 [00:31<00:02,  1.40s/it]\u001b[A\n",
            " 96%|█████████▌| 22/23 [00:32<00:01,  1.38s/it]\u001b[A\n",
            "100%|██████████| 23/23 [00:33<00:00,  1.47s/it]\n",
            " 87%|████████▋ | 20/23 [12:01<01:48, 36.21s/it]"
          ]
        },
        {
          "output_type": "stream",
          "name": "stdout",
          "text": [
            "23\n"
          ]
        },
        {
          "output_type": "stream",
          "name": "stderr",
          "text": [
            "\n",
            "  0%|          | 0/23 [00:00<?, ?it/s]\u001b[A\n",
            "  4%|▍         | 1/23 [00:01<00:29,  1.36s/it]\u001b[A\n",
            "  9%|▊         | 2/23 [00:02<00:28,  1.37s/it]\u001b[A\n",
            " 13%|█▎        | 3/23 [00:04<00:27,  1.35s/it]\u001b[A\n",
            " 17%|█▋        | 4/23 [00:05<00:25,  1.34s/it]\u001b[A\n",
            " 22%|██▏       | 5/23 [00:06<00:24,  1.34s/it]\u001b[A\n",
            " 26%|██▌       | 6/23 [00:08<00:22,  1.35s/it]\u001b[A\n",
            " 30%|███       | 7/23 [00:09<00:21,  1.37s/it]\u001b[A\n",
            " 35%|███▍      | 8/23 [00:10<00:20,  1.39s/it]\u001b[A\n",
            " 39%|███▉      | 9/23 [00:12<00:19,  1.39s/it]\u001b[A\n",
            " 43%|████▎     | 10/23 [00:13<00:18,  1.39s/it]\u001b[A\n",
            " 48%|████▊     | 11/23 [00:15<00:16,  1.38s/it]\u001b[A\n",
            " 52%|█████▏    | 12/23 [00:16<00:15,  1.38s/it]\u001b[A\n",
            " 57%|█████▋    | 13/23 [00:17<00:13,  1.39s/it]\u001b[A\n",
            " 61%|██████    | 14/23 [00:20<00:16,  1.79s/it]\u001b[A\n",
            " 65%|██████▌   | 15/23 [00:22<00:15,  1.92s/it]\u001b[A\n",
            " 70%|██████▉   | 16/23 [00:24<00:12,  1.76s/it]\u001b[A\n",
            " 74%|███████▍  | 17/23 [00:25<00:09,  1.64s/it]\u001b[A\n",
            " 78%|███████▊  | 18/23 [00:26<00:07,  1.55s/it]\u001b[A\n",
            " 83%|████████▎ | 19/23 [00:28<00:05,  1.49s/it]\u001b[A\n",
            " 87%|████████▋ | 20/23 [00:29<00:04,  1.45s/it]\u001b[A\n",
            " 91%|█████████▏| 21/23 [00:30<00:02,  1.43s/it]\u001b[A\n",
            " 96%|█████████▌| 22/23 [00:32<00:01,  1.41s/it]\u001b[A\n",
            "100%|██████████| 23/23 [00:33<00:00,  1.47s/it]\n",
            " 91%|█████████▏| 21/23 [12:34<01:10, 35.49s/it]"
          ]
        },
        {
          "output_type": "stream",
          "name": "stdout",
          "text": [
            "23\n"
          ]
        },
        {
          "output_type": "stream",
          "name": "stderr",
          "text": [
            "\n",
            "  0%|          | 0/23 [00:00<?, ?it/s]\u001b[A\n",
            "  4%|▍         | 1/23 [00:01<00:29,  1.36s/it]\u001b[A\n",
            "  9%|▊         | 2/23 [00:02<00:28,  1.35s/it]\u001b[A\n",
            " 13%|█▎        | 3/23 [00:04<00:26,  1.34s/it]\u001b[A\n",
            " 17%|█▋        | 4/23 [00:05<00:25,  1.36s/it]\u001b[A\n",
            " 22%|██▏       | 5/23 [00:06<00:24,  1.36s/it]\u001b[A\n",
            " 26%|██▌       | 6/23 [00:08<00:23,  1.36s/it]\u001b[A\n",
            " 30%|███       | 7/23 [00:09<00:21,  1.37s/it]\u001b[A\n",
            " 35%|███▍      | 8/23 [00:10<00:20,  1.38s/it]\u001b[A\n",
            " 39%|███▉      | 9/23 [00:12<00:19,  1.38s/it]\u001b[A\n",
            " 43%|████▎     | 10/23 [00:13<00:17,  1.38s/it]\u001b[A\n",
            " 48%|████▊     | 11/23 [00:15<00:16,  1.37s/it]\u001b[A\n",
            " 52%|█████▏    | 12/23 [00:16<00:15,  1.37s/it]\u001b[A\n",
            " 57%|█████▋    | 13/23 [00:17<00:13,  1.38s/it]\u001b[A\n",
            " 61%|██████    | 14/23 [00:19<00:12,  1.39s/it]\u001b[A\n",
            " 65%|██████▌   | 15/23 [00:20<00:11,  1.40s/it]\u001b[A\n",
            " 70%|██████▉   | 16/23 [00:22<00:09,  1.41s/it]\u001b[A\n",
            " 74%|███████▍  | 17/23 [00:23<00:08,  1.40s/it]\u001b[A\n",
            " 78%|███████▊  | 18/23 [00:24<00:07,  1.40s/it]\u001b[A\n",
            " 83%|████████▎ | 19/23 [00:26<00:06,  1.57s/it]\u001b[A\n",
            " 87%|████████▋ | 20/23 [00:29<00:05,  1.93s/it]\u001b[A\n",
            " 91%|█████████▏| 21/23 [00:31<00:03,  1.91s/it]\u001b[A\n",
            " 96%|█████████▌| 22/23 [00:32<00:01,  1.75s/it]\u001b[A\n",
            "100%|██████████| 23/23 [00:34<00:00,  1.49s/it]\n",
            " 96%|█████████▌| 22/23 [13:09<00:35, 35.12s/it]"
          ]
        },
        {
          "output_type": "stream",
          "name": "stdout",
          "text": [
            "17\n"
          ]
        },
        {
          "output_type": "stream",
          "name": "stderr",
          "text": [
            "\n",
            "  0%|          | 0/17 [00:00<?, ?it/s]\u001b[A\n",
            "  6%|▌         | 1/17 [00:01<00:21,  1.33s/it]\u001b[A\n",
            " 12%|█▏        | 2/17 [00:02<00:19,  1.33s/it]\u001b[A\n",
            " 18%|█▊        | 3/17 [00:03<00:18,  1.32s/it]\u001b[A\n",
            " 24%|██▎       | 4/17 [00:05<00:18,  1.46s/it]\u001b[A\n",
            " 29%|██▉       | 5/17 [00:08<00:22,  1.89s/it]\u001b[A\n",
            " 35%|███▌      | 6/17 [00:10<00:21,  1.92s/it]\u001b[A\n",
            " 41%|████      | 7/17 [00:11<00:17,  1.74s/it]\u001b[A\n",
            " 47%|████▋     | 8/17 [00:13<00:14,  1.63s/it]\u001b[A\n",
            " 53%|█████▎    | 9/17 [00:14<00:12,  1.54s/it]\u001b[A\n",
            " 59%|█████▉    | 10/17 [00:15<00:10,  1.50s/it]\u001b[A\n",
            " 65%|██████▍   | 11/17 [00:17<00:08,  1.46s/it]\u001b[A\n",
            " 71%|███████   | 12/17 [00:18<00:07,  1.45s/it]\u001b[A\n",
            " 76%|███████▋  | 13/17 [00:19<00:05,  1.43s/it]\u001b[A\n",
            " 82%|████████▏ | 14/17 [00:21<00:04,  1.41s/it]\u001b[A\n",
            " 88%|████████▊ | 15/17 [00:22<00:02,  1.41s/it]\u001b[A\n",
            " 94%|█████████▍| 16/17 [00:24<00:01,  1.41s/it]\u001b[A\n",
            "100%|██████████| 17/17 [00:25<00:00,  1.51s/it]\n",
            "100%|██████████| 23/23 [13:34<00:00, 35.43s/it]\n"
          ]
        }
      ]
    },
    {
      "cell_type": "markdown",
      "source": [
        "### 2.3 binning - NEW, avg, bin = 5, 10, 20 at the same time"
      ],
      "metadata": {
        "id": "lzH7G9AkeOWZ"
      }
    },
    {
      "cell_type": "code",
      "source": [
        "MAX_VAL = 1 # modisUSA.npy already normalized\n",
        "MIN_VAL = 0\n",
        "\n",
        "def get_avg_and_5_10_20_bins_from_observation(modis_observation, max_val, min_val):\n",
        "  count = 0 # keep track of valid pixels != 0\n",
        "  sum = 0 # values of valid pixels\n",
        "  avg = 0 # sum/count at end\n",
        "\n",
        "  binned_observation_5 = np.zeros(5)\n",
        "  binned_observation_10 = np.zeros(10)\n",
        "  binned_observation_20 = np.zeros(20)\n",
        "\n",
        "  increment_5 = (max_val - min_val) / 5\n",
        "  increment_10 = (max_val - min_val) / 10\n",
        "  increment_20 = (max_val - min_val) / 20\n",
        "\n",
        "  # expect a matrix of height x width\n",
        "  height, width = modis_observation.shape\n",
        "  \"\"\"\n",
        "  print('height, width, pixels', height, width, height*width)\n",
        "  print('min, max', modis_observation.min(), modis_observation.max())\n",
        "  \"\"\"\n",
        "\n",
        "  # image then avg and bins\n",
        "  for row in range(height):\n",
        "    for col in range(width):\n",
        "      if modis_observation[row, col] != 0: # don't want fill values\n",
        "        count += 1\n",
        "        sum += modis_observation[row, col]\n",
        "\n",
        "        # icky hardcoded, only works because increments evenly fit\n",
        "        # iterate through 20 bins until find correct for each pixel\n",
        "        for bin_i in range(20):\n",
        "          if (modis_observation[row, col] >= bin_i*increment_20) and (modis_observation[row, col] < (bin_i+1)*increment_20): # lower bound inclusive, upper exclusive\n",
        "            binned_observation_20[bin_i] += 1\n",
        "            binned_observation_10[ int(bin_i/2) ] += 1\n",
        "            binned_observation_5[ int(bin_i/4) ] += 1\n",
        "            break\n",
        "  \n",
        "  avg = sum / count\n",
        "  print('count, sum, avg', count, sum, avg)\n",
        "\n",
        "  return avg, binned_observation_5, binned_observation_10, binned_observation_20"
      ],
      "metadata": {
        "id": "JzMhuhCreUsk"
      },
      "execution_count": null,
      "outputs": []
    },
    {
      "cell_type": "code",
      "source": [
        "for bin_20_i in range(20):\n",
        "  print(bin_20_i, int(bin_20_i / 2), int(bin_20_i / 4))"
      ],
      "metadata": {
        "colab": {
          "base_uri": "https://localhost:8080/"
        },
        "id": "nw0kQoS0mFNp",
        "outputId": "14982568-d83f-433b-c488-59ff98c9b8f8"
      },
      "execution_count": null,
      "outputs": [
        {
          "output_type": "stream",
          "name": "stdout",
          "text": [
            "0 0 0\n",
            "1 0 0\n",
            "2 1 0\n",
            "3 1 0\n",
            "4 2 1\n",
            "5 2 1\n",
            "6 3 1\n",
            "7 3 1\n",
            "8 4 2\n",
            "9 4 2\n",
            "10 5 2\n",
            "11 5 2\n",
            "12 6 3\n",
            "13 6 3\n",
            "14 7 3\n",
            "15 7 3\n",
            "16 8 4\n",
            "17 8 4\n",
            "18 9 4\n",
            "19 9 4\n"
          ]
        }
      ]
    },
    {
      "cell_type": "code",
      "source": [
        "binned_modis = get_avg_and_5_10_20_bins_from_observation(modis_per_year[2000]['observations'][:, :, 9], max_val=MAX_VAL, min_val=MIN_VAL)\n",
        "binned_modis"
      ],
      "metadata": {
        "colab": {
          "base_uri": "https://localhost:8080/"
        },
        "id": "Y_F_kA8UoUJv",
        "outputId": "803a3763-e914-4832-c8e7-93353da66030"
      },
      "execution_count": null,
      "outputs": [
        {
          "output_type": "stream",
          "name": "stdout",
          "text": [
            "height, width, pixels 460 1115 512900\n",
            "min, max 0.0 0.913\n",
            "count, sum, avg 64495 46154.03679999957 0.7156219365842247\n"
          ]
        },
        {
          "output_type": "execute_result",
          "data": {
            "text/plain": [
              "(0.7156219365842247,\n",
              " array([   82.,  3362.,  8758., 29860., 22433.]),\n",
              " array([    0.,    82.,   948.,  2414.,  3815.,  4943.,  8671., 21189.,\n",
              "        22305.,   128.]),\n",
              " array([0.0000e+00, 0.0000e+00, 2.0000e+00, 8.0000e+01, 3.8400e+02,\n",
              "        5.6400e+02, 9.6300e+02, 1.4510e+03, 1.7520e+03, 2.0630e+03,\n",
              "        2.2340e+03, 2.7090e+03, 3.5690e+03, 5.1020e+03, 8.2560e+03,\n",
              "        1.2933e+04, 1.4571e+04, 7.7340e+03, 1.2800e+02, 0.0000e+00]))"
            ]
          },
          "metadata": {},
          "execution_count": 64
        }
      ]
    },
    {
      "cell_type": "code",
      "source": [
        "# make avg, 5, 10, 20 bins for a year of observations\n",
        "def process_avg_and_5_10_20_bins_batch(modis_observations_batch, max_val, min_val):\n",
        "  _, _, num_observations = modis_observations_batch.shape\n",
        "  print('num_observations', num_observations)\n",
        "  binned_observations_list = []\n",
        "\n",
        "  for obs_i in range(num_observations): # tqdm(range(num_observations)):\n",
        "    binned_observation = get_avg_and_5_10_20_bins_from_observation(modis_observations_batch[:, :, obs_i], max_val=max_val, min_val=min_val)\n",
        "    binned_observations_list.append(binned_observation)\n",
        "\n",
        "  return binned_observations_list # list of tuples of (avg, arrays of 5, 10, 20 bins)"
      ],
      "metadata": {
        "id": "CbG4jb5SpJm0"
      },
      "execution_count": null,
      "outputs": []
    },
    {
      "cell_type": "code",
      "source": [
        "# 15sec for 20 observations\n",
        "# wow this is so much faster because I'm filtering out pixels with NDVI 0 rather than looping through bins for them as well\n",
        "batch_binned_modis = process_avg_and_5_10_20_bins_batch(modis_per_year[2000]['observations'], max_val=MAX_VAL, min_val=MIN_VAL)\n",
        "batch_binned_modis"
      ],
      "metadata": {
        "colab": {
          "base_uri": "https://localhost:8080/"
        },
        "id": "uAOXCseDpqZL",
        "outputId": "4f6ea6ce-482c-4f00-a07a-ac6afebda9a0"
      },
      "execution_count": null,
      "outputs": [
        {
          "output_type": "stream",
          "name": "stdout",
          "text": [
            "num_observations 20\n"
          ]
        },
        {
          "output_type": "stream",
          "name": "stderr",
          "text": [
            "\r  0%|          | 0/20 [00:00<?, ?it/s]"
          ]
        },
        {
          "output_type": "stream",
          "name": "stdout",
          "text": [
            "height, width, pixels 460 1115 512900\n",
            "min, max 0.0 0.8064\n"
          ]
        },
        {
          "output_type": "stream",
          "name": "stderr",
          "text": [
            "\r  5%|▌         | 1/20 [00:00<00:12,  1.49it/s]"
          ]
        },
        {
          "output_type": "stream",
          "name": "stdout",
          "text": [
            "count, sum, avg 64113 19213.01730000008 0.299674282906744\n",
            "height, width, pixels 460 1115 512900\n",
            "min, max 0.0 0.8022\n"
          ]
        },
        {
          "output_type": "stream",
          "name": "stderr",
          "text": [
            "\r 10%|█         | 2/20 [00:01<00:12,  1.45it/s]"
          ]
        },
        {
          "output_type": "stream",
          "name": "stdout",
          "text": [
            "count, sum, avg 64341 19905.591799999853 0.30937647534231444\n",
            "height, width, pixels 460 1115 512900\n",
            "min, max 0.0 0.8191\n"
          ]
        },
        {
          "output_type": "stream",
          "name": "stderr",
          "text": [
            "\r 15%|█▌        | 3/20 [00:02<00:12,  1.41it/s]"
          ]
        },
        {
          "output_type": "stream",
          "name": "stdout",
          "text": [
            "count, sum, avg 64412 21886.207599999932 0.33978463019313065\n",
            "height, width, pixels 460 1115 512900\n",
            "min, max 0.0 0.8249\n"
          ]
        },
        {
          "output_type": "stream",
          "name": "stderr",
          "text": [
            "\r 20%|██        | 4/20 [00:02<00:11,  1.41it/s]"
          ]
        },
        {
          "output_type": "stream",
          "name": "stdout",
          "text": [
            "count, sum, avg 64494 23364.553099999917 0.3622748333178267\n",
            "height, width, pixels 460 1115 512900\n",
            "min, max 0.0 0.8619\n"
          ]
        },
        {
          "output_type": "stream",
          "name": "stderr",
          "text": [
            "\r 25%|██▌       | 5/20 [00:03<00:10,  1.39it/s]"
          ]
        },
        {
          "output_type": "stream",
          "name": "stdout",
          "text": [
            "count, sum, avg 64495 26222.598300000085 0.4065834297232357\n",
            "height, width, pixels 460 1115 512900\n",
            "min, max 0.0 0.8775\n"
          ]
        },
        {
          "output_type": "stream",
          "name": "stderr",
          "text": [
            "\r 30%|███       | 6/20 [00:04<00:10,  1.35it/s]"
          ]
        },
        {
          "output_type": "stream",
          "name": "stdout",
          "text": [
            "count, sum, avg 64495 30965.83859999977 0.4801277401348906\n",
            "height, width, pixels 460 1115 512900\n",
            "min, max 0.0 0.8568\n"
          ]
        },
        {
          "output_type": "stream",
          "name": "stderr",
          "text": [
            "\r 35%|███▌      | 7/20 [00:05<00:09,  1.32it/s]"
          ]
        },
        {
          "output_type": "stream",
          "name": "stdout",
          "text": [
            "count, sum, avg 64495 32425.192500000005 0.5027551360570588\n",
            "height, width, pixels 460 1115 512900\n",
            "min, max 0.0 0.8689\n"
          ]
        },
        {
          "output_type": "stream",
          "name": "stderr",
          "text": [
            "\r 40%|████      | 8/20 [00:05<00:09,  1.27it/s]"
          ]
        },
        {
          "output_type": "stream",
          "name": "stdout",
          "text": [
            "count, sum, avg 64495 35737.41500000042 0.5541114039848116\n",
            "height, width, pixels 460 1115 512900\n",
            "min, max 0.0 0.9045\n"
          ]
        },
        {
          "output_type": "stream",
          "name": "stderr",
          "text": [
            "\r 45%|████▌     | 9/20 [00:06<00:09,  1.19it/s]"
          ]
        },
        {
          "output_type": "stream",
          "name": "stdout",
          "text": [
            "count, sum, avg 64495 42749.29979999951 0.6628312241258937\n",
            "height, width, pixels 460 1115 512900\n",
            "min, max 0.0 0.913\n"
          ]
        },
        {
          "output_type": "stream",
          "name": "stderr",
          "text": [
            "\r 50%|█████     | 10/20 [00:07<00:08,  1.11it/s]"
          ]
        },
        {
          "output_type": "stream",
          "name": "stdout",
          "text": [
            "count, sum, avg 64495 46154.03679999957 0.7156219365842247\n",
            "height, width, pixels 460 1115 512900\n",
            "min, max 0.0 0.9212\n"
          ]
        },
        {
          "output_type": "stream",
          "name": "stderr",
          "text": [
            "\r 55%|█████▌    | 11/20 [00:08<00:08,  1.09it/s]"
          ]
        },
        {
          "output_type": "stream",
          "name": "stdout",
          "text": [
            "count, sum, avg 64495 46579.99889999977 0.7222265121327199\n",
            "height, width, pixels 460 1115 512900\n",
            "min, max 0.0 0.9001\n"
          ]
        },
        {
          "output_type": "stream",
          "name": "stderr",
          "text": [
            "\r 60%|██████    | 12/20 [00:09<00:07,  1.09it/s]"
          ]
        },
        {
          "output_type": "stream",
          "name": "stdout",
          "text": [
            "count, sum, avg 64495 43486.934000000074 0.674268299868208\n",
            "height, width, pixels 460 1115 512900\n",
            "min, max 0.0 0.9056\n"
          ]
        },
        {
          "output_type": "stream",
          "name": "stderr",
          "text": [
            "\r 65%|██████▌   | 13/20 [00:10<00:06,  1.10it/s]"
          ]
        },
        {
          "output_type": "stream",
          "name": "stdout",
          "text": [
            "count, sum, avg 64495 40074.852199999994 0.6213637057136211\n",
            "height, width, pixels 460 1115 512900\n",
            "min, max 0.0 0.8386\n"
          ]
        },
        {
          "output_type": "stream",
          "name": "stderr",
          "text": [
            "\r 70%|███████   | 14/20 [00:11<00:05,  1.12it/s]"
          ]
        },
        {
          "output_type": "stream",
          "name": "stdout",
          "text": [
            "count, sum, avg 64495 33055.77409999992 0.5125323528955721\n",
            "height, width, pixels 460 1115 512900\n",
            "min, max 0.0 0.8289\n"
          ]
        },
        {
          "output_type": "stream",
          "name": "stderr",
          "text": [
            "\r 75%|███████▌  | 15/20 [00:12<00:04,  1.16it/s]"
          ]
        },
        {
          "output_type": "stream",
          "name": "stdout",
          "text": [
            "count, sum, avg 64495 27972.200299999848 0.4337111450500015\n",
            "height, width, pixels 460 1115 512900\n",
            "min, max 0.0 0.7526\n"
          ]
        },
        {
          "output_type": "stream",
          "name": "stderr",
          "text": [
            "\r 80%|████████  | 16/20 [00:13<00:03,  1.22it/s]"
          ]
        },
        {
          "output_type": "stream",
          "name": "stdout",
          "text": [
            "count, sum, avg 64495 23397.96789999989 0.36278731529575764\n",
            "height, width, pixels 460 1115 512900\n",
            "min, max 0.0 0.7564\n"
          ]
        },
        {
          "output_type": "stream",
          "name": "stderr",
          "text": [
            "\r 85%|████████▌ | 17/20 [00:13<00:02,  1.25it/s]"
          ]
        },
        {
          "output_type": "stream",
          "name": "stdout",
          "text": [
            "count, sum, avg 62587 22733.234799999875 0.3632261460047594\n",
            "height, width, pixels 460 1115 512900\n",
            "min, max 0.0 0.7262\n"
          ]
        },
        {
          "output_type": "stream",
          "name": "stderr",
          "text": [
            "\r 90%|█████████ | 18/20 [00:14<00:01,  1.36it/s]"
          ]
        },
        {
          "output_type": "stream",
          "name": "stdout",
          "text": [
            "count, sum, avg 51644 14680.013700000083 0.284254002401055\n",
            "height, width, pixels 460 1115 512900\n",
            "min, max 0.0 0.7249\n"
          ]
        },
        {
          "output_type": "stream",
          "name": "stderr",
          "text": [
            "\r 95%|█████████▌| 19/20 [00:14<00:00,  1.47it/s]"
          ]
        },
        {
          "output_type": "stream",
          "name": "stdout",
          "text": [
            "count, sum, avg 49330 12390.410900000034 0.25117394891546796\n",
            "height, width, pixels 460 1115 512900\n",
            "min, max 0.0 0.9898\n"
          ]
        },
        {
          "output_type": "stream",
          "name": "stderr",
          "text": [
            "100%|██████████| 20/20 [00:15<00:00,  1.30it/s]"
          ]
        },
        {
          "output_type": "stream",
          "name": "stdout",
          "text": [
            "count, sum, avg 34122 4851.992000000026 0.14219541644686787\n"
          ]
        },
        {
          "output_type": "stream",
          "name": "stderr",
          "text": [
            "\n"
          ]
        },
        {
          "output_type": "execute_result",
          "data": {
            "text/plain": [
              "[(0.299674282906744,\n",
              "  array([3.7210e+03, 5.0755e+04, 8.9870e+03, 6.4900e+02, 1.0000e+00]),\n",
              "  array([6.3300e+02, 3.0880e+03, 3.5146e+04, 1.5609e+04, 6.3020e+03,\n",
              "         2.6850e+03, 5.6700e+02, 8.2000e+01, 1.0000e+00, 0.0000e+00]),\n",
              "  array([3.5200e+02, 2.8100e+02, 3.6100e+02, 2.7270e+03, 2.0987e+04,\n",
              "         1.4159e+04, 9.8930e+03, 5.7160e+03, 3.7850e+03, 2.5170e+03,\n",
              "         1.7250e+03, 9.6000e+02, 4.0100e+02, 1.6600e+02, 6.3000e+01,\n",
              "         1.9000e+01, 1.0000e+00, 0.0000e+00, 0.0000e+00, 0.0000e+00])),\n",
              " (0.30937647534231444,\n",
              "  array([2.9360e+03, 4.9920e+04, 1.0363e+04, 1.1210e+03, 1.0000e+00]),\n",
              "  array([4.5700e+02, 2.4790e+03, 3.4495e+04, 1.5425e+04, 7.0530e+03,\n",
              "         3.3100e+03, 1.0050e+03, 1.1600e+02, 1.0000e+00, 0.0000e+00]),\n",
              "  array([1.9300e+02, 2.6400e+02, 3.4500e+02, 2.1340e+03, 2.0296e+04,\n",
              "         1.4199e+04, 9.4700e+03, 5.9550e+03, 4.2890e+03, 2.7640e+03,\n",
              "         1.9370e+03, 1.3730e+03, 6.9800e+02, 3.0700e+02, 9.2000e+01,\n",
              "         2.4000e+01, 1.0000e+00, 0.0000e+00, 0.0000e+00, 0.0000e+00])),\n",
              " (0.33978463019313065,\n",
              "  array([2.0890e+03, 4.5075e+04, 1.4940e+04, 2.3040e+03, 4.0000e+00]),\n",
              "  array([4.4000e+01, 2.0450e+03, 2.8522e+04, 1.6553e+04, 9.8880e+03,\n",
              "         5.0520e+03, 2.0090e+03, 2.9500e+02, 4.0000e+00, 0.0000e+00]),\n",
              "  array([3.4000e+01, 1.0000e+01, 1.1600e+02, 1.9290e+03, 1.5188e+04,\n",
              "         1.3334e+04, 8.9170e+03, 7.6360e+03, 5.6940e+03, 4.1940e+03,\n",
              "         3.1050e+03, 1.9470e+03, 1.2990e+03, 7.1000e+02, 2.5700e+02,\n",
              "         3.8000e+01, 4.0000e+00, 0.0000e+00, 0.0000e+00, 0.0000e+00])),\n",
              " (0.3622748333178267,\n",
              "  array([1.5280e+03, 4.1223e+04, 1.8499e+04, 3.2380e+03, 6.0000e+00]),\n",
              "  array([4.1000e+01, 1.4870e+03, 2.4208e+04, 1.7015e+04, 1.1895e+04,\n",
              "         6.6040e+03, 2.7390e+03, 4.9900e+02, 6.0000e+00, 0.0000e+00]),\n",
              "  array([1.8000e+01, 2.3000e+01, 6.5000e+01, 1.4220e+03, 1.0743e+04,\n",
              "         1.3465e+04, 9.1600e+03, 7.8550e+03, 6.7320e+03, 5.1630e+03,\n",
              "         3.9010e+03, 2.7030e+03, 1.7390e+03, 1.0000e+03, 4.2200e+02,\n",
              "         7.7000e+01, 6.0000e+00, 0.0000e+00, 0.0000e+00, 0.0000e+00])),\n",
              " (0.4065834297232357,\n",
              "  array([  485., 33565., 25101.,  5302.,    42.]),\n",
              "  array([    0.,   485., 14595., 18970., 15242.,  9859.,  4157.,  1145.,\n",
              "            42.,     0.]),\n",
              "  array([0.000e+00, 0.000e+00, 9.000e+00, 4.760e+02, 4.893e+03, 9.702e+03,\n",
              "         9.973e+03, 8.997e+03, 8.334e+03, 6.908e+03, 5.836e+03, 4.023e+03,\n",
              "         2.524e+03, 1.633e+03, 9.150e+02, 2.300e+02, 3.900e+01, 3.000e+00,\n",
              "         0.000e+00, 0.000e+00])),\n",
              " (0.4801277401348906,\n",
              "  array([   94., 20688., 29745., 13825.,   143.]),\n",
              "  array([    0.,    94.,  3871., 16817., 16377., 13368., 10783.,  3042.,\n",
              "           143.,     0.]),\n",
              "  array([0.000e+00, 0.000e+00, 4.000e+00, 9.000e+01, 9.320e+02, 2.939e+03,\n",
              "         7.978e+03, 8.839e+03, 8.532e+03, 7.845e+03, 6.971e+03, 6.397e+03,\n",
              "         6.054e+03, 4.729e+03, 2.292e+03, 7.500e+02, 1.190e+02, 2.400e+01,\n",
              "         0.000e+00, 0.000e+00])),\n",
              " (0.5027551360570588,\n",
              "  array([  121., 15093., 33378., 15788.,   115.]),\n",
              "  array([1.0000e+00, 1.2000e+02, 2.3210e+03, 1.2772e+04, 1.7089e+04,\n",
              "         1.6289e+04, 1.2173e+04, 3.6150e+03, 1.1500e+02, 0.0000e+00]),\n",
              "  array([0.000e+00, 1.000e+00, 2.000e+00, 1.180e+02, 6.570e+02, 1.664e+03,\n",
              "         5.006e+03, 7.766e+03, 8.683e+03, 8.406e+03, 8.390e+03, 7.899e+03,\n",
              "         6.909e+03, 5.264e+03, 2.770e+03, 8.450e+02, 1.120e+02, 3.000e+00,\n",
              "         0.000e+00, 0.000e+00])),\n",
              " (0.5541114039848116,\n",
              "  array([1.5000e+01, 6.6820e+03, 3.2406e+04, 2.5079e+04, 3.1300e+02]),\n",
              "  array([0.0000e+00, 1.5000e+01, 1.6060e+03, 5.0760e+03, 1.5412e+04,\n",
              "         1.6994e+04, 1.7836e+04, 7.2430e+03, 3.1300e+02, 0.0000e+00]),\n",
              "  array([0.000e+00, 0.000e+00, 2.000e+00, 1.300e+01, 3.980e+02, 1.208e+03,\n",
              "         1.718e+03, 3.358e+03, 7.054e+03, 8.358e+03, 8.397e+03, 8.597e+03,\n",
              "         9.389e+03, 8.447e+03, 5.238e+03, 2.005e+03, 3.050e+02, 8.000e+00,\n",
              "         0.000e+00, 0.000e+00])),\n",
              " (0.6628312241258937,\n",
              "  array([4.0000e+01, 3.6080e+03, 1.1501e+04, 4.4582e+04, 4.7640e+03]),\n",
              "  array([0.0000e+00, 4.0000e+01, 1.1820e+03, 2.4260e+03, 3.8710e+03,\n",
              "         7.6300e+03, 1.8545e+04, 2.6037e+04, 4.7630e+03, 1.0000e+00]),\n",
              "  array([0.0000e+00, 0.0000e+00, 3.0000e+00, 3.7000e+01, 3.3600e+02,\n",
              "         8.4600e+02, 1.0970e+03, 1.3290e+03, 1.6690e+03, 2.2020e+03,\n",
              "         3.0960e+03, 4.5340e+03, 7.3520e+03, 1.1193e+04, 1.4029e+04,\n",
              "         1.2008e+04, 4.1130e+03, 6.5000e+02, 1.0000e+00, 0.0000e+00])),\n",
              " (0.7156219365842247,\n",
              "  array([   82.,  3362.,  8758., 29860., 22433.]),\n",
              "  array([    0.,    82.,   948.,  2414.,  3815.,  4943.,  8671., 21189.,\n",
              "         22305.,   128.]),\n",
              "  array([0.0000e+00, 0.0000e+00, 2.0000e+00, 8.0000e+01, 3.8400e+02,\n",
              "         5.6400e+02, 9.6300e+02, 1.4510e+03, 1.7520e+03, 2.0630e+03,\n",
              "         2.2340e+03, 2.7090e+03, 3.5690e+03, 5.1020e+03, 8.2560e+03,\n",
              "         1.2933e+04, 1.4571e+04, 7.7340e+03, 1.2800e+02, 0.0000e+00])),\n",
              " (0.7222265121327199,\n",
              "  array([  189.,  3589.,  8947., 23499., 28271.]),\n",
              "  array([3.0000e+00, 1.8600e+02, 1.2800e+03, 2.3090e+03, 3.9220e+03,\n",
              "         5.0250e+03, 7.8580e+03, 1.5641e+04, 2.8118e+04, 1.5300e+02]),\n",
              "  array([1.0000e+00, 2.0000e+00, 5.0000e+00, 1.8100e+02, 5.5400e+02,\n",
              "         7.2600e+02, 1.0130e+03, 1.2960e+03, 1.8080e+03, 2.1140e+03,\n",
              "         2.4500e+03, 2.5750e+03, 3.0330e+03, 4.8250e+03, 6.4430e+03,\n",
              "         9.1980e+03, 1.6324e+04, 1.1794e+04, 1.5300e+02, 0.0000e+00])),\n",
              " (0.674268299868208,\n",
              "  array([  403.,  6034., 12406., 26810., 18842.]),\n",
              "  array([0.0000e+00, 4.0300e+02, 2.0420e+03, 3.9920e+03, 5.5330e+03,\n",
              "         6.8730e+03, 7.6850e+03, 1.9125e+04, 1.8841e+04, 1.0000e+00]),\n",
              "  array([0.0000e+00, 0.0000e+00, 4.0000e+00, 3.9900e+02, 9.3000e+02,\n",
              "         1.1120e+03, 1.7360e+03, 2.2560e+03, 2.5650e+03, 2.9680e+03,\n",
              "         3.3380e+03, 3.5350e+03, 3.5730e+03, 4.1120e+03, 6.3360e+03,\n",
              "         1.2789e+04, 1.5784e+04, 3.0570e+03, 1.0000e+00, 0.0000e+00])),\n",
              " (0.6213637057136211,\n",
              "  array([  380.,  8343., 14887., 36215.,  4670.]),\n",
              "  array([0.0000e+00, 3.8000e+02, 2.8240e+03, 5.5190e+03, 6.3630e+03,\n",
              "         8.5240e+03, 1.3435e+04, 2.2780e+04, 4.6690e+03, 1.0000e+00]),\n",
              "  array([0.0000e+00, 0.0000e+00, 7.0000e+00, 3.7300e+02, 1.1210e+03,\n",
              "         1.7030e+03, 2.6280e+03, 2.8910e+03, 2.9820e+03, 3.3810e+03,\n",
              "         3.9340e+03, 4.5900e+03, 5.7850e+03, 7.6500e+03, 1.0312e+04,\n",
              "         1.2468e+04, 4.5680e+03, 1.0100e+02, 1.0000e+00, 0.0000e+00])),\n",
              " (0.5125323528955721,\n",
              "  array([  638., 13993., 30788., 18661.,   415.]),\n",
              "  array([    0.,   638.,  4510.,  9483., 16467., 14321., 11139.,  7522.,\n",
              "           415.,     0.]),\n",
              "  array([0.000e+00, 0.000e+00, 4.000e+00, 6.340e+02, 1.409e+03, 3.101e+03,\n",
              "         4.265e+03, 5.218e+03, 8.038e+03, 8.429e+03, 7.704e+03, 6.617e+03,\n",
              "         5.704e+03, 5.435e+03, 4.811e+03, 2.711e+03, 4.150e+02, 0.000e+00,\n",
              "         0.000e+00, 0.000e+00])),\n",
              " (0.4337111450500015,\n",
              "  array([5.7700e+02, 3.0233e+04, 2.4308e+04, 9.3720e+03, 5.0000e+00]),\n",
              "  array([0.0000e+00, 5.7700e+02, 8.6310e+03, 2.1602e+04, 1.4664e+04,\n",
              "         9.6440e+03, 7.6900e+03, 1.6820e+03, 5.0000e+00, 0.0000e+00]),\n",
              "  array([0.0000e+00, 0.0000e+00, 7.0000e+00, 5.7000e+02, 2.3700e+03,\n",
              "         6.2610e+03, 1.0880e+04, 1.0722e+04, 8.2350e+03, 6.4290e+03,\n",
              "         5.1640e+03, 4.4800e+03, 4.2050e+03, 3.4850e+03, 1.4680e+03,\n",
              "         2.1400e+02, 5.0000e+00, 0.0000e+00, 0.0000e+00, 0.0000e+00])),\n",
              " (0.36278731529575764,\n",
              "  array([  455., 42861., 20030.,  1149.,     0.]),\n",
              "  array([    0.,   455., 22482., 20379., 12598.,  7432.,  1094.,    55.,\n",
              "             0.,     0.]),\n",
              "  array([0.0000e+00, 0.0000e+00, 4.0000e+00, 4.5100e+02, 6.5330e+03,\n",
              "         1.5949e+04, 1.1940e+04, 8.4390e+03, 6.8660e+03, 5.7320e+03,\n",
              "         4.8020e+03, 2.6300e+03, 9.3000e+02, 1.6400e+02, 5.3000e+01,\n",
              "         2.0000e+00, 0.0000e+00, 0.0000e+00, 0.0000e+00, 0.0000e+00])),\n",
              " (0.3632261460047594,\n",
              "  array([ 3908., 35816., 21675.,  1188.,     0.]),\n",
              "  array([ 1918.,  1990., 15256., 20560., 13833.,  7842.,  1144.,    44.,\n",
              "             0.,     0.]),\n",
              "  array([1.1680e+03, 7.5000e+02, 7.2100e+02, 1.2690e+03, 4.0400e+03,\n",
              "         1.1216e+04, 1.1761e+04, 8.7990e+03, 7.2380e+03, 6.5950e+03,\n",
              "         5.0320e+03, 2.8100e+03, 9.2200e+02, 2.2200e+02, 4.3000e+01,\n",
              "         1.0000e+00, 0.0000e+00, 0.0000e+00, 0.0000e+00, 0.0000e+00])),\n",
              " (0.284254002401055,\n",
              "  array([12818., 25472., 13055.,   299.,     0.]),\n",
              "  array([1.1410e+04, 1.4080e+03, 1.1465e+04, 1.4007e+04, 9.7700e+03,\n",
              "         3.2850e+03, 2.9000e+02, 9.0000e+00, 0.0000e+00, 0.0000e+00]),\n",
              "  array([9.973e+03, 1.437e+03, 4.760e+02, 9.320e+02, 3.778e+03, 7.687e+03,\n",
              "         7.485e+03, 6.522e+03, 5.395e+03, 4.375e+03, 2.407e+03, 8.780e+02,\n",
              "         2.400e+02, 5.000e+01, 9.000e+00, 0.000e+00, 0.000e+00, 0.000e+00,\n",
              "         0.000e+00, 0.000e+00])),\n",
              " (0.25117394891546796,\n",
              "  array([16524., 23038.,  9589.,   179.,     0.]),\n",
              "  array([1.2819e+04, 3.7050e+03, 1.1224e+04, 1.1814e+04, 8.3230e+03,\n",
              "         1.2660e+03, 1.7600e+02, 3.0000e+00, 0.0000e+00, 0.0000e+00]),\n",
              "  array([1.0358e+04, 2.4610e+03, 1.7380e+03, 1.9670e+03, 4.6190e+03,\n",
              "         6.6050e+03, 6.0400e+03, 5.7740e+03, 5.3000e+03, 3.0230e+03,\n",
              "         9.6000e+02, 3.0600e+02, 1.3000e+02, 4.6000e+01, 3.0000e+00,\n",
              "         0.0000e+00, 0.0000e+00, 0.0000e+00, 0.0000e+00, 0.0000e+00])),\n",
              " (0.14219541644686787,\n",
              "  array([2.1608e+04, 9.8120e+03, 2.5250e+03, 1.7600e+02, 1.0000e+00]),\n",
              "  array([1.9087e+04, 2.5210e+03, 6.3150e+03, 3.4970e+03, 1.9860e+03,\n",
              "         5.3900e+02, 1.6500e+02, 1.1000e+01, 0.0000e+00, 1.0000e+00]),\n",
              "  array([1.6762e+04, 2.3250e+03, 1.0090e+03, 1.5120e+03, 3.8890e+03,\n",
              "         2.4260e+03, 1.8380e+03, 1.6590e+03, 1.3720e+03, 6.1400e+02,\n",
              "         3.3800e+02, 2.0100e+02, 1.2200e+02, 4.3000e+01, 1.0000e+01,\n",
              "         1.0000e+00, 0.0000e+00, 0.0000e+00, 0.0000e+00, 1.0000e+00]))]"
            ]
          },
          "metadata": {},
          "execution_count": 68
        }
      ]
    },
    {
      "cell_type": "code",
      "source": [
        "# 6min 39sec - yay!\n",
        "# only iterate through each image once, sort into each bin and keep track of sum\n",
        "# filtered to not compute anything for average\n",
        "\n",
        "for year in tqdm(range(2000, 2023)): # until 2022\n",
        "  binned_observations = process_avg_and_5_10_20_bins_batch(modis_per_year[year]['observations'], max_val=MAX_VAL, min_val=MIN_VAL)\n",
        "  \n",
        "  # unpack from [ ( , , , ) ] to [], [], [], []\n",
        "  avg = []\n",
        "  bins_5 = []\n",
        "  bins_10 = []\n",
        "  bins_20 = []\n",
        "\n",
        "  for (avg_i, bins_5_i, bins_10_i, bins_20_i) in binned_observations:\n",
        "    avg.append(avg_i)\n",
        "    bins_5.append(bins_5_i)\n",
        "    bins_10.append(bins_10_i)\n",
        "    bins_20.append(bins_20_i)\n",
        "\n",
        "  modis_per_year[year]['avg'] = avg\n",
        "  modis_per_year[year]['bins_5'] = bins_5\n",
        "  modis_per_year[year]['bins_10'] = bins_10\n",
        "  modis_per_year[year]['bins_20'] = bins_20"
      ],
      "metadata": {
        "colab": {
          "base_uri": "https://localhost:8080/"
        },
        "id": "Cjz_nifEquSo",
        "outputId": "ebbabab6-9a21-4705-dff7-84a1e5b697a1"
      },
      "execution_count": null,
      "outputs": [
        {
          "output_type": "stream",
          "name": "stderr",
          "text": [
            "\r  0%|          | 0/23 [00:00<?, ?it/s]"
          ]
        },
        {
          "output_type": "stream",
          "name": "stdout",
          "text": [
            "num_observations 20\n",
            "count, sum, avg 64113 19213.01730000008 0.299674282906744\n",
            "count, sum, avg 64341 19905.591799999853 0.30937647534231444\n",
            "count, sum, avg 64412 21886.207599999932 0.33978463019313065\n",
            "count, sum, avg 64494 23364.553099999917 0.3622748333178267\n",
            "count, sum, avg 64495 26222.598300000085 0.4065834297232357\n",
            "count, sum, avg 64495 30965.83859999977 0.4801277401348906\n",
            "count, sum, avg 64495 32425.192500000005 0.5027551360570588\n",
            "count, sum, avg 64495 35737.41500000042 0.5541114039848116\n",
            "count, sum, avg 64495 42749.29979999951 0.6628312241258937\n",
            "count, sum, avg 64495 46154.03679999957 0.7156219365842247\n",
            "count, sum, avg 64495 46579.99889999977 0.7222265121327199\n",
            "count, sum, avg 64495 43486.934000000074 0.674268299868208\n",
            "count, sum, avg 64495 40074.852199999994 0.6213637057136211\n",
            "count, sum, avg 64495 33055.77409999992 0.5125323528955721\n",
            "count, sum, avg 64495 27972.200299999848 0.4337111450500015\n",
            "count, sum, avg 64495 23397.96789999989 0.36278731529575764\n",
            "count, sum, avg 62587 22733.234799999875 0.3632261460047594\n",
            "count, sum, avg 51644 14680.013700000083 0.284254002401055\n",
            "count, sum, avg 49330 12390.410900000034 0.25117394891546796\n"
          ]
        },
        {
          "output_type": "stream",
          "name": "stderr",
          "text": [
            "\r  4%|▍         | 1/23 [00:15<05:36, 15.29s/it]"
          ]
        },
        {
          "output_type": "stream",
          "name": "stdout",
          "text": [
            "count, sum, avg 34122 4851.992000000026 0.14219541644686787\n",
            "num_observations 23\n",
            "count, sum, avg 34537 6618.126400000029 0.19162424066942785\n",
            "count, sum, avg 34873 7715.934800000014 0.22125813093224023\n",
            "count, sum, avg 35906 8846.868400000028 0.24638969531554694\n",
            "count, sum, avg 37777 10384.31799999997 0.27488466527251953\n",
            "count, sum, avg 46578 12990.997499999941 0.27890844390055264\n",
            "count, sum, avg 54707 16144.73849999993 0.29511284661926135\n",
            "count, sum, avg 64374 22235.95109999995 0.34541819834094434\n",
            "count, sum, avg 64493 25304.733800000206 0.39236403640705514\n",
            "count, sum, avg 64495 29671.464400000037 0.4600583673152963\n",
            "count, sum, avg 64495 33495.50850000034 0.5193504690286121\n",
            "count, sum, avg 64495 35824.11759999997 0.5554557345530656\n",
            "count, sum, avg 64495 43107.68929999998 0.668388081246608\n",
            "count, sum, avg 64495 44803.343699999954 0.6946793348321568\n",
            "count, sum, avg 64495 46423.41759999977 0.7197987068764985\n",
            "count, sum, avg 64495 44307.46729999984 0.6869907326149288\n",
            "count, sum, avg 64495 41437.02299999981 0.6424842700984543\n",
            "count, sum, avg 64495 35937.140200000045 0.5572081587719986\n",
            "count, sum, avg 64495 30020.423199999776 0.465469000697725\n",
            "count, sum, avg 64494 25311.552300000225 0.3924636756907654\n",
            "count, sum, avg 64495 23183.104899999882 0.35945584774013306\n",
            "count, sum, avg 64284 22330.486900000204 0.3473723928193672\n",
            "count, sum, avg 59440 19024.616800000003 0.32006421265141327\n"
          ]
        },
        {
          "output_type": "stream",
          "name": "stderr",
          "text": [
            "\r  9%|▊         | 2/23 [00:31<05:36, 16.04s/it]"
          ]
        },
        {
          "output_type": "stream",
          "name": "stdout",
          "text": [
            "count, sum, avg 60475 17979.576400000115 0.2973059346837555\n",
            "num_observations 23\n",
            "count, sum, avg 62493 16730.908299999952 0.26772451794600916\n",
            "count, sum, avg 61141 15261.090600000029 0.24960485762418064\n",
            "count, sum, avg 62310 15686.44010000009 0.25174835660407785\n",
            "count, sum, avg 63676 17168.38050000018 0.2696209011244453\n",
            "count, sum, avg 59670 15399.273100000062 0.2580739584380771\n",
            "count, sum, avg 62646 18725.980000000105 0.29891740893273483\n",
            "count, sum, avg 64475 21879.740400000344 0.3393523132997339\n",
            "count, sum, avg 64473 25842.18890000014 0.4008218773750274\n",
            "count, sum, avg 64494 28541.585900000133 0.4425463748565779\n",
            "count, sum, avg 64495 30553.79540000002 0.47373897821536587\n",
            "count, sum, avg 64495 35096.761000000406 0.5441780137995257\n",
            "count, sum, avg 64495 39727.2798000002 0.6159745685712101\n",
            "count, sum, avg 64495 43528.2484999997 0.6749088844096396\n",
            "count, sum, avg 64495 44406.48020000008 0.6885259353438263\n",
            "count, sum, avg 64495 44071.21639999974 0.6833276440034072\n",
            "count, sum, avg 64495 41732.79900000013 0.6470703000232596\n",
            "count, sum, avg 64495 36165.00019999966 0.5607411458252525\n",
            "count, sum, avg 64495 30494.145399999943 0.4728141003178532\n",
            "count, sum, avg 64485 25429.268699999928 0.3943439357990219\n",
            "count, sum, avg 64455 23815.04339999976 0.3694832580870337\n",
            "count, sum, avg 64459 22148.30780000023 0.3436030313842944\n",
            "count, sum, avg 64422 18937.743999999875 0.2939639253671087\n"
          ]
        },
        {
          "output_type": "stream",
          "name": "stderr",
          "text": [
            "\r 13%|█▎        | 3/23 [00:49<05:34, 16.71s/it]"
          ]
        },
        {
          "output_type": "stream",
          "name": "stdout",
          "text": [
            "count, sum, avg 58691 17022.860600000087 0.2900420950401269\n",
            "num_observations 23\n",
            "count, sum, avg 60928 16417.46719999994 0.2694568539915957\n",
            "count, sum, avg 59679 11196.100100000069 0.18760535699324835\n",
            "count, sum, avg 58033 12138.986199999945 0.20917385280788423\n",
            "count, sum, avg 56048 11652.805000000071 0.2079075970596644\n",
            "count, sum, avg 63160 16420.82049999998 0.2599876583280554\n",
            "count, sum, avg 64434 20618.642199999846 0.3199963094018662\n",
            "count, sum, avg 64486 22845.69570000002 0.35427372918152805\n",
            "count, sum, avg 64495 26976.797400000043 0.418277345530662\n",
            "count, sum, avg 64495 30585.847699999864 0.47423595162415483\n",
            "count, sum, avg 64495 32914.13220000026 0.5103361842003297\n",
            "count, sum, avg 64495 36835.024000000114 0.5711299170478349\n",
            "count, sum, avg 64495 40975.502700000085 0.6353283618885198\n",
            "count, sum, avg 64495 44392.02089999961 0.6883017427707514\n",
            "count, sum, avg 64495 45211.4139000003 0.7010064950771424\n",
            "count, sum, avg 64495 42936.762800001 0.6657378525467246\n",
            "count, sum, avg 64495 39526.110599999745 0.6128554244515039\n",
            "count, sum, avg 64495 34773.29149999973 0.5391625939995307\n",
            "count, sum, avg 64495 29064.368499999953 0.45064529808512216\n",
            "count, sum, avg 64495 25284.921700000174 0.39204468098302464\n",
            "count, sum, avg 61508 20922.14669999998 0.34015325973857025\n",
            "count, sum, avg 62179 21545.17570000031 0.3465024477717607\n",
            "count, sum, avg 57571 13196.174400000054 0.22921565371454472\n"
          ]
        },
        {
          "output_type": "stream",
          "name": "stderr",
          "text": [
            "\r 17%|█▋        | 4/23 [01:06<05:20, 16.87s/it]"
          ]
        },
        {
          "output_type": "stream",
          "name": "stdout",
          "text": [
            "count, sum, avg 59209 16347.712700000116 0.276101820669157\n",
            "num_observations 23\n",
            "count, sum, avg 54509 13647.758799999976 0.2503762461244928\n",
            "count, sum, avg 54114 12434.724599999934 0.2297875706841101\n",
            "count, sum, avg 33171 6243.400499999958 0.18821863977570644\n",
            "count, sum, avg 46653 12030.736999999966 0.2578770282725648\n",
            "count, sum, avg 57027 16522.07339999993 0.28972369930033015\n",
            "count, sum, avg 64274 20222.12040000007 0.31462364875377397\n",
            "count, sum, avg 64495 23234.08019999994 0.3602462237382733\n",
            "count, sum, avg 64495 26837.244899999805 0.41611357314520203\n",
            "count, sum, avg 64493 29940.26610000016 0.4642405547888943\n",
            "count, sum, avg 64495 32927.73939999961 0.5105471648964977\n",
            "count, sum, avg 64495 38682.36980000027 0.5997731576091212\n",
            "count, sum, avg 64495 41682.22969999979 0.6462862190867477\n",
            "count, sum, avg 64495 46481.241700000646 0.7206952740522621\n",
            "count, sum, avg 64495 46938.6743000005 0.7277878021552135\n",
            "count, sum, avg 64495 45630.82689999979 0.7075095263198665\n",
            "count, sum, avg 64495 43373.130800000035 0.6725037723854568\n",
            "count, sum, avg 64495 37195.5949000002 0.5767205969455027\n",
            "count, sum, avg 64495 30831.738700000078 0.4780485107372677\n",
            "count, sum, avg 64494 26237.788599999847 0.40682526436567507\n",
            "count, sum, avg 64493 25203.431300000226 0.390793284542512\n",
            "count, sum, avg 64028 22263.947200000304 0.34772204660461525\n",
            "count, sum, avg 64106 20958.13759999992 0.32692942314291834\n"
          ]
        },
        {
          "output_type": "stream",
          "name": "stderr",
          "text": [
            "\r 22%|██▏       | 5/23 [01:23<05:07, 17.08s/it]"
          ]
        },
        {
          "output_type": "stream",
          "name": "stdout",
          "text": [
            "count, sum, avg 62110 16942.198699999975 0.2727773096119783\n",
            "num_observations 23\n",
            "count, sum, avg 47726 9268.20890000001 0.19419622218497276\n",
            "count, sum, avg 49334 10708.06790000001 0.21705249726355066\n",
            "count, sum, avg 59131 14715.025499999938 0.24885467013918144\n",
            "count, sum, avg 59502 15260.270700000103 0.2564665170918642\n",
            "count, sum, avg 62040 16889.66100000011 0.27223824951644277\n",
            "count, sum, avg 64247 20549.450499999897 0.3198507401123772\n",
            "count, sum, avg 64492 23718.971600000114 0.36778161012218746\n",
            "count, sum, avg 64495 27170.590199999973 0.4212821179936425\n",
            "count, sum, avg 64495 29373.738399999813 0.4554421024885621\n",
            "count, sum, avg 64495 32993.30749999989 0.5115638033956104\n",
            "count, sum, avg 64495 38406.08729999959 0.5954893759206077\n",
            "count, sum, avg 64495 43811.401399999995 0.6792991921854407\n",
            "count, sum, avg 64495 46042.940699999825 0.7138993828978963\n",
            "count, sum, avg 64495 45516.878199999286 0.7057427428482718\n",
            "count, sum, avg 64495 44898.541600000506 0.696155385688821\n",
            "count, sum, avg 64495 42234.93999999954 0.6548560353515704\n",
            "count, sum, avg 64495 34575.62249999997 0.5360977207535463\n",
            "count, sum, avg 64495 30420.488000000005 0.4716720365919839\n",
            "count, sum, avg 64495 26683.498700000295 0.4137297263353794\n",
            "count, sum, avg 64485 24543.251900000036 0.38060404590214836\n",
            "count, sum, avg 64061 21000.058799999813 0.32781347153494034\n",
            "count, sum, avg 47738 9356.282500000003 0.19599234362562326\n"
          ]
        },
        {
          "output_type": "stream",
          "name": "stderr",
          "text": [
            "\r 26%|██▌       | 6/23 [01:41<04:50, 17.09s/it]"
          ]
        },
        {
          "output_type": "stream",
          "name": "stdout",
          "text": [
            "count, sum, avg 46890 11515.033299999975 0.2455754595862652\n",
            "num_observations 23\n",
            "count, sum, avg 52912 15252.205399999895 0.2882560742364661\n",
            "count, sum, avg 54571 14883.759500000127 0.272741190375843\n",
            "count, sum, avg 57768 14591.397399999962 0.2525861618889344\n",
            "count, sum, avg 57992 14814.352099999911 0.255455098979168\n",
            "count, sum, avg 58611 17013.48700000009 0.29027805360768605\n",
            "count, sum, avg 63059 20051.744199999746 0.3179838595600905\n",
            "count, sum, avg 64470 22992.9983 0.3566464758802544\n",
            "count, sum, avg 64495 26996.53239999992 0.41858333824327343\n",
            "count, sum, avg 64495 30213.040400000024 0.46845554539111595\n",
            "count, sum, avg 64495 32157.61650000017 0.498606349329408\n",
            "count, sum, avg 64495 36447.51319999973 0.5651215319016937\n",
            "count, sum, avg 64495 42002.73879999948 0.6512557376540737\n",
            "count, sum, avg 64495 44535.30520000042 0.6905233770059759\n",
            "count, sum, avg 64495 44026.060300000165 0.6826274951546657\n",
            "count, sum, avg 64495 43893.98549999987 0.6805796650903151\n",
            "count, sum, avg 64495 42284.723800000465 0.6556279370493909\n",
            "count, sum, avg 64495 36705.834800000266 0.569126828436317\n",
            "count, sum, avg 64495 29610.260100000083 0.4591093898751854\n",
            "count, sum, avg 64493 25485.501599999672 0.39516694214875525\n",
            "count, sum, avg 64485 22850.629799999882 0.35435573854384556\n",
            "count, sum, avg 64464 21668.19699999978 0.3361286454455165\n",
            "count, sum, avg 62569 17771.66209999999 0.2840330211446562\n"
          ]
        },
        {
          "output_type": "stream",
          "name": "stderr",
          "text": [
            "\r 30%|███       | 7/23 [01:58<04:34, 17.13s/it]"
          ]
        },
        {
          "output_type": "stream",
          "name": "stdout",
          "text": [
            "count, sum, avg 61078 17569.22150000003 0.2876522070139826\n",
            "num_observations 23\n",
            "count, sum, avg 53741 15244.125500000073 0.2836591336223753\n",
            "count, sum, avg 48506 8767.654400000027 0.18075401805962205\n",
            "count, sum, avg 43549 7435.373999999989 0.17073581482927253\n",
            "count, sum, avg 45988 10168.953899999946 0.22112189919109215\n",
            "count, sum, avg 57625 15894.588599999805 0.27582800173535454\n",
            "count, sum, avg 64331 22379.65049999987 0.34788283253796565\n",
            "count, sum, avg 64447 23621.05439999999 0.3665190683817709\n",
            "count, sum, avg 64495 26541.11189999981 0.4115220079075868\n",
            "count, sum, avg 64495 30533.12810000024 0.47341853011861756\n",
            "count, sum, avg 64495 34949.169800000265 0.5418896007442479\n",
            "count, sum, avg 64495 38207.28290000004 0.5924068982091641\n",
            "count, sum, avg 64495 43965.819300000294 0.6816934537561097\n",
            "count, sum, avg 64495 45239.17400000005 0.7014369175905116\n",
            "count, sum, avg 64495 45042.74070000041 0.6983912039693063\n",
            "count, sum, avg 64495 43672.7769000002 0.6771498085122909\n",
            "count, sum, avg 64495 41152.22109999998 0.6380683944491818\n",
            "count, sum, avg 64495 34285.4389 0.5315984014264672\n",
            "count, sum, avg 64495 29604.73199999999 0.459023676253973\n",
            "count, sum, avg 64495 27402.8900999998 0.42488394604232577\n",
            "count, sum, avg 64495 24668.072399999877 0.38248038452593036\n",
            "count, sum, avg 64160 22122.8424000002 0.34480739401496574\n",
            "count, sum, avg 46685 11000.7882 0.2356386034058049\n"
          ]
        },
        {
          "output_type": "stream",
          "name": "stderr",
          "text": [
            "\r 35%|███▍      | 8/23 [02:19<04:36, 18.43s/it]"
          ]
        },
        {
          "output_type": "stream",
          "name": "stdout",
          "text": [
            "count, sum, avg 44465 10324.603299999992 0.23219618351512405\n",
            "num_observations 23\n",
            "count, sum, avg 48398 10927.851100000136 0.22579137774288474\n",
            "count, sum, avg 49672 10218.08490000005 0.20571116323079502\n",
            "count, sum, avg 46243 9627.446700000019 0.20819251994896565\n",
            "count, sum, avg 47950 10778.954999999925 0.2247957247132414\n",
            "count, sum, avg 58510 14978.658300000043 0.25600168005469226\n",
            "count, sum, avg 63415 18528.204100000137 0.29217384057399887\n",
            "count, sum, avg 64195 21323.500699999906 0.3321676252044537\n",
            "count, sum, avg 64480 24695.989300000027 0.38300231544665053\n",
            "count, sum, avg 64495 28604.575500000312 0.4435161717962681\n",
            "count, sum, avg 64495 31372.946700000088 0.48643998294441565\n",
            "count, sum, avg 64495 34889.85990000003 0.540969996123731\n",
            "count, sum, avg 64495 39550.742300000624 0.6132373408791476\n",
            "count, sum, avg 64495 43678.89829999985 0.6772447212962222\n",
            "count, sum, avg 64495 45904.63560000037 0.7117549515466373\n",
            "count, sum, avg 64495 45663.19029999965 0.7080113233583945\n",
            "count, sum, avg 64495 43371.831999999595 0.6724836343902565\n",
            "count, sum, avg 64495 38920.56740000019 0.6034664299558135\n",
            "count, sum, avg 64495 32138.790499999825 0.4983144507326122\n",
            "count, sum, avg 64495 27518.446100000023 0.42667565082564574\n",
            "count, sum, avg 64495 23283.009700000108 0.3610048794480209\n",
            "count, sum, avg 63515 20079.77649999948 0.3161422734786976\n",
            "count, sum, avg 57578 13062.710500000103 0.22686982007016748\n"
          ]
        },
        {
          "output_type": "stream",
          "name": "stderr",
          "text": [
            "\r 39%|███▉      | 9/23 [02:36<04:10, 17.90s/it]"
          ]
        },
        {
          "output_type": "stream",
          "name": "stdout",
          "text": [
            "count, sum, avg 49723 11383.989299999997 0.22894815879975056\n",
            "num_observations 23\n",
            "count, sum, avg 49645 10945.600300000018 0.22047739550810794\n",
            "count, sum, avg 40412 8184.1653999999935 0.20251819756507952\n",
            "count, sum, avg 51829 12112.03449999981 0.23369222828917807\n",
            "count, sum, avg 55111 13208.016499999874 0.23966207290740277\n",
            "count, sum, avg 56534 15895.457700000075 0.28116633707149813\n",
            "count, sum, avg 57045 17830.68460000005 0.3125722604961005\n",
            "count, sum, avg 64191 20472.65900000001 0.31893347977130765\n",
            "count, sum, avg 64450 24411.330699999977 0.378763858805275\n",
            "count, sum, avg 64495 28862.794599999877 0.44751987906039037\n",
            "count, sum, avg 64495 31305.96990000017 0.48540150244205243\n",
            "count, sum, avg 64494 36653.90700000012 0.5683304958600819\n",
            "count, sum, avg 64495 40530.76899999986 0.6284327312194722\n",
            "count, sum, avg 64495 45693.05889999978 0.7084744383285492\n",
            "count, sum, avg 64495 47184.17989999953 0.7315943856112804\n",
            "count, sum, avg 64495 47087.84540000011 0.7301007116830779\n",
            "count, sum, avg 64495 44656.07110000017 0.6923958616947077\n",
            "count, sum, avg 64495 38558.34329999992 0.597850117063337\n",
            "count, sum, avg 64491 32886.38419999983 0.5099375757857659\n",
            "count, sum, avg 64495 26796.99379999998 0.4154894767036201\n",
            "count, sum, avg 64495 23036.795599999936 0.357187310644235\n",
            "count, sum, avg 64453 21845.841099999896 0.3389421919848556\n",
            "count, sum, avg 59136 13934.944100000013 0.23564231770833355\n"
          ]
        },
        {
          "output_type": "stream",
          "name": "stderr",
          "text": [
            "\r 43%|████▎     | 10/23 [02:54<03:54, 18.02s/it]"
          ]
        },
        {
          "output_type": "stream",
          "name": "stdout",
          "text": [
            "count, sum, avg 36844 7940.436900000016 0.21551506079687374\n",
            "num_observations 23\n",
            "count, sum, avg 31615 6295.468100000024 0.1991291507195959\n",
            "count, sum, avg 39619 8643.655400000007 0.21816944900174176\n",
            "count, sum, avg 37376 6535.269199999997 0.1748520226883561\n",
            "count, sum, avg 32543 7902.92560000001 0.24284563807884982\n",
            "count, sum, avg 57820 16414.34470000012 0.28388697163611415\n",
            "count, sum, avg 64268 19560.54429999991 0.3043590013692648\n",
            "count, sum, avg 64456 23487.338800000092 0.3643933660171294\n",
            "count, sum, avg 64471 27806.86180000009 0.431308057886493\n",
            "count, sum, avg 64495 30333.008999999845 0.4703156678812287\n",
            "count, sum, avg 64495 32789.87160000007 0.5084095139158086\n",
            "count, sum, avg 64495 40711.8126000003 0.631239826343132\n",
            "count, sum, avg 64495 42998.69889999994 0.6666981766028365\n",
            "count, sum, avg 64495 47109.52439999981 0.7304368462671496\n",
            "count, sum, avg 64495 47466.696699999775 0.7359748306070203\n",
            "count, sum, avg 64495 45550.91129999973 0.7062704287154001\n",
            "count, sum, avg 64495 41025.679399999426 0.6361063555314277\n",
            "count, sum, avg 64495 34279.172400000025 0.5315012388557256\n",
            "count, sum, avg 64495 28658.519700000317 0.44435258082022355\n",
            "count, sum, avg 64495 24865.073099999852 0.38553489572834876\n",
            "count, sum, avg 64495 23170.4996999999 0.3592604031320242\n",
            "count, sum, avg 60428 18989.252900000214 0.3142459273846597\n",
            "count, sum, avg 49238 11058.355700000018 0.22458986352004587\n"
          ]
        },
        {
          "output_type": "stream",
          "name": "stderr",
          "text": [
            "\r 48%|████▊     | 11/23 [03:11<03:31, 17.60s/it]"
          ]
        },
        {
          "output_type": "stream",
          "name": "stdout",
          "text": [
            "count, sum, avg 45299 12085.992199999982 0.26680483454380854\n",
            "num_observations 23\n",
            "count, sum, avg 47182 11519.485899999923 0.24415001271671238\n",
            "count, sum, avg 36106 6981.696800000025 0.19336666482025217\n",
            "count, sum, avg 35574 7787.676400000018 0.21891483667847353\n",
            "count, sum, avg 48125 12747.913099999929 0.2648917007792193\n",
            "count, sum, avg 50107 14326.7133 0.2859223920809468\n",
            "count, sum, avg 56723 17612.7062999999 0.3105037868236853\n",
            "count, sum, avg 63229 21941.437400000115 0.34701541065017816\n",
            "count, sum, avg 64458 25240.51239999994 0.391580756461571\n",
            "count, sum, avg 64488 28440.172500000415 0.44101495627094056\n",
            "count, sum, avg 64495 31126.48289999983 0.48261854252267355\n",
            "count, sum, avg 64494 35907.95349999989 0.5567642493875382\n",
            "count, sum, avg 64495 40220.27859999975 0.6236185533762268\n",
            "count, sum, avg 64494 45647.35690000012 0.7077767993921934\n",
            "count, sum, avg 64494 46586.89080000032 0.7223445715880596\n",
            "count, sum, avg 64494 46130.31069999988 0.7152651517970645\n",
            "count, sum, avg 64494 43070.74819999976 0.6678256613018229\n",
            "count, sum, avg 64495 36829.6483000002 0.5710465664004992\n",
            "count, sum, avg 64495 29369.73630000009 0.4553800496162507\n",
            "count, sum, avg 64495 25319.49640000026 0.3925807644003451\n",
            "count, sum, avg 64495 23101.82789999971 0.35819564152259414\n",
            "count, sum, avg 64458 21360.719599999884 0.33138973595209104\n",
            "count, sum, avg 63313 18081.1865 0.28558410594980493\n"
          ]
        },
        {
          "output_type": "stream",
          "name": "stderr",
          "text": [
            "\r 52%|█████▏    | 12/23 [03:27<03:10, 17.29s/it]"
          ]
        },
        {
          "output_type": "stream",
          "name": "stdout",
          "text": [
            "count, sum, avg 63710 19253.598299999972 0.3022068482184896\n",
            "num_observations 23\n",
            "count, sum, avg 63659 18466.186300000143 0.29007974206318266\n",
            "count, sum, avg 60909 13535.814099999989 0.22223011541808252\n",
            "count, sum, avg 60582 16448.090999999968 0.2715012875111414\n",
            "count, sum, avg 62573 16419.529600000198 0.26240598341137866\n",
            "count, sum, avg 64027 19098.42540000005 0.29828705702281927\n",
            "count, sum, avg 64475 24472.743699999817 0.3795695029081011\n",
            "count, sum, avg 64495 26369.989699999736 0.40886874486393887\n",
            "count, sum, avg 64495 28192.241700000224 0.4371229041010966\n",
            "count, sum, avg 64495 29927.975899999958 0.46403559810837985\n",
            "count, sum, avg 64495 32591.01120000012 0.5053261679199956\n",
            "count, sum, avg 64495 36587.27789999995 0.5672885944646864\n",
            "count, sum, avg 64495 41549.135499999415 0.6442225831459713\n",
            "count, sum, avg 64495 43183.12099999998 0.6695576556322193\n",
            "count, sum, avg 64495 42700.70089999995 0.6620776943949136\n",
            "count, sum, avg 64495 41702.99280000021 0.64660815256997\n",
            "count, sum, avg 64495 37778.95569999994 0.5857656516008983\n",
            "count, sum, avg 64495 32258.873099999997 0.5001763408016124\n",
            "count, sum, avg 64495 27078.726200000096 0.41985775951624305\n",
            "count, sum, avg 64495 23834.01619999991 0.36954827816109637\n",
            "count, sum, avg 63600 21927.167999999885 0.3447667924528284\n",
            "count, sum, avg 62686 21022.09619999993 0.33535552116899997\n",
            "count, sum, avg 63135 20495.225499999975 0.32462541379583393\n"
          ]
        },
        {
          "output_type": "stream",
          "name": "stderr",
          "text": [
            "\r 57%|█████▋    | 13/23 [03:45<02:53, 17.35s/it]"
          ]
        },
        {
          "output_type": "stream",
          "name": "stdout",
          "text": [
            "count, sum, avg 48408 10509.148599999959 0.21709528590315566\n",
            "num_observations 23\n",
            "count, sum, avg 45244 9788.549699999998 0.21635022765449557\n",
            "count, sum, avg 55144 14506.9539 0.26307402255911794\n",
            "count, sum, avg 50701 13280.851400000023 0.2619445651959532\n",
            "count, sum, avg 46475 12007.339399999924 0.25836125658956266\n",
            "count, sum, avg 49080 13401.441399999941 0.2730530032599825\n",
            "count, sum, avg 54261 16988.797999999977 0.3130940823058915\n",
            "count, sum, avg 51721 18773.5289999998 0.3629769145994818\n",
            "count, sum, avg 64277 23811.94929999998 0.3704583179053157\n",
            "count, sum, avg 64493 26872.419099999726 0.4166718729164363\n",
            "count, sum, avg 64495 31758.626600000145 0.49241997984340097\n",
            "count, sum, avg 64495 33820.94359999972 0.5243963656097329\n",
            "count, sum, avg 64495 40776.413900000116 0.6322414745329114\n",
            "count, sum, avg 64495 44928.736100000104 0.6966235537638593\n",
            "count, sum, avg 64495 47485.29290000002 0.7362631661369102\n",
            "count, sum, avg 64495 46787.92859999952 0.7254504783316461\n",
            "count, sum, avg 64495 43685.98150000012 0.6773545468640998\n",
            "count, sum, avg 64495 38566.73819999948 0.5979802806419022\n",
            "count, sum, avg 64495 31692.256600000543 0.4913909078223202\n",
            "count, sum, avg 64495 27648.344500000225 0.42868973563842505\n",
            "count, sum, avg 64495 24116.17529999998 0.37392317699046407\n",
            "count, sum, avg 64400 20527.95230000005 0.3187570232919263\n",
            "count, sum, avg 53214 11392.45129999999 0.21408748261735613\n"
          ]
        },
        {
          "output_type": "stream",
          "name": "stderr",
          "text": [
            "\r 61%|██████    | 14/23 [04:01<02:34, 17.17s/it]"
          ]
        },
        {
          "output_type": "stream",
          "name": "stdout",
          "text": [
            "count, sum, avg 47467 10899.123400000084 0.22961475130090556\n",
            "num_observations 23\n",
            "count, sum, avg 47833 9699.882000000027 0.20278640269270226\n",
            "count, sum, avg 51944 9985.430500000017 0.19223453141845095\n",
            "count, sum, avg 45453 6649.440600000076 0.1462926671506848\n",
            "count, sum, avg 46118 9804.116000000022 0.21258762305390566\n",
            "count, sum, avg 57965 13909.257299999847 0.2399595842318614\n",
            "count, sum, avg 62794 16625.581500000164 0.2647638548268969\n",
            "count, sum, avg 64455 19942.05999999993 0.30939508184004233\n",
            "count, sum, avg 64494 23458.319400000004 0.3637287096474091\n",
            "count, sum, avg 64493 26486.219200000287 0.4106836276805279\n",
            "count, sum, avg 64494 30587.01399999989 0.4742613886563074\n",
            "count, sum, avg 64494 35523.600400000025 0.550804732223153\n",
            "count, sum, avg 64495 44180.85570000037 0.6850276098922454\n",
            "count, sum, avg 64495 46652.50660000033 0.7233507496705222\n",
            "count, sum, avg 64495 47336.85360000015 0.7339616032250585\n",
            "count, sum, avg 64495 47039.15820000015 0.7293458128537119\n",
            "count, sum, avg 64495 45297.9679999997 0.7023485231413241\n",
            "count, sum, avg 64495 39731.70909999982 0.6160432452128044\n",
            "count, sum, avg 64495 31440.011999999955 0.4874798356461734\n",
            "count, sum, avg 64495 27084.11920000016 0.419941378401429\n",
            "count, sum, avg 64473 23942.26099999996 0.3713532951778257\n",
            "count, sum, avg 63289 15542.19439999997 0.24557497195405156\n",
            "count, sum, avg 63391 16495.61279999988 0.2602201069552441\n"
          ]
        },
        {
          "output_type": "stream",
          "name": "stderr",
          "text": [
            "\r 65%|██████▌   | 15/23 [04:19<02:17, 17.16s/it]"
          ]
        },
        {
          "output_type": "stream",
          "name": "stdout",
          "text": [
            "count, sum, avg 59281 15017.725700000055 0.25333118031072444\n",
            "num_observations 23\n",
            "count, sum, avg 59324 10674.895600000093 0.17994227631312948\n",
            "count, sum, avg 62122 13319.0612 0.21440168056405137\n",
            "count, sum, avg 49063 9972.900199999942 0.20326723192629764\n",
            "count, sum, avg 51051 8145.59600000001 0.15955801061683433\n",
            "count, sum, avg 63959 17187.608299999843 0.26872853390453016\n",
            "count, sum, avg 64450 19669.23400000008 0.30518594259115717\n",
            "count, sum, avg 64491 22509.245599999806 0.3490292536943109\n",
            "count, sum, avg 64495 25037.250499999987 0.3882045197302115\n",
            "count, sum, avg 64494 29419.78769999997 0.4561631733184478\n",
            "count, sum, avg 64494 32723.91779999975 0.5073947623034661\n",
            "count, sum, avg 64495 37630.37169999993 0.5834618451042706\n",
            "count, sum, avg 64495 43877.93589999995 0.6803308147918437\n",
            "count, sum, avg 64495 46884.83400000001 0.7269530041088458\n",
            "count, sum, avg 64495 46915.80919999995 0.7274332769982161\n",
            "count, sum, avg 64495 46190.41610000016 0.7161860004651549\n",
            "count, sum, avg 64495 42295.14200000003 0.6557894720520975\n",
            "count, sum, avg 64495 36179.806199999926 0.5609707140088368\n",
            "count, sum, avg 64495 30239.55669999991 0.4688666826885791\n",
            "count, sum, avg 64495 25462.74509999997 0.39480184665477897\n",
            "count, sum, avg 64495 24383.667000000274 0.37807065664005385\n",
            "count, sum, avg 63547 21877.39120000011 0.34427103089052374\n",
            "count, sum, avg 60218 20040.10759999993 0.3327926467169273\n"
          ]
        },
        {
          "output_type": "stream",
          "name": "stderr",
          "text": [
            "\r 70%|██████▉   | 16/23 [04:39<02:07, 18.19s/it]"
          ]
        },
        {
          "output_type": "stream",
          "name": "stdout",
          "text": [
            "count, sum, avg 51823 15402.103000000001 0.29720593172915505\n",
            "num_observations 23\n",
            "count, sum, avg 45738 11956.10830000008 0.2614042655997219\n",
            "count, sum, avg 46789 12212.130000000041 0.26100429588151147\n",
            "count, sum, avg 49536 12622.515700000098 0.2548149971737746\n",
            "count, sum, avg 59759 16071.750700000059 0.26894276510651216\n",
            "count, sum, avg 64336 20874.036800000078 0.32445344441681295\n",
            "count, sum, avg 64454 22494.83910000006 0.349006098923264\n",
            "count, sum, avg 64495 23730.21799999987 0.36793887898286487\n",
            "count, sum, avg 64495 27226.306000000066 0.42214599581363\n",
            "count, sum, avg 64494 30002.15050000003 0.4651928939126125\n",
            "count, sum, avg 64495 33380.541899999895 0.5175679029382106\n",
            "count, sum, avg 64494 36206.24459999985 0.561389347846309\n",
            "count, sum, avg 64494 42330.057600000095 0.6563410177690963\n",
            "count, sum, avg 64494 47033.96290000009 0.7292765668124181\n",
            "count, sum, avg 64495 47925.06770000083 0.7430819086751039\n",
            "count, sum, avg 64495 47212.54629999944 0.7320342088533909\n",
            "count, sum, avg 64495 44704.61370000044 0.6931485184898122\n",
            "count, sum, avg 64495 38393.96140000035 0.5953013628963539\n",
            "count, sum, avg 64495 31167.781000000246 0.48325887278083957\n",
            "count, sum, avg 64495 27064.89420000002 0.41964329327854905\n",
            "count, sum, avg 64494 25610.25580000012 0.397095168542812\n",
            "count, sum, avg 64024 23088.683699999954 0.36062544826939824\n",
            "count, sum, avg 55098 14603.339899999946 0.2650430124505417\n"
          ]
        },
        {
          "output_type": "stream",
          "name": "stderr",
          "text": [
            "\r 74%|███████▍  | 17/23 [04:57<01:47, 17.95s/it]"
          ]
        },
        {
          "output_type": "stream",
          "name": "stdout",
          "text": [
            "count, sum, avg 53887 13708.883699999851 0.25440057342215844\n",
            "num_observations 23\n",
            "count, sum, avg 50887 12968.240899999992 0.25484388743686975\n",
            "count, sum, avg 49450 12774.255200000049 0.25832669767441957\n",
            "count, sum, avg 55079 15006.82790000002 0.27246006463443456\n",
            "count, sum, avg 59297 17940.928899999893 0.30256048198053687\n",
            "count, sum, avg 61235 19582.40999999995 0.3197911325222495\n",
            "count, sum, avg 64288 21875.24290000002 0.3402694577526135\n",
            "count, sum, avg 64489 24042.2914000001 0.3728122842655352\n",
            "count, sum, avg 64495 27368.13160000029 0.4243450127916938\n",
            "count, sum, avg 64495 29127.893499999784 0.4516302581595439\n",
            "count, sum, avg 64495 31414.289500000257 0.4870810062795605\n",
            "count, sum, avg 64495 34398.81180000007 0.5333562570741929\n",
            "count, sum, avg 64495 41597.78420000025 0.6449768850298512\n",
            "count, sum, avg 64495 45762.38910000003 0.7095494084812781\n",
            "count, sum, avg 64495 46965.38889999956 0.728202014109614\n",
            "count, sum, avg 64495 47444.285700000226 0.7356273463059186\n",
            "count, sum, avg 64495 44196.80450000033 0.685274897278864\n",
            "count, sum, avg 64495 37749.83180000001 0.5853140832622685\n",
            "count, sum, avg 64452 31420.713499999947 0.4875056398560161\n",
            "count, sum, avg 64495 27345.460199999827 0.4239934909682894\n",
            "count, sum, avg 62073 21527.6532 0.34681186989512347\n",
            "count, sum, avg 64322 21949.55400000016 0.3412448928826865\n",
            "count, sum, avg 62955 18254.66989999996 0.2899637820665549\n"
          ]
        },
        {
          "output_type": "stream",
          "name": "stderr",
          "text": [
            "\r 78%|███████▊  | 18/23 [05:14<01:29, 17.84s/it]"
          ]
        },
        {
          "output_type": "stream",
          "name": "stdout",
          "text": [
            "count, sum, avg 57493 11446.70259999999 0.19909732663106794\n",
            "num_observations 23\n",
            "count, sum, avg 55040 9165.560199999942 0.1665254396802315\n",
            "count, sum, avg 59359 13970.310299999963 0.23535285803332204\n",
            "count, sum, avg 54973 11680.852500000079 0.21248344641915265\n",
            "count, sum, avg 52698 13614.56090000001 0.25835061861930264\n",
            "count, sum, avg 52260 14172.987400000002 0.27120144278606967\n",
            "count, sum, avg 57157 16225.294100000016 0.2838723883338876\n",
            "count, sum, avg 61550 18334.098500000087 0.29787324939074067\n",
            "count, sum, avg 64495 22109.399900000248 0.34280796805954333\n",
            "count, sum, avg 64495 27773.550099999546 0.4306310582215605\n",
            "count, sum, avg 64495 31688.40390000001 0.49133117140863647\n",
            "count, sum, avg 64495 38650.61459999987 0.5992807907589716\n",
            "count, sum, avg 64495 45756.631400000435 0.7094601348941846\n",
            "count, sum, avg 64495 47454.50360000014 0.7357857756415248\n",
            "count, sum, avg 64495 47735.62230000007 0.7401445429878296\n",
            "count, sum, avg 64495 45870.99050000006 0.7112332816497412\n",
            "count, sum, avg 64495 42952.03160000022 0.6659745964803507\n",
            "count, sum, avg 64495 35102.06180000027 0.5442602031165249\n",
            "count, sum, avg 64488 29540.341199999653 0.4580750093040512\n",
            "count, sum, avg 64495 26663.249500000195 0.4134157609117016\n",
            "count, sum, avg 63769 22008.006599999877 0.34512077341654845\n",
            "count, sum, avg 63427 17785.772599999847 0.2804132719504288\n",
            "count, sum, avg 59659 15438.723300000043 0.25878280393570197\n"
          ]
        },
        {
          "output_type": "stream",
          "name": "stderr",
          "text": [
            "\r 83%|████████▎ | 19/23 [05:31<01:10, 17.56s/it]"
          ]
        },
        {
          "output_type": "stream",
          "name": "stdout",
          "text": [
            "count, sum, avg 57103 15341.311000000058 0.26866033308232595\n",
            "num_observations 23\n",
            "count, sum, avg 56088 14900.336000000003 0.26565996291541866\n",
            "count, sum, avg 42364 8283.136699999948 0.1955230077424216\n",
            "count, sum, avg 48344 10806.144799999982 0.22352607976170738\n",
            "count, sum, avg 34732 9253.217899999947 0.26641765230910824\n",
            "count, sum, avg 47028 13397.322300000023 0.28487969507527483\n",
            "count, sum, avg 57037 17076.03339999993 0.2993851955748011\n",
            "count, sum, avg 64299 22119.730199999944 0.34401359585685537\n",
            "count, sum, avg 64491 25631.19520000014 0.39743832782869143\n",
            "count, sum, avg 64495 28860.864099999802 0.44748994650747814\n",
            "count, sum, avg 64493 31273.58440000002 0.48491440001240477\n",
            "count, sum, avg 64494 33349.41040000036 0.5170932241758979\n",
            "count, sum, avg 64495 39392.47349999979 0.610783370803935\n",
            "count, sum, avg 64495 44514.85900000074 0.6902063570819558\n",
            "count, sum, avg 64495 46866.59520000048 0.7266702100938133\n",
            "count, sum, avg 64495 47227.19560000018 0.7322613473912735\n",
            "count, sum, avg 64495 45936.20410000007 0.7122444235987296\n",
            "count, sum, avg 64495 41102.36140000059 0.6372953159159717\n",
            "count, sum, avg 64411 34212.78879999995 0.5311637577432419\n",
            "count, sum, avg 64494 27442.10880000011 0.4254986324309255\n",
            "count, sum, avg 64440 21569.69779999997 0.33472529174425775\n",
            "count, sum, avg 63364 19635.421000000108 0.30988291458872713\n",
            "count, sum, avg 54311 14285.488099999991 0.2630312109885657\n"
          ]
        },
        {
          "output_type": "stream",
          "name": "stderr",
          "text": [
            "\r 87%|████████▋ | 20/23 [05:48<00:52, 17.36s/it]"
          ]
        },
        {
          "output_type": "stream",
          "name": "stdout",
          "text": [
            "count, sum, avg 52892 13734.371199999996 0.2596682144747787\n",
            "num_observations 23\n",
            "count, sum, avg 50889 13670.520500000119 0.2686340957770858\n",
            "count, sum, avg 42881 9727.691200000028 0.22685317972995098\n",
            "count, sum, avg 47881 11513.634499999996 0.2404635345961863\n",
            "count, sum, avg 51306 13580.260199999859 0.2646914629867824\n",
            "count, sum, avg 58569 16871.36519999998 0.2880596424729802\n",
            "count, sum, avg 62835 20655.90210000015 0.32873242778706374\n",
            "count, sum, avg 64444 23116.31969999998 0.35870398640680246\n",
            "count, sum, avg 64494 25239.893300000105 0.39135258008497076\n",
            "count, sum, avg 64495 27731.698799999944 0.42998215055430566\n",
            "count, sum, avg 64495 31033.556200000097 0.4811777067989782\n",
            "count, sum, avg 64495 34289.58929999978 0.5316627537018339\n",
            "count, sum, avg 64495 41841.38250000054 0.648753895650834\n",
            "count, sum, avg 64495 46728.19089999925 0.7245242406387976\n",
            "count, sum, avg 64495 48806.33780000061 0.7567460702380124\n",
            "count, sum, avg 64495 47462.81200000015 0.7359145980308575\n",
            "count, sum, avg 64495 43523.7598999998 0.6748392883169207\n",
            "count, sum, avg 64495 35744.371800000255 0.5542192697108342\n",
            "count, sum, avg 64495 29339.2495000002 0.4549073494069339\n",
            "count, sum, avg 64121 23726.983200000093 0.3700345159932018\n",
            "count, sum, avg 64493 22612.147199999697 0.3506139767106461\n",
            "count, sum, avg 64252 21413.225000000195 0.33326939239245773\n",
            "count, sum, avg 64371 20358.103899999987 0.3162620419132837\n"
          ]
        },
        {
          "output_type": "stream",
          "name": "stderr",
          "text": [
            "\r 91%|█████████▏| 21/23 [06:09<00:37, 18.53s/it]"
          ]
        },
        {
          "output_type": "stream",
          "name": "stdout",
          "text": [
            "count, sum, avg 62453 16065.32870000002 0.25723870270443405\n",
            "num_observations 23\n",
            "count, sum, avg 54509 11567.521299999975 0.21221305289034792\n",
            "count, sum, avg 56104 11818.411999999995 0.21065186082988727\n",
            "count, sum, avg 48448 8475.280699999981 0.17493561550528364\n",
            "count, sum, avg 57936 13975.145299999907 0.24121695146368247\n",
            "count, sum, avg 64244 18693.440399999978 0.29097566154037696\n",
            "count, sum, avg 64415 21320.965299999913 0.3309937949235413\n",
            "count, sum, avg 64484 24014.855400000208 0.3724157217294245\n",
            "count, sum, avg 64494 25578.680400000132 0.39660558191459877\n",
            "count, sum, avg 64494 27895.19959999994 0.43252394951468265\n",
            "count, sum, avg 64495 31659.6574000001 0.4908854546864113\n",
            "count, sum, avg 64495 34777.00370000032 0.5392201519497686\n",
            "count, sum, avg 64495 43884.50970000022 0.6804327420730324\n",
            "count, sum, avg 64495 47275.59170000021 0.73301173269246\n",
            "count, sum, avg 64495 47132.050800000485 0.7307861198542598\n",
            "count, sum, avg 64495 45981.27860000065 0.7129433072331289\n",
            "count, sum, avg 64495 43657.637000000504 0.6769150631832003\n",
            "count, sum, avg 64495 35961.93219999994 0.5575925606636164\n",
            "count, sum, avg 64495 30005.938999999715 0.46524442204821637\n",
            "count, sum, avg 64495 27860.797899999976 0.4319838421583065\n",
            "count, sum, avg 64495 25152.241500000164 0.38998746414450985\n",
            "count, sum, avg 64112 22323.505699999947 0.3481954345520331\n",
            "count, sum, avg 62670 19181.71409999998 0.30607490186692166\n"
          ]
        },
        {
          "output_type": "stream",
          "name": "stderr",
          "text": [
            "\r 96%|█████████▌| 22/23 [06:26<00:18, 18.08s/it]"
          ]
        },
        {
          "output_type": "stream",
          "name": "stdout",
          "text": [
            "count, sum, avg 56531 15757.946400000044 0.27874876439475765\n",
            "num_observations 17\n",
            "count, sum, avg 52735 12403.660100000046 0.23520735943870383\n",
            "count, sum, avg 49197 11098.500499999944 0.2255930341280961\n",
            "count, sum, avg 47613 10444.056700000023 0.2193530485371647\n",
            "count, sum, avg 56434 13265.53939999993 0.2350628947088622\n",
            "count, sum, avg 61735 16921.489600000146 0.2740988029480869\n",
            "count, sum, avg 64390 19841.529499999964 0.30814613293989696\n",
            "count, sum, avg 64111 21660.263499999903 0.33785564879661684\n",
            "count, sum, avg 64446 24062.179199999955 0.3733696303882313\n",
            "count, sum, avg 64482 27172.56270000013 0.42139764120219797\n",
            "count, sum, avg 64494 30263.76669999968 0.46924933637237076\n",
            "count, sum, avg 64495 34904.20260000039 0.5411923808047195\n",
            "count, sum, avg 64495 39346.77790000002 0.6100748569656566\n",
            "count, sum, avg 64495 45254.79669999962 0.7016791487712167\n",
            "count, sum, avg 64495 47011.2147 0.7289125467090471\n",
            "count, sum, avg 64495 46577.73869999999 0.7221914675556242\n",
            "count, sum, avg 64495 44812.250299999716 0.6948174323590932\n"
          ]
        },
        {
          "output_type": "stream",
          "name": "stderr",
          "text": [
            "100%|██████████| 23/23 [06:39<00:00, 17.36s/it]"
          ]
        },
        {
          "output_type": "stream",
          "name": "stdout",
          "text": [
            "count, sum, avg 64495 37801.98199999999 0.5861226761764476\n"
          ]
        },
        {
          "output_type": "stream",
          "name": "stderr",
          "text": [
            "\n"
          ]
        }
      ]
    },
    {
      "cell_type": "markdown",
      "source": [
        "#### 2.3.1 stack [array,] to array[][] for bins_5, bins_10, bins_20"
      ],
      "metadata": {
        "id": "Vflkeoy5weN-"
      }
    },
    {
      "cell_type": "code",
      "source": [
        "np.row_stack(modis_per_year[2022]['bins_5']).shape\n",
        "# modis_per_year[2000]['bins_5']"
      ],
      "metadata": {
        "colab": {
          "base_uri": "https://localhost:8080/"
        },
        "id": "lG-cyUt0vOC_",
        "outputId": "47e5130b-1390-4065-a75a-9d07ac2c2b3f"
      },
      "execution_count": null,
      "outputs": [
        {
          "output_type": "execute_result",
          "data": {
            "text/plain": [
              "(17, 5)"
            ]
          },
          "metadata": {},
          "execution_count": 87
        }
      ]
    },
    {
      "cell_type": "code",
      "source": [
        "for year in tqdm(range(2000, 2023)): # until 2022\n",
        "  modis_per_year[year]['bins_5_numpy'] = np.row_stack( modis_per_year[year]['bins_5'] )\n",
        "  modis_per_year[year]['bins_10_numpy'] = np.row_stack( modis_per_year[year]['bins_10'] )\n",
        "  modis_per_year[year]['bins_20_numpy'] = np.row_stack( modis_per_year[year]['bins_20'] )"
      ],
      "metadata": {
        "colab": {
          "base_uri": "https://localhost:8080/"
        },
        "id": "pFJR6fsNwwo5",
        "outputId": "2191af76-aa1e-4b00-cebc-31bb8355c12c"
      },
      "execution_count": null,
      "outputs": [
        {
          "output_type": "stream",
          "name": "stderr",
          "text": [
            "100%|██████████| 23/23 [00:00<00:00, 4597.26it/s]\n"
          ]
        }
      ]
    },
    {
      "cell_type": "markdown",
      "source": [
        "#### 2.3.2 slice bins, avg for consistent observations"
      ],
      "metadata": {
        "id": "PIpjm7TcxvxJ"
      }
    },
    {
      "cell_type": "code",
      "source": [],
      "metadata": {
        "id": "0SxNWFzkx5aG"
      },
      "execution_count": null,
      "outputs": []
    },
    {
      "cell_type": "markdown",
      "source": [
        "## 3 labels - end yield per year"
      ],
      "metadata": {
        "id": "wu-0dROmrgCD"
      }
    },
    {
      "cell_type": "code",
      "source": [
        "yield_file = '/content/drive/Shareddrives/CSCI 8523 F22/Data/PhaseI/yldUSA.csv'"
      ],
      "metadata": {
        "id": "wINCfNF0ri54"
      },
      "execution_count": null,
      "outputs": []
    },
    {
      "cell_type": "code",
      "source": [
        "yield_df = pd.read_csv(yield_file)"
      ],
      "metadata": {
        "id": "0oYxrLGKr9rt"
      },
      "execution_count": null,
      "outputs": []
    },
    {
      "cell_type": "code",
      "source": [
        "# PRD production\n",
        "# HRV harvest\n",
        "# YLD = PRD / HRV\n",
        "\n",
        "# has 1999-2022\n",
        "# 24 years for 3 crops = 72\n",
        "yield_df"
      ],
      "metadata": {
        "colab": {
          "base_uri": "https://localhost:8080/",
          "height": 424
        },
        "id": "b5yG9WxosBfa",
        "outputId": "dc22943b-a16d-4150-eafd-effe924107f9"
      },
      "execution_count": null,
      "outputs": [
        {
          "output_type": "execute_result",
          "data": {
            "text/plain": [
              "   NATION_CODE CMDTY_CODE  YYYY    HRV       YLD     PRD\n",
              "0          USA       CORN  1999  28525  8.397862  239549\n",
              "1          USA       CORN  2000  29316  8.591008  251854\n",
              "2          USA       CORN  2001  27830  8.673266  241377\n",
              "3          USA       CORN  2002  28057  8.118010  227767\n",
              "4          USA       CORN  2003  28710  8.924730  256229\n",
              "..         ...        ...   ...    ...       ...     ...\n",
              "67         USA      WHEAT  2018  16030  3.200624   51306\n",
              "68         USA      WHEAT  2019  15133  3.474592   52581\n",
              "69         USA      WHEAT  2020  14888  3.341685   49751\n",
              "70         USA      WHEAT  2021  15032  2.980575   44804\n",
              "71         USA      WHEAT  2022  14358  3.127316   44902\n",
              "\n",
              "[72 rows x 6 columns]"
            ],
            "text/html": [
              "\n",
              "  <div id=\"df-b0a44990-1a56-44d9-8c14-dc56797da88a\">\n",
              "    <div class=\"colab-df-container\">\n",
              "      <div>\n",
              "<style scoped>\n",
              "    .dataframe tbody tr th:only-of-type {\n",
              "        vertical-align: middle;\n",
              "    }\n",
              "\n",
              "    .dataframe tbody tr th {\n",
              "        vertical-align: top;\n",
              "    }\n",
              "\n",
              "    .dataframe thead th {\n",
              "        text-align: right;\n",
              "    }\n",
              "</style>\n",
              "<table border=\"1\" class=\"dataframe\">\n",
              "  <thead>\n",
              "    <tr style=\"text-align: right;\">\n",
              "      <th></th>\n",
              "      <th>NATION_CODE</th>\n",
              "      <th>CMDTY_CODE</th>\n",
              "      <th>YYYY</th>\n",
              "      <th>HRV</th>\n",
              "      <th>YLD</th>\n",
              "      <th>PRD</th>\n",
              "    </tr>\n",
              "  </thead>\n",
              "  <tbody>\n",
              "    <tr>\n",
              "      <th>0</th>\n",
              "      <td>USA</td>\n",
              "      <td>CORN</td>\n",
              "      <td>1999</td>\n",
              "      <td>28525</td>\n",
              "      <td>8.397862</td>\n",
              "      <td>239549</td>\n",
              "    </tr>\n",
              "    <tr>\n",
              "      <th>1</th>\n",
              "      <td>USA</td>\n",
              "      <td>CORN</td>\n",
              "      <td>2000</td>\n",
              "      <td>29316</td>\n",
              "      <td>8.591008</td>\n",
              "      <td>251854</td>\n",
              "    </tr>\n",
              "    <tr>\n",
              "      <th>2</th>\n",
              "      <td>USA</td>\n",
              "      <td>CORN</td>\n",
              "      <td>2001</td>\n",
              "      <td>27830</td>\n",
              "      <td>8.673266</td>\n",
              "      <td>241377</td>\n",
              "    </tr>\n",
              "    <tr>\n",
              "      <th>3</th>\n",
              "      <td>USA</td>\n",
              "      <td>CORN</td>\n",
              "      <td>2002</td>\n",
              "      <td>28057</td>\n",
              "      <td>8.118010</td>\n",
              "      <td>227767</td>\n",
              "    </tr>\n",
              "    <tr>\n",
              "      <th>4</th>\n",
              "      <td>USA</td>\n",
              "      <td>CORN</td>\n",
              "      <td>2003</td>\n",
              "      <td>28710</td>\n",
              "      <td>8.924730</td>\n",
              "      <td>256229</td>\n",
              "    </tr>\n",
              "    <tr>\n",
              "      <th>...</th>\n",
              "      <td>...</td>\n",
              "      <td>...</td>\n",
              "      <td>...</td>\n",
              "      <td>...</td>\n",
              "      <td>...</td>\n",
              "      <td>...</td>\n",
              "    </tr>\n",
              "    <tr>\n",
              "      <th>67</th>\n",
              "      <td>USA</td>\n",
              "      <td>WHEAT</td>\n",
              "      <td>2018</td>\n",
              "      <td>16030</td>\n",
              "      <td>3.200624</td>\n",
              "      <td>51306</td>\n",
              "    </tr>\n",
              "    <tr>\n",
              "      <th>68</th>\n",
              "      <td>USA</td>\n",
              "      <td>WHEAT</td>\n",
              "      <td>2019</td>\n",
              "      <td>15133</td>\n",
              "      <td>3.474592</td>\n",
              "      <td>52581</td>\n",
              "    </tr>\n",
              "    <tr>\n",
              "      <th>69</th>\n",
              "      <td>USA</td>\n",
              "      <td>WHEAT</td>\n",
              "      <td>2020</td>\n",
              "      <td>14888</td>\n",
              "      <td>3.341685</td>\n",
              "      <td>49751</td>\n",
              "    </tr>\n",
              "    <tr>\n",
              "      <th>70</th>\n",
              "      <td>USA</td>\n",
              "      <td>WHEAT</td>\n",
              "      <td>2021</td>\n",
              "      <td>15032</td>\n",
              "      <td>2.980575</td>\n",
              "      <td>44804</td>\n",
              "    </tr>\n",
              "    <tr>\n",
              "      <th>71</th>\n",
              "      <td>USA</td>\n",
              "      <td>WHEAT</td>\n",
              "      <td>2022</td>\n",
              "      <td>14358</td>\n",
              "      <td>3.127316</td>\n",
              "      <td>44902</td>\n",
              "    </tr>\n",
              "  </tbody>\n",
              "</table>\n",
              "<p>72 rows × 6 columns</p>\n",
              "</div>\n",
              "      <button class=\"colab-df-convert\" onclick=\"convertToInteractive('df-b0a44990-1a56-44d9-8c14-dc56797da88a')\"\n",
              "              title=\"Convert this dataframe to an interactive table.\"\n",
              "              style=\"display:none;\">\n",
              "        \n",
              "  <svg xmlns=\"http://www.w3.org/2000/svg\" height=\"24px\"viewBox=\"0 0 24 24\"\n",
              "       width=\"24px\">\n",
              "    <path d=\"M0 0h24v24H0V0z\" fill=\"none\"/>\n",
              "    <path d=\"M18.56 5.44l.94 2.06.94-2.06 2.06-.94-2.06-.94-.94-2.06-.94 2.06-2.06.94zm-11 1L8.5 8.5l.94-2.06 2.06-.94-2.06-.94L8.5 2.5l-.94 2.06-2.06.94zm10 10l.94 2.06.94-2.06 2.06-.94-2.06-.94-.94-2.06-.94 2.06-2.06.94z\"/><path d=\"M17.41 7.96l-1.37-1.37c-.4-.4-.92-.59-1.43-.59-.52 0-1.04.2-1.43.59L10.3 9.45l-7.72 7.72c-.78.78-.78 2.05 0 2.83L4 21.41c.39.39.9.59 1.41.59.51 0 1.02-.2 1.41-.59l7.78-7.78 2.81-2.81c.8-.78.8-2.07 0-2.86zM5.41 20L4 18.59l7.72-7.72 1.47 1.35L5.41 20z\"/>\n",
              "  </svg>\n",
              "      </button>\n",
              "      \n",
              "  <style>\n",
              "    .colab-df-container {\n",
              "      display:flex;\n",
              "      flex-wrap:wrap;\n",
              "      gap: 12px;\n",
              "    }\n",
              "\n",
              "    .colab-df-convert {\n",
              "      background-color: #E8F0FE;\n",
              "      border: none;\n",
              "      border-radius: 50%;\n",
              "      cursor: pointer;\n",
              "      display: none;\n",
              "      fill: #1967D2;\n",
              "      height: 32px;\n",
              "      padding: 0 0 0 0;\n",
              "      width: 32px;\n",
              "    }\n",
              "\n",
              "    .colab-df-convert:hover {\n",
              "      background-color: #E2EBFA;\n",
              "      box-shadow: 0px 1px 2px rgba(60, 64, 67, 0.3), 0px 1px 3px 1px rgba(60, 64, 67, 0.15);\n",
              "      fill: #174EA6;\n",
              "    }\n",
              "\n",
              "    [theme=dark] .colab-df-convert {\n",
              "      background-color: #3B4455;\n",
              "      fill: #D2E3FC;\n",
              "    }\n",
              "\n",
              "    [theme=dark] .colab-df-convert:hover {\n",
              "      background-color: #434B5C;\n",
              "      box-shadow: 0px 1px 3px 1px rgba(0, 0, 0, 0.15);\n",
              "      filter: drop-shadow(0px 1px 2px rgba(0, 0, 0, 0.3));\n",
              "      fill: #FFFFFF;\n",
              "    }\n",
              "  </style>\n",
              "\n",
              "      <script>\n",
              "        const buttonEl =\n",
              "          document.querySelector('#df-b0a44990-1a56-44d9-8c14-dc56797da88a button.colab-df-convert');\n",
              "        buttonEl.style.display =\n",
              "          google.colab.kernel.accessAllowed ? 'block' : 'none';\n",
              "\n",
              "        async function convertToInteractive(key) {\n",
              "          const element = document.querySelector('#df-b0a44990-1a56-44d9-8c14-dc56797da88a');\n",
              "          const dataTable =\n",
              "            await google.colab.kernel.invokeFunction('convertToInteractive',\n",
              "                                                     [key], {});\n",
              "          if (!dataTable) return;\n",
              "\n",
              "          const docLinkHtml = 'Like what you see? Visit the ' +\n",
              "            '<a target=\"_blank\" href=https://colab.research.google.com/notebooks/data_table.ipynb>data table notebook</a>'\n",
              "            + ' to learn more about interactive tables.';\n",
              "          element.innerHTML = '';\n",
              "          dataTable['output_type'] = 'display_data';\n",
              "          await google.colab.output.renderOutput(dataTable, element);\n",
              "          const docLink = document.createElement('div');\n",
              "          docLink.innerHTML = docLinkHtml;\n",
              "          element.appendChild(docLink);\n",
              "        }\n",
              "      </script>\n",
              "    </div>\n",
              "  </div>\n",
              "  "
            ]
          },
          "metadata": {},
          "execution_count": 30
        }
      ]
    },
    {
      "cell_type": "code",
      "source": [
        "# yield_df[yield_df['CMDTY_CODE'] == 'CORN'] # ['YYYY']\n",
        "yield_df[yield_df['YYYY'] == 1999]"
      ],
      "metadata": {
        "colab": {
          "base_uri": "https://localhost:8080/",
          "height": 143
        },
        "id": "2sKnk_MpuRNL",
        "outputId": "13021878-5eb6-4cae-93d0-1760e345b8c0"
      },
      "execution_count": null,
      "outputs": [
        {
          "output_type": "execute_result",
          "data": {
            "text/plain": [
              "   NATION_CODE CMDTY_CODE  YYYY    HRV       YLD     PRD\n",
              "0          USA       CORN  1999  28525  8.397862  239549\n",
              "24         USA         SB  1999  29318  2.463470   72224\n",
              "48         USA      WHEAT  1999  21761  2.870962   62475"
            ],
            "text/html": [
              "\n",
              "  <div id=\"df-beaa5a4f-0b7f-4f5b-bec5-e7d1cd35183a\">\n",
              "    <div class=\"colab-df-container\">\n",
              "      <div>\n",
              "<style scoped>\n",
              "    .dataframe tbody tr th:only-of-type {\n",
              "        vertical-align: middle;\n",
              "    }\n",
              "\n",
              "    .dataframe tbody tr th {\n",
              "        vertical-align: top;\n",
              "    }\n",
              "\n",
              "    .dataframe thead th {\n",
              "        text-align: right;\n",
              "    }\n",
              "</style>\n",
              "<table border=\"1\" class=\"dataframe\">\n",
              "  <thead>\n",
              "    <tr style=\"text-align: right;\">\n",
              "      <th></th>\n",
              "      <th>NATION_CODE</th>\n",
              "      <th>CMDTY_CODE</th>\n",
              "      <th>YYYY</th>\n",
              "      <th>HRV</th>\n",
              "      <th>YLD</th>\n",
              "      <th>PRD</th>\n",
              "    </tr>\n",
              "  </thead>\n",
              "  <tbody>\n",
              "    <tr>\n",
              "      <th>0</th>\n",
              "      <td>USA</td>\n",
              "      <td>CORN</td>\n",
              "      <td>1999</td>\n",
              "      <td>28525</td>\n",
              "      <td>8.397862</td>\n",
              "      <td>239549</td>\n",
              "    </tr>\n",
              "    <tr>\n",
              "      <th>24</th>\n",
              "      <td>USA</td>\n",
              "      <td>SB</td>\n",
              "      <td>1999</td>\n",
              "      <td>29318</td>\n",
              "      <td>2.463470</td>\n",
              "      <td>72224</td>\n",
              "    </tr>\n",
              "    <tr>\n",
              "      <th>48</th>\n",
              "      <td>USA</td>\n",
              "      <td>WHEAT</td>\n",
              "      <td>1999</td>\n",
              "      <td>21761</td>\n",
              "      <td>2.870962</td>\n",
              "      <td>62475</td>\n",
              "    </tr>\n",
              "  </tbody>\n",
              "</table>\n",
              "</div>\n",
              "      <button class=\"colab-df-convert\" onclick=\"convertToInteractive('df-beaa5a4f-0b7f-4f5b-bec5-e7d1cd35183a')\"\n",
              "              title=\"Convert this dataframe to an interactive table.\"\n",
              "              style=\"display:none;\">\n",
              "        \n",
              "  <svg xmlns=\"http://www.w3.org/2000/svg\" height=\"24px\"viewBox=\"0 0 24 24\"\n",
              "       width=\"24px\">\n",
              "    <path d=\"M0 0h24v24H0V0z\" fill=\"none\"/>\n",
              "    <path d=\"M18.56 5.44l.94 2.06.94-2.06 2.06-.94-2.06-.94-.94-2.06-.94 2.06-2.06.94zm-11 1L8.5 8.5l.94-2.06 2.06-.94-2.06-.94L8.5 2.5l-.94 2.06-2.06.94zm10 10l.94 2.06.94-2.06 2.06-.94-2.06-.94-.94-2.06-.94 2.06-2.06.94z\"/><path d=\"M17.41 7.96l-1.37-1.37c-.4-.4-.92-.59-1.43-.59-.52 0-1.04.2-1.43.59L10.3 9.45l-7.72 7.72c-.78.78-.78 2.05 0 2.83L4 21.41c.39.39.9.59 1.41.59.51 0 1.02-.2 1.41-.59l7.78-7.78 2.81-2.81c.8-.78.8-2.07 0-2.86zM5.41 20L4 18.59l7.72-7.72 1.47 1.35L5.41 20z\"/>\n",
              "  </svg>\n",
              "      </button>\n",
              "      \n",
              "  <style>\n",
              "    .colab-df-container {\n",
              "      display:flex;\n",
              "      flex-wrap:wrap;\n",
              "      gap: 12px;\n",
              "    }\n",
              "\n",
              "    .colab-df-convert {\n",
              "      background-color: #E8F0FE;\n",
              "      border: none;\n",
              "      border-radius: 50%;\n",
              "      cursor: pointer;\n",
              "      display: none;\n",
              "      fill: #1967D2;\n",
              "      height: 32px;\n",
              "      padding: 0 0 0 0;\n",
              "      width: 32px;\n",
              "    }\n",
              "\n",
              "    .colab-df-convert:hover {\n",
              "      background-color: #E2EBFA;\n",
              "      box-shadow: 0px 1px 2px rgba(60, 64, 67, 0.3), 0px 1px 3px 1px rgba(60, 64, 67, 0.15);\n",
              "      fill: #174EA6;\n",
              "    }\n",
              "\n",
              "    [theme=dark] .colab-df-convert {\n",
              "      background-color: #3B4455;\n",
              "      fill: #D2E3FC;\n",
              "    }\n",
              "\n",
              "    [theme=dark] .colab-df-convert:hover {\n",
              "      background-color: #434B5C;\n",
              "      box-shadow: 0px 1px 3px 1px rgba(0, 0, 0, 0.15);\n",
              "      filter: drop-shadow(0px 1px 2px rgba(0, 0, 0, 0.3));\n",
              "      fill: #FFFFFF;\n",
              "    }\n",
              "  </style>\n",
              "\n",
              "      <script>\n",
              "        const buttonEl =\n",
              "          document.querySelector('#df-beaa5a4f-0b7f-4f5b-bec5-e7d1cd35183a button.colab-df-convert');\n",
              "        buttonEl.style.display =\n",
              "          google.colab.kernel.accessAllowed ? 'block' : 'none';\n",
              "\n",
              "        async function convertToInteractive(key) {\n",
              "          const element = document.querySelector('#df-beaa5a4f-0b7f-4f5b-bec5-e7d1cd35183a');\n",
              "          const dataTable =\n",
              "            await google.colab.kernel.invokeFunction('convertToInteractive',\n",
              "                                                     [key], {});\n",
              "          if (!dataTable) return;\n",
              "\n",
              "          const docLinkHtml = 'Like what you see? Visit the ' +\n",
              "            '<a target=\"_blank\" href=https://colab.research.google.com/notebooks/data_table.ipynb>data table notebook</a>'\n",
              "            + ' to learn more about interactive tables.';\n",
              "          element.innerHTML = '';\n",
              "          dataTable['output_type'] = 'display_data';\n",
              "          await google.colab.output.renderOutput(dataTable, element);\n",
              "          const docLink = document.createElement('div');\n",
              "          docLink.innerHTML = docLinkHtml;\n",
              "          element.appendChild(docLink);\n",
              "        }\n",
              "      </script>\n",
              "    </div>\n",
              "  </div>\n",
              "  "
            ]
          },
          "metadata": {},
          "execution_count": 37
        }
      ]
    },
    {
      "cell_type": "code",
      "source": [
        "# plt.plot(dates, values, '-o')\n",
        "\n",
        "plt.plot(yield_df[yield_df['CMDTY_CODE'] == 'CORN']['YYYY'], yield_df[yield_df['CMDTY_CODE'] == 'CORN']['YLD'], '-o')\n",
        "plt.plot(yield_df[yield_df['CMDTY_CODE'] == 'CORN']['YYYY'], yield_df[yield_df['CMDTY_CODE'] == 'SB']['YLD'], '-x')\n",
        "plt.plot(yield_df[yield_df['CMDTY_CODE'] == 'CORN']['YYYY'], yield_df[yield_df['CMDTY_CODE'] == 'WHEAT']['YLD'], '-.')"
      ],
      "metadata": {
        "colab": {
          "base_uri": "https://localhost:8080/",
          "height": 283
        },
        "id": "eH0AeKuvwfMO",
        "outputId": "3b64c7a1-a82a-4e94-f419-c57026b362c7"
      },
      "execution_count": null,
      "outputs": [
        {
          "output_type": "execute_result",
          "data": {
            "text/plain": [
              "[<matplotlib.lines.Line2D at 0x7f309c58c450>]"
            ]
          },
          "metadata": {},
          "execution_count": 22
        },
        {
          "output_type": "display_data",
          "data": {
            "text/plain": [
              "<Figure size 432x288 with 1 Axes>"
            ],
            "image/png": "[encoded data removed]"
          },
          "metadata": {
            "needs_background": "light"
          }
        }
      ]
    },
    {
      "cell_type": "code",
      "source": [
        "# put labels in data structure\n",
        "for year in range(2000, 2023): # until 2022\n",
        "  # only for corn\n",
        "  # yield_val = yield_df[(yield_df['CMDTY_CODE'] == 'CORN') & (yield_df['YYYY'] == year)]['YLD'].item() # yield is keyword for use in lambdas\n",
        "  # print('year, yield', year, yield_val)\n",
        "  # modis_per_year[year]['label'] = yield_val\n",
        "\n",
        "  # for all crops\n",
        "  yield_corn = yield_df[(yield_df['CMDTY_CODE'] == 'CORN') & (yield_df['YYYY'] == year)]['YLD'].item()\n",
        "  yield_soybean = yield_df[(yield_df['CMDTY_CODE'] == 'SB') & (yield_df['YYYY'] == year)]['YLD'].item()\n",
        "  yield_wheat = yield_df[(yield_df['CMDTY_CODE'] == 'WHEAT') & (yield_df['YYYY'] == year)]['YLD'].item()\n",
        "  print('year, yield (corn, soybean, wheat)', year, yield_corn, yield_soybean, yield_wheat)\n",
        "  modis_per_year[year]['yield_corn'] = yield_corn\n",
        "  modis_per_year[year]['yield_soybean'] = yield_soybean\n",
        "  modis_per_year[year]['yield_wheat'] = yield_wheat"
      ],
      "metadata": {
        "colab": {
          "base_uri": "https://localhost:8080/"
        },
        "id": "Rwqjx7s2zRRP",
        "outputId": "2f9c3ca6-4788-498b-fb13-bf7205609d4a"
      },
      "execution_count": null,
      "outputs": [
        {
          "output_type": "stream",
          "name": "stdout",
          "text": [
            "year, yield (corn, soybean, wheat) 2000 8.591008323 2.561341842 2.823926609\n",
            "year, yield (corn, soybean, wheat) 2001 8.673266259 2.663957741 2.701926998\n",
            "year, yield (corn, soybean, wheat) 2002 8.118009766 2.556752335 2.356827006\n",
            "year, yield (corn, soybean, wheat) 2003 8.924730059 2.276951926 2.971267579\n",
            "year, yield (corn, soybean, wheat) 2004 10.06362843 2.840494487 2.902680249\n",
            "year, yield (corn, soybean, wheat) 2005 9.285272542 2.896129569 2.823189978\n",
            "year, yield (corn, soybean, wheat) 2006 9.357832505 2.881782047 2.598711653\n",
            "year, yield (corn, soybean, wheat) 2007 9.458416633 2.806695173 2.704636853\n",
            "year, yield (corn, soybean, wheat) 2008 9.621052963 2.671861558 3.014640385\n",
            "year, yield (corn, soybean, wheat) 2009 10.31803911 2.959523732 2.980515617\n",
            "year, yield (corn, soybean, wheat) 2010 9.575788835 2.924329904 3.102724925\n",
            "year, yield (corn, soybean, wheat) 2011 9.214582413 2.823251608 2.933852561\n",
            "year, yield (corn, soybean, wheat) 2012 7.726892182 2.686798209 3.106527468\n",
            "year, yield (corn, soybean, wheat) 2013 9.925863141 2.961523501 3.167348051\n",
            "year, yield (corn, soybean, wheat) 2014 10.73276272 3.197780503 2.937882904\n",
            "year, yield (corn, soybean, wheat) 2015 10.57239902 3.230622733 2.930544676\n",
            "year, yield (corn, soybean, wheat) 2016 10.9604626 3.493606215 3.540828402\n",
            "year, yield (corn, soybean, wheat) 2017 11.08377886 3.313417596 3.117515463\n",
            "year, yield (corn, soybean, wheat) 2018 11.0748229 3.399768675 3.20062383\n",
            "year, yield (corn, soybean, wheat) 2019 10.51045084 3.187489696 3.474591951\n",
            "year, yield (corn, soybean, wheat) 2020 10.76061962 3.432721072 3.341684578\n",
            "year, yield (corn, soybean, wheat) 2021 11.08966895 3.479286553 2.980574774\n",
            "year, yield (corn, soybean, wheat) 2022 10.78809182 3.348137372 3.127315782\n"
          ]
        }
      ]
    },
    {
      "cell_type": "code",
      "source": [
        "modis_per_year[2000].keys()"
      ],
      "metadata": {
        "id": "JjT24W0JdGQH",
        "colab": {
          "base_uri": "https://localhost:8080/"
        },
        "outputId": "8ecb5d09-107a-46d5-889d-2fcafc21a0be"
      },
      "execution_count": null,
      "outputs": [
        {
          "output_type": "execute_result",
          "data": {
            "text/plain": [
              "dict_keys(['observations', 'yield_corn', 'yield_soybean', 'yield_wheat'])"
            ]
          },
          "metadata": {},
          "execution_count": 42
        }
      ]
    },
    {
      "cell_type": "markdown",
      "source": [
        "## 4 save data\n",
        "2 GB with just observations, label, bins_5"
      ],
      "metadata": {
        "id": "aVY3Wb-54n_b"
      }
    },
    {
      "cell_type": "code",
      "source": [
        "# delete heaviest data - observations\n",
        "for year in tqdm(range(2000, 2023)):\n",
        "  modis_per_year[year].pop('observations')"
      ],
      "metadata": {
        "colab": {
          "base_uri": "https://localhost:8080/"
        },
        "id": "YSGxUJf1yGM3",
        "outputId": "4c7d8aa9-465f-44b1-8fc7-826ae5cead8a"
      },
      "execution_count": null,
      "outputs": [
        {
          "output_type": "stream",
          "name": "stderr",
          "text": [
            "100%|██████████| 23/23 [00:00<00:00, 131608.45it/s]\n"
          ]
        }
      ]
    },
    {
      "cell_type": "code",
      "source": [
        "modis_per_year[2000].keys()"
      ],
      "metadata": {
        "colab": {
          "base_uri": "https://localhost:8080/"
        },
        "id": "hA1CaM-9yiHV",
        "outputId": "7ddfac1e-09b2-4bb3-a0ab-689d04567b92"
      },
      "execution_count": null,
      "outputs": [
        {
          "output_type": "execute_result",
          "data": {
            "text/plain": [
              "dict_keys(['yield_corn', 'yield_soybean', 'yield_wheat', 'avg', 'bins_5', 'bins_10', 'bins_20', 'bins_5_numpy', 'bins_10_numpy', 'bins_20_numpy'])"
            ]
          },
          "metadata": {},
          "execution_count": 90
        }
      ]
    },
    {
      "cell_type": "code",
      "source": [
        "# import json\n",
        "import pickle\n",
        "path = '/content/drive/Shareddrives/CSCI 8523 F22/Data/'\n",
        "\n",
        "# save\n",
        "# Object of type ndarray is not JSON serializable\n",
        "\"\"\"\n",
        "with open('modis_per_year.json', 'w') as outfile:\n",
        "    json.dump(modis_per_year, outfile)\n",
        "\"\"\"\n",
        "with open(path + 'modis_per_year.pkl', 'wb') as outp:\n",
        "    pickle.dump(modis_per_year, outp, pickle.HIGHEST_PROTOCOL)"
      ],
      "metadata": {
        "id": "az19f_wp4pwu"
      },
      "execution_count": null,
      "outputs": []
    },
    {
      "cell_type": "code",
      "source": [
        "# load\n",
        "\"\"\"\n",
        "with open('modis_per_year.json', 'r') as read_content:\n",
        "    modis_per_year_loaded = json.load(read_content)\n",
        "\"\"\"\n",
        "with open(path + 'modis_per_year.pkl', 'rb') as inp:\n",
        "    modis_per_year_loaded = pickle.load(inp)"
      ],
      "metadata": {
        "id": "29RAyUE_5b65"
      },
      "execution_count": null,
      "outputs": []
    },
    {
      "cell_type": "code",
      "source": [
        "modis_per_year_loaded[2000].keys()"
      ],
      "metadata": {
        "id": "S_xT1P9G6Ixu",
        "colab": {
          "base_uri": "https://localhost:8080/"
        },
        "outputId": "ecb171b6-4830-4e5b-f060-faa41c18e211"
      },
      "execution_count": null,
      "outputs": [
        {
          "output_type": "execute_result",
          "data": {
            "text/plain": [
              "dict_keys(['yield_corn', 'yield_soybean', 'yield_wheat', 'avg', 'bins_5', 'bins_10', 'bins_20', 'bins_5_numpy', 'bins_10_numpy', 'bins_20_numpy'])"
            ]
          },
          "metadata": {},
          "execution_count": 93
        }
      ]
    },
    {
      "cell_type": "markdown",
      "source": [
        "## LSTM"
      ],
      "metadata": {
        "id": "BHrtXVwprItP"
      }
    },
    {
      "cell_type": "code",
      "source": [],
      "metadata": {
        "id": "_066LZnScm18"
      },
      "execution_count": null,
      "outputs": []
    },
    {
      "cell_type": "code",
      "source": [
        "# https://pytorch.org/docs/stable/generated/torch.nn.LSTM.html\n",
        "\n",
        "rnn = nn.LSTM(10, 20, 2)\n",
        "input = torch.randn(5, 3, 10)\n",
        "h0 = torch.randn(2, 3, 20)\n",
        "c0 = torch.randn(2, 3, 20)\n",
        "output, (hn, cn) = rnn(input, (h0, c0))"
      ],
      "metadata": {
        "id": "-RVE2rL3rJ6E",
        "colab": {
          "base_uri": "https://localhost:8080/",
          "height": 244
        },
        "outputId": "408d072c-1d90-4894-df93-c6b5985e6907"
      },
      "execution_count": null,
      "outputs": [
        {
          "output_type": "error",
          "ename": "NameError",
          "evalue": "ignored",
          "traceback": [
            "\u001b[0;31m---------------------------------------------------------------------------\u001b[0m",
            "\u001b[0;31mNameError\u001b[0m                                 Traceback (most recent call last)",
            "\u001b[0;32m<ipython-input-27-62a003e33a35>\u001b[0m in \u001b[0;36m<module>\u001b[0;34m\u001b[0m\n\u001b[1;32m      1\u001b[0m \u001b[0;31m# https://pytorch.org/docs/stable/generated/torch.nn.LSTM.html\u001b[0m\u001b[0;34m\u001b[0m\u001b[0;34m\u001b[0m\u001b[0;34m\u001b[0m\u001b[0m\n\u001b[1;32m      2\u001b[0m \u001b[0;34m\u001b[0m\u001b[0m\n\u001b[0;32m----> 3\u001b[0;31m \u001b[0mrnn\u001b[0m \u001b[0;34m=\u001b[0m \u001b[0mnn\u001b[0m\u001b[0;34m.\u001b[0m\u001b[0mLSTM\u001b[0m\u001b[0;34m(\u001b[0m\u001b[0;36m10\u001b[0m\u001b[0;34m,\u001b[0m \u001b[0;36m20\u001b[0m\u001b[0;34m,\u001b[0m \u001b[0;36m2\u001b[0m\u001b[0;34m)\u001b[0m\u001b[0;34m\u001b[0m\u001b[0;34m\u001b[0m\u001b[0m\n\u001b[0m\u001b[1;32m      4\u001b[0m \u001b[0minput\u001b[0m \u001b[0;34m=\u001b[0m \u001b[0mtorch\u001b[0m\u001b[0;34m.\u001b[0m\u001b[0mrandn\u001b[0m\u001b[0;34m(\u001b[0m\u001b[0;36m5\u001b[0m\u001b[0;34m,\u001b[0m \u001b[0;36m3\u001b[0m\u001b[0;34m,\u001b[0m \u001b[0;36m10\u001b[0m\u001b[0;34m)\u001b[0m\u001b[0;34m\u001b[0m\u001b[0;34m\u001b[0m\u001b[0m\n\u001b[1;32m      5\u001b[0m \u001b[0mh0\u001b[0m \u001b[0;34m=\u001b[0m \u001b[0mtorch\u001b[0m\u001b[0;34m.\u001b[0m\u001b[0mrandn\u001b[0m\u001b[0;34m(\u001b[0m\u001b[0;36m2\u001b[0m\u001b[0;34m,\u001b[0m \u001b[0;36m3\u001b[0m\u001b[0;34m,\u001b[0m \u001b[0;36m20\u001b[0m\u001b[0;34m)\u001b[0m\u001b[0;34m\u001b[0m\u001b[0;34m\u001b[0m\u001b[0m\n",
            "\u001b[0;31mNameError\u001b[0m: name 'nn' is not defined"
          ]
        }
      ]
    },
    {
      "cell_type": "code",
      "source": [
        "x = np.array( [0, 0, 1, 1, 2, 2, 3, 3, 4, 4, 4, 5, 5, 6, 6, 7, 7 ,7, 7, 8, 8, 9, 10, 11, 1, 11] )\n",
        "# x = [0, 0, 1, 1, 2, 2, 3, 3, 4, 4, 4, 5, 5, 6, 6, 7, 7 ,7, 7, 8, 8, 9, 10, 11, 1, 11]"
      ],
      "metadata": {
        "id": "LED88SPjEROQ"
      },
      "execution_count": null,
      "outputs": []
    },
    {
      "cell_type": "code",
      "source": [
        "x.nonzero()"
      ],
      "metadata": {
        "colab": {
          "base_uri": "https://localhost:8080/"
        },
        "id": "Um2lVAYoFNyV",
        "outputId": "bacea56a-4e33-479e-9c23-1602ddb0da47"
      },
      "execution_count": null,
      "outputs": [
        {
          "output_type": "execute_result",
          "data": {
            "text/plain": [
              "(array([ 2,  3,  4,  5,  6,  7,  8,  9, 10, 11, 12, 13, 14, 15, 16, 17, 18,\n",
              "        19, 20, 21, 22, 23, 24, 25]),)"
            ]
          },
          "metadata": {},
          "execution_count": 20
        }
      ]
    },
    {
      "cell_type": "code",
      "source": [
        "hist = np.histogram(x, bins = 10, range = (0,1), density = False)"
      ],
      "metadata": {
        "id": "NJ7sHyejEZOA"
      },
      "execution_count": null,
      "outputs": []
    },
    {
      "cell_type": "code",
      "source": [
        "x = modis_array[ modis_array[:, :, 2].nonzero() ] # .shape\n",
        "x"
      ],
      "metadata": {
        "colab": {
          "base_uri": "https://localhost:8080/"
        },
        "id": "SY6kuRpCFMuq",
        "outputId": "1e1cdf27-dad8-43cf-843b-bcb9d9bf1816"
      },
      "execution_count": null,
      "outputs": [
        {
          "output_type": "execute_result",
          "data": {
            "text/plain": [
              "array([[0.6468, 0.6042, 0.71  , ..., 0.7276, 0.6856, 0.6265],\n",
              "       [0.6708, 0.6522, 0.7151, ..., 0.6961, 0.6506, 0.5872],\n",
              "       [0.6444, 0.6929, 0.7422, ..., 0.6836, 0.6405, 0.6104],\n",
              "       ...,\n",
              "       [0.2968, 0.3213, 0.3594, ..., 0.4369, 0.5526, 0.4738],\n",
              "       [0.277 , 0.2945, 0.3577, ..., 0.4499, 0.5976, 0.5589],\n",
              "       [0.2823, 0.3139, 0.3373, ..., 0.4714, 0.5821, 0.4318]])"
            ]
          },
          "metadata": {},
          "execution_count": 74
        }
      ]
    },
    {
      "cell_type": "code",
      "source": [
        "b = np.expand_dims(x, axis=-1)\n",
        "b"
      ],
      "metadata": {
        "colab": {
          "base_uri": "https://localhost:8080/"
        },
        "id": "JVwTDDqBJeLm",
        "outputId": "e845a25e-f0dd-4dc6-aca6-4c2a0f0cc032"
      },
      "execution_count": null,
      "outputs": [
        {
          "output_type": "execute_result",
          "data": {
            "text/plain": [
              "array([[0.6468],\n",
              "       [0.6042],\n",
              "       [0.6708],\n",
              "       ...,\n",
              "       [0.2945],\n",
              "       [0.2823],\n",
              "       [0.3139]])"
            ]
          },
          "metadata": {},
          "execution_count": 67
        }
      ]
    },
    {
      "cell_type": "code",
      "source": [
        "h, w = modis_array[:, :, 2].shape\n",
        "count = 0\n",
        "\n",
        "for i in range(h):\n",
        "  for j in range(w):\n",
        "    if modis_array[i, j, 2] > 0:\n",
        "      count += 1"
      ],
      "metadata": {
        "id": "jdxLZLXYLDRs"
      },
      "execution_count": null,
      "outputs": []
    },
    {
      "cell_type": "code",
      "source": [
        "count"
      ],
      "metadata": {
        "colab": {
          "base_uri": "https://localhost:8080/"
        },
        "id": "B8U0Ov8VLfRI",
        "outputId": "8f64706e-bcc3-4645-f371-cf7abc80cb21"
      },
      "execution_count": null,
      "outputs": [
        {
          "output_type": "execute_result",
          "data": {
            "text/plain": [
              "64412"
            ]
          },
          "metadata": {},
          "execution_count": 84
        }
      ]
    },
    {
      "cell_type": "code",
      "source": [
        "h, w, h*w"
      ],
      "metadata": {
        "id": "nDixTKu8LkaU",
        "outputId": "ee85a9a2-0aa0-4d3d-d9c4-2d32081c37a8",
        "colab": {
          "base_uri": "https://localhost:8080/"
        }
      },
      "execution_count": null,
      "outputs": [
        {
          "output_type": "execute_result",
          "data": {
            "text/plain": [
              "(460, 1115, 512900)"
            ]
          },
          "metadata": {},
          "execution_count": 85
        }
      ]
    },
    {
      "cell_type": "code",
      "source": [
        "y.shape"
      ],
      "metadata": {
        "colab": {
          "base_uri": "https://localhost:8080/"
        },
        "id": "o0_kbh-jG68L",
        "outputId": "ef2c19e4-509f-4dbd-e631-cadb8215ebbc"
      },
      "execution_count": null,
      "outputs": [
        {
          "output_type": "execute_result",
          "data": {
            "text/plain": [
              "(20614098,)"
            ]
          },
          "metadata": {},
          "execution_count": 43
        }
      ]
    },
    {
      "cell_type": "code",
      "source": [
        "hist"
      ],
      "metadata": {
        "colab": {
          "base_uri": "https://localhost:8080/"
        },
        "id": "SI74LV-8Em7V",
        "outputId": "e111813c-ad53-4555-a7cf-3c67d70aabc3"
      },
      "execution_count": null,
      "outputs": [
        {
          "output_type": "execute_result",
          "data": {
            "text/plain": [
              "(array([3841282,  686326, 6245727, 6179249, 4767786, 3567224, 3090031,\n",
              "        3062324, 2018441,   35850]),\n",
              " array([0. , 0.1, 0.2, 0.3, 0.4, 0.5, 0.6, 0.7, 0.8, 0.9, 1. ]))"
            ]
          },
          "metadata": {},
          "execution_count": 79
        }
      ]
    },
    {
      "cell_type": "code",
      "source": [
        "get_bins_from_observation( modis_array[:, :, 2] , 10, max_val=1, min_val=0)"
      ],
      "metadata": {
        "colab": {
          "base_uri": "https://localhost:8080/"
        },
        "id": "M5J_aRnLI-16",
        "outputId": "24048cef-815a-43a7-e7b7-416946805d0d"
      },
      "execution_count": null,
      "outputs": [
        {
          "output_type": "execute_result",
          "data": {
            "text/plain": [
              "array([4.4000e+01, 2.0450e+03, 2.8522e+04, 1.6553e+04, 9.8880e+03,\n",
              "       5.0520e+03, 2.0090e+03, 2.9500e+02, 4.0000e+00, 0.0000e+00])"
            ]
          },
          "metadata": {},
          "execution_count": 80
        }
      ]
    },
    {
      "cell_type": "code",
      "source": [
        "modis_array[:, :, 2].shape"
      ],
      "metadata": {
        "colab": {
          "base_uri": "https://localhost:8080/"
        },
        "id": "-Ltozb_RKLBK",
        "outputId": "b2422ceb-353f-441e-9ffa-22a01771fecf"
      },
      "execution_count": null,
      "outputs": [
        {
          "output_type": "execute_result",
          "data": {
            "text/plain": [
              "(460, 1115)"
            ]
          },
          "metadata": {},
          "execution_count": 72
        }
      ]
    }
  ]
}